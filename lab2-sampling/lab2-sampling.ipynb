{
 "cells": [
  {
   "cell_type": "code",
   "execution_count": null,
   "metadata": {
    "deletable": false,
    "editable": false
   },
   "outputs": [],
   "source": [
    "# Initialize Otter\n",
    "import otter\n",
    "grader = otter.Notebook(\"lab2-sampling.ipynb\")"
   ]
  },
  {
   "cell_type": "code",
   "execution_count": null,
   "metadata": {},
   "outputs": [],
   "source": [
    "import numpy as np\n",
    "import pandas as pd\n",
    "import altair as alt\n",
    "# disable row limit for plotting\n",
    "alt.data_transformers.disable_max_rows()\n",
    "# uncomment to ensure graphics display with pdf export\n",
    "# alt.renderers.enable('mimetype')"
   ]
  },
  {
   "attachments": {},
   "cell_type": "markdown",
   "metadata": {},
   "source": [
    "# Lab 2: Sampling designs and statistical bias\n",
    "\n",
    "In this lab you'll explore through simulation how nonrandom sampling can produce datasets with statistical properties that are distored relative to the population that the sample was drawn from. This kind of distortion is known as **bias**. \n",
    "\n",
    "In common usage, the word 'bias' means disproportion or unfairness. In statistics, the concept has the same connotation -- biased sampling favors certain observational units over others, and biased estimates are estimates that favor larger or smaller values than the truth. The goal of this lab is to refine your understanding about what statistical bias is and is not and develop your intuition about potential mechanisms by which bias is introduced and the effect that this can have on sample statistics. \n",
    "\n",
    "**Objectives**:\n",
    "\n",
    "* Simulate biased and unbiased sampling designs\n",
    "* Examine the impact of sampling bias on the sample mean\n",
    "* Apply a simple bias correction by inverse probability weighting\n",
    "\n",
    "# Background\n",
    "\n",
    "## Sampling designs\n",
    "\n",
    "The **sampling design** of a study refers to _**the way observational units are selected**_ from the collection of all observational units. Any design can be expressed by the probability that each unit is included in the sample. In a random sample, all units are equally likely to be included.\n",
    "\n",
    "For example, you might want to learn about U.S. residents (population), but only be able for ethical or practical reasons to study adults (sampling frame), and decide to do a mail survey of 2000 randomly selected addresses in each state (sampling design). Each collection of 2000 addresses may constitute a random sample of households, but even with a 100% response rate the survey results will not be a random sample of adult U.S. residents because individuals share addresses and the population sizes are different from state to state.\n",
    "\n",
    "## Bias\n",
    "\n",
    "Formally, **bias** describes _**the 'typical' deviation of a sample statistic the correspongind population value**_. \n",
    "\n",
    "For example, if a particular sampling design tends to produce an average measurement around 1.5 units, but the true average in the population is 2 units, then the estimate has a bias of -0.5 units. The language 'typical' and 'tends to' is important here. Estimates are never perfect, so just because an estimate is off by -0.5 units for one sample doesn't make it biased -- it is only biased if it is *consistently* off. \n",
    "\n",
    "Although bias is technically a property of a sample statistic (like the sample average), it's common to talk about a biased *sample* -- this term refers to a dataset collected using a sampling design that produces biased statistics. \n",
    "\n",
    "This is exactly what you'll explore in this lab -- the relationship between sampling design and bias.\n",
    "\n",
    "## Simulated data\n",
    "\n",
    "You will be simulating data in this lab. **Simulation** is a great means of exploration _**because you can control the population properties**_, which are generally unknown in practice. \n",
    "\n",
    "When working with real data, you just have one dataset, and you don't know any of the properties of the population or what might have happened if a different sample were collected. That makes it difficult to understand sampling variation and impossible to directly compare the sample properties to the population properties.\n",
    "\n",
    "With simulated data, by contrast, you control how data are generated with exact precision -- so by extension, you know everything there is to know about the population. In addition, repeated simulation of data makes it possible to explore the typical behavior of a particular sampling design, so you can learn 'what usually happens' for a particular sampling design by direct observation.\n",
    "\n",
    "# Scenario 1: eucalyptus seed diameters\n",
    "\n",
    "In this scenario you'll compare the sample mean and the distribution of sample values for a single viariable with the population mean and distribution of population values for an unbiased sampling design.\n",
    "\n",
    "## Hypothetical population\n",
    "\n",
    "To provide a little context to this scenario, imagine that you're measuring eucalyptus seeds to determine their typical diameter. The cell below simulates diameter measurements for a hypothetical population of 5000 seeds; imagine that this is the total number of seeds in a small grove at some point in time."
   ]
  },
  {
   "cell_type": "code",
   "execution_count": null,
   "metadata": {},
   "outputs": [],
   "source": [
    "# simulate seed diameters\n",
    "np.random.seed(40221) # for reproducibility\n",
    "population = pd.DataFrame(\n",
    "    data = {'diameter': np.random.gamma(shape = 2, scale = 1/2, size = 5000), \n",
    "            'seed': np.arange(5000)}\n",
    ").set_index('seed')\n",
    "\n",
    "# check first few rows\n",
    "population.head(3)"
   ]
  },
  {
   "attachments": {},
   "cell_type": "markdown",
   "metadata": {},
   "source": [
    "### Question 1\n",
    "\n",
    "Calculate the mean diameter for the hypothetical population and store the value as `mean_diameter`."
   ]
  },
  {
   "cell_type": "code",
   "execution_count": null,
   "metadata": {
    "tags": []
   },
   "outputs": [],
   "source": [
    "mean_pop_diameter = ...\n",
    "\n",
    "mean_pop_diameter"
   ]
  },
  {
   "cell_type": "code",
   "execution_count": null,
   "metadata": {
    "deletable": false,
    "editable": false
   },
   "outputs": [],
   "source": [
    "grader.check(\"q1\")"
   ]
  },
  {
   "attachments": {},
   "cell_type": "markdown",
   "metadata": {},
   "source": [
    "### Question 2\n",
    "\n",
    "Calculate the standard deviation of diameters for the hypothetical population and store the value as `std_dev_pop_diameter`."
   ]
  },
  {
   "cell_type": "code",
   "execution_count": null,
   "metadata": {
    "tags": []
   },
   "outputs": [],
   "source": [
    "std_dev_pop_diameter = ...\n",
    "std_dev_pop_diameter"
   ]
  },
  {
   "cell_type": "code",
   "execution_count": null,
   "metadata": {
    "deletable": false,
    "editable": false
   },
   "outputs": [],
   "source": [
    "grader.check(\"q2\")"
   ]
  },
  {
   "cell_type": "markdown",
   "metadata": {},
   "source": [
    "The cell below produces a histogram of the population values -- the distribution of diameter measurements among the hypothetical population -- with a vertical line indicating the population mean."
   ]
  },
  {
   "cell_type": "code",
   "execution_count": null,
   "metadata": {},
   "outputs": [],
   "source": [
    "# base layer\n",
    "base_pop = alt.Chart(population).properties(width = 400, height = 300)\n",
    "\n",
    "# histogram of diameter measurements\n",
    "hist_pop = base_pop.mark_bar(opacity = 0.8).encode(\n",
    "    x = alt.X('diameter', \n",
    "              bin = alt.Bin(maxbins = 20), \n",
    "              title = 'Diameter (mm)', \n",
    "              scale = alt.Scale(domain = (0, 6))),\n",
    "    y = alt.Y('count()', title = 'Number of seeds in population')\n",
    ")\n",
    "\n",
    "# vertical line for population mean\n",
    "mean_pop = base_pop.mark_rule(color='blue').encode(\n",
    "    x = 'mean(diameter)'\n",
    ")\n",
    "\n",
    "# display\n",
    "hist_pop + mean_pop"
   ]
  },
  {
   "attachments": {},
   "cell_type": "markdown",
   "metadata": {},
   "source": [
    "## Random sampling\n",
    "\n",
    "Imagine that your sampling design involves collecting bunches of plant material from several locations in the grove and sifting out the seeds with a fine sieve until you obtaining 250 seeds. We'll suppose that using your collection method, any of the 5000 seeds is equally likely to be obtained, so that your 250 seeds comprise a *random sample* of the population. \n",
    "\n",
    "We can simulate samples obtained using your hypothetical design by drawing values without replacement from the population."
   ]
  },
  {
   "cell_type": "code",
   "execution_count": null,
   "metadata": {},
   "outputs": [],
   "source": [
    "# draw a random sample of seeds\n",
    "np.random.seed(40221) # for reproducibility\n",
    "sample = population.sample(n = 250, replace = False)"
   ]
  },
  {
   "attachments": {},
   "cell_type": "markdown",
   "metadata": {},
   "source": [
    "### Question 3\n",
    "\n",
    "Calculate the mean diameter of seeds in the simulated sample and store the value as `mean_sample_diameter`."
   ]
  },
  {
   "cell_type": "code",
   "execution_count": null,
   "metadata": {
    "tags": []
   },
   "outputs": [],
   "source": [
    "mean_sample_diameter = ...\n",
    "mean_sample_diameter"
   ]
  },
  {
   "cell_type": "code",
   "execution_count": null,
   "metadata": {
    "deletable": false,
    "editable": false
   },
   "outputs": [],
   "source": [
    "grader.check(\"q3\")"
   ]
  },
  {
   "attachments": {},
   "cell_type": "markdown",
   "metadata": {},
   "source": [
    "You should see above that the sample mean is close to the population mean. In fact, *all* sample statistics are close to the population; this can be seen by comparing the distribution of sample values with the distribution of population values."
   ]
  },
  {
   "cell_type": "code",
   "execution_count": null,
   "metadata": {},
   "outputs": [],
   "source": [
    "# base layer\n",
    "base_samp = alt.Chart(sample).properties(width = 400, height = 300)\n",
    "\n",
    "# histogram of diameter measurements\n",
    "hist_samp = base_samp.mark_bar(opacity = 0.8).encode(\n",
    "    x = alt.X('diameter', \n",
    "              bin = alt.Bin(maxbins = 20),\n",
    "              scale = alt.Scale(domain = (0, 6)),\n",
    "              title = 'Diameter (mm)'),\n",
    "    y = alt.Y('count()', title = 'Number of seeds in sample')\n",
    ")\n",
    "\n",
    "# vertical line for population mean\n",
    "mean_samp = base_samp.mark_rule(color='blue').encode(\n",
    "    x = 'mean(diameter)'\n",
    ")\n",
    "\n",
    "# display\n",
    "hist_samp + mean_samp | hist_pop + mean_pop"
   ]
  },
  {
   "attachments": {},
   "cell_type": "markdown",
   "metadata": {},
   "source": [
    "While there are some small differences, the overall shape is similar and the sample mean is almost exactly the same as the population mean. So with this sampling design, you obtained a dataset with few distortions of the population properties, and the sample mean is a good estimate of the population mean.\n",
    "\n",
    "### Assessing bias through simulation\n",
    "\n",
    "You may wonder: *does that happen all the time, or was this just a lucky draw?* This question can be answered by simulating a large number of samples and checking the average behavior to see whether the undistorted representation of the population is typical for this sampling design.\n",
    "\n",
    "The cell below estimates the bias of the sample mean by:\n",
    "\n",
    "* drawing 1000 samples of size 300;\n",
    "* storing the sample mean from each sample; \n",
    "* computing the average difference between the sample means and the population mean."
   ]
  },
  {
   "cell_type": "code",
   "execution_count": null,
   "metadata": {},
   "outputs": [],
   "source": [
    "np.random.seed(40221) # for reproducibility\n",
    "\n",
    "# number of samples to simulate\n",
    "nsim = 1000\n",
    "\n",
    "# storage for the sample means\n",
    "samp_means = np.zeros(nsim)\n",
    "\n",
    "# repeatedly sample and store the sample mean\n",
    "for i in range(0, nsim):\n",
    "    samp_means[i] = population.sample(n = 250, replace = False).diameter.mean()"
   ]
  },
  {
   "cell_type": "markdown",
   "metadata": {},
   "source": [
    "The bias of the sample mean is its average distance from the population mean. We can estimate this using our simulation results as follows:"
   ]
  },
  {
   "cell_type": "code",
   "execution_count": null,
   "metadata": {},
   "outputs": [],
   "source": [
    "# bias\n",
    "samp_means.mean() - population.diameter.mean()"
   ]
  },
  {
   "attachments": {},
   "cell_type": "markdown",
   "metadata": {},
   "source": [
    "So the average error observed in 1000 simulations was about 0.001 mm! This suggests that the sample mean is *unbiased*: on average, there is no error. Therefore, at least with respect to estimating the population mean, random samples appear to be *unbiased samples*.\n",
    "\n",
    "However, **unbiasedness does not mean that you won't observe estimation error**. There is a natural amount of variability from sample to sample, because in each sample a different collection of seeds is measured. We can estimate this as well using the simulation results by checking the standard deviation of the sample means across all 1000 samples:"
   ]
  },
  {
   "cell_type": "code",
   "execution_count": null,
   "metadata": {},
   "outputs": [],
   "source": [
    "samp_means.std()"
   ]
  },
  {
   "attachments": {},
   "cell_type": "markdown",
   "metadata": {},
   "source": [
    "So on average, the sample mean varies by about 0.04 mm from sample to sample.\n",
    "\n",
    "We could also check how much the sample mean deviates from the population mean on average by computing *root mean squared error*:"
   ]
  },
  {
   "cell_type": "code",
   "execution_count": null,
   "metadata": {},
   "outputs": [],
   "source": [
    "np.sqrt(np.sum((samp_means - population.diameter.mean())**2)/1000)"
   ]
  },
  {
   "attachments": {},
   "cell_type": "markdown",
   "metadata": {},
   "source": [
    "Note that this is very close to the variance of the sample mean across simulations, but not exactly the same; this latter calculation measures the spread around the population mean, and is a conventional measure of estimation accuracy.\n",
    "\n",
    "The cell below plots a histogram representing the distribution of values of the sample mean across the 1000 samples you simulated (this is known as the *sampling distribution* of the sample mean). It shows a peak right at the population mean (blue vertical line) but some symmetric variation to either side -- most values are between about 0.93 and 1.12."
   ]
  },
  {
   "cell_type": "code",
   "execution_count": null,
   "metadata": {},
   "outputs": [],
   "source": [
    "# plot the simulated sampling distribution\n",
    "sampling_dist = alt.Chart(pd.DataFrame({'sample mean': samp_means})).mark_bar().encode(\n",
    "    x = alt.X('sample mean', bin = alt.Bin(maxbins = 30), title = 'Value of sample mean'),\n",
    "    y = alt.Y('count()', title = 'Number of simulations')\n",
    ")\n",
    "\n",
    "sampling_dist + mean_pop"
   ]
  },
  {
   "attachments": {},
   "cell_type": "markdown",
   "metadata": {},
   "source": [
    "## Biased sampling\n",
    "\n",
    "In this scenario, you'll use the same hypothetical population of eucalyptus seed diameter measurements and explore the impact of a biased sampling design.\n",
    "\n",
    "In the first design, you were asked to imagine that you collected and sifted plant material to obtain seeds. Suppose you didn't know that the typical seed is about 1mm in diameter and decided to use a sieve that is a little too coarse, tending only to sift out larger seeds and letting smaller seeds pass through. As a result, small seeds have a lower probability of being included in the sample and large seeds have a higher probability of being included in the sample. \n",
    "\n",
    "This kind of sampling design can be described by assigning differential *sampling weights* $w_1, \\dots, w_N$ to each observation. The cell below defines some hypothetical weights such that larger diameters are more likely to be sampled."
   ]
  },
  {
   "cell_type": "code",
   "execution_count": null,
   "metadata": {},
   "outputs": [],
   "source": [
    "population_mod1 = population.copy()"
   ]
  },
  {
   "cell_type": "code",
   "execution_count": null,
   "metadata": {
    "tags": []
   },
   "outputs": [],
   "source": [
    "# inclusion weight as a function of seed diameter\n",
    "def weight_fn(x, r = 10, c = 1.5):\n",
    "    out = 1/(1 + np.e**(-r*(x - c)))\n",
    "    return out\n",
    "\n",
    "# create a grid of values to use in plotting the function\n",
    "grid = np.linspace(0, 6, 100)\n",
    "weight_df = pd.DataFrame(\n",
    "    {'seed diameter': grid,\n",
    "     'weight': weight_fn(grid)}\n",
    ")\n",
    "\n",
    "# plot of inclusion probability against diameter\n",
    "weight_plot = alt.Chart(weight_df).mark_area(opacity = 0.3, line = True).encode(\n",
    "    x = 'seed diameter',\n",
    "    y = 'weight'\n",
    ").properties(height = 100)\n",
    "\n",
    "# show plot\n",
    "weight_plot"
   ]
  },
  {
   "attachments": {},
   "cell_type": "markdown",
   "metadata": {},
   "source": [
    "The actual probability that a seed is included in the sample -- its **inclusion probability** -- is proportional to the sampling weight. These inclusion probabilities $\\pi_i$ can be calculated by normalizing the weights $w_i$ over all seeds in the population $i = 1, \\dots, 5000$:\n",
    "\n",
    "$$\\pi_i = \\frac{w_i}{\\sum_i w_i}$$\n",
    "\n",
    "It may help you to picture how the weights will be used in sampling to line up this plot with the population distribution. In effect, we will sample more from the right tail of the population distribution, where the weight is nearest to 1."
   ]
  },
  {
   "cell_type": "code",
   "execution_count": null,
   "metadata": {},
   "outputs": [],
   "source": [
    "hist_pop & weight_plot"
   ]
  },
  {
   "cell_type": "markdown",
   "metadata": {},
   "source": [
    "The following cell draws a sample with replacement from the hypothetical seed population *with seeds weighted according to the inclusion probability given by the function above*."
   ]
  },
  {
   "cell_type": "code",
   "execution_count": null,
   "metadata": {},
   "outputs": [],
   "source": [
    "# assign weight to each seed\n",
    "population_mod1['weight'] = weight_fn(population_mod1.diameter)\n",
    "\n",
    "# draw weighted sample\n",
    "np.random.seed(40721)\n",
    "sample2 = population_mod1.sample(n = 250, replace = False, weights = 'weight').loc[:, ['diameter']]"
   ]
  },
  {
   "attachments": {},
   "cell_type": "markdown",
   "metadata": {},
   "source": [
    "### Question 4\n",
    "\n",
    "Calculate the mean diameter of seeds in the simulated sample and store the value as `mean_sample2_diameter`."
   ]
  },
  {
   "cell_type": "code",
   "execution_count": null,
   "metadata": {
    "tags": []
   },
   "outputs": [],
   "source": [
    "mean_sample2_diameter = ...\n",
    "\n",
    "mean_sample2_diameter"
   ]
  },
  {
   "cell_type": "code",
   "execution_count": null,
   "metadata": {
    "deletable": false,
    "editable": false
   },
   "outputs": [],
   "source": [
    "grader.check(\"q4\")"
   ]
  },
  {
   "attachments": {},
   "cell_type": "markdown",
   "metadata": {},
   "source": [
    "<!-- BEGIN QUESTION -->\n",
    "\n",
    "### Question 5\n",
    "\n",
    "Show side-by-side plots of the distribution of sample values and the distribution of population values, with vertical lines indicating the corresponding mean on each plot. \n",
    "\n",
    "*Hint*: copy the cell that produced this plot in scenario 1 and replace `sample` with `sample2`. Utilizing different methods is also welcome."
   ]
  },
  {
   "cell_type": "code",
   "execution_count": null,
   "metadata": {
    "scrolled": true,
    "tags": []
   },
   "outputs": [],
   "source": [
    "# base layer\n",
    "base_samp = ...\n",
    "\n",
    "# histogram of diameter measurements\n",
    "hist_samp = ...\n",
    "\n",
    "# vertical line for population mean\n",
    "mean_samp = ...\n",
    "\n",
    "# combine layers\n",
    "\n",
    "# display\n",
    "hist_samp + mean_samp | hist_pop + mean_pop"
   ]
  },
  {
   "attachments": {},
   "cell_type": "markdown",
   "metadata": {},
   "source": [
    "<!-- END QUESTION -->\n",
    "\n",
    "### Assessing bias through simulation\n",
    "\n",
    "Here you'll mimic the simulation done in scenario 1 to assess the bias of the sample mean under this new sampling design."
   ]
  },
  {
   "cell_type": "code",
   "execution_count": null,
   "metadata": {},
   "outputs": [],
   "source": [
    "population_mod1.head()"
   ]
  },
  {
   "attachments": {},
   "cell_type": "markdown",
   "metadata": {},
   "source": [
    "### Question 6\n",
    "\n",
    "Investigate the bias of the sample mean by:\n",
    "\n",
    "* drawing 1000 samples with observations weighted by inclusion probability;\n",
    "* storing the collection of sample means from each sample as `samp_means`; \n",
    "* computing the average difference between the sample means and the population mean (in that order!) and storing the result as `avg_diff`.\n",
    "\n",
    "(*Hint*: copy the cell that performs this simulation in scenario 1, and be sure to replace `population` with `population_mod1` and adjust the sampling step to include `weights = ...` with the appropriate argument.)"
   ]
  },
  {
   "cell_type": "code",
   "execution_count": null,
   "metadata": {
    "tags": []
   },
   "outputs": [],
   "source": [
    "np.random.seed(40221) # for reproducibility\n",
    "\n",
    "# number of samples to simulate\n",
    "\n",
    "# storage for the sample means\n",
    "\n",
    "# repeatedly sample and store the sample mean in the samp_means array\n",
    "\n",
    "# bias\n",
    "\n",
    "avg_diff"
   ]
  },
  {
   "cell_type": "code",
   "execution_count": null,
   "metadata": {
    "deletable": false,
    "editable": false
   },
   "outputs": [],
   "source": [
    "grader.check(\"q6\")"
   ]
  },
  {
   "attachments": {},
   "cell_type": "markdown",
   "metadata": {},
   "source": [
    "<!-- BEGIN QUESTION -->\n",
    "\n",
    "### Question 7\n",
    "\n",
    "Does this sampling design seem to introduce bias? If so, does the sample mean tend to over-estimate or under-estimate the population mean?"
   ]
  },
  {
   "cell_type": "markdown",
   "metadata": {},
   "source": [
    "_Type your answer here, replacing this text._"
   ]
  },
  {
   "attachments": {},
   "cell_type": "markdown",
   "metadata": {},
   "source": [
    "<!-- END QUESTION -->\n",
    "\n",
    "# Scenario 2: hawks\n",
    "\n",
    "In this scenario, you'll explore sampling from a population with group structure -- frequently bias can arise from inadvertent uneven sampling of groups within a population.\n",
    "\n",
    "## Hypothetical population\n",
    "\n",
    "Suppose you're interested in determining the average beak-to-tail length of red-tailed hawks to help differentiate them from other hawks by sight at a distance. Females and males differ slightly in length -- females are generally larger than males. The cell below generates length measurements for a hypothetical population of 3000 females and 2000 males."
   ]
  },
  {
   "cell_type": "code",
   "execution_count": null,
   "metadata": {},
   "outputs": [],
   "source": [
    "# for reproducibility\n",
    "np.random.seed(40721)\n",
    "\n",
    "# simulate hypothetical population\n",
    "female_hawks = pd.DataFrame(\n",
    "    data = {'length': np.random.normal(loc = 57.5, scale = 3, size = 3000),\n",
    "            'sex': np.repeat('female', 3000)}\n",
    ")\n",
    "\n",
    "male_hawks = pd.DataFrame(\n",
    "    data = {'length': np.random.normal(loc = 50.5, scale = 3, size = 2000),\n",
    "            'sex': np.repeat('male', 2000)}\n",
    ")\n",
    "\n",
    "population_hawks = pd.concat([female_hawks, male_hawks], axis = 0)\n",
    "\n",
    "# preview\n",
    "population_hawks.groupby('sex').head(2)"
   ]
  },
  {
   "cell_type": "markdown",
   "metadata": {},
   "source": [
    "The cell below produces a histogram of the lengths in the population overall (bottom panel) and when distinguished by sex (top panel)."
   ]
  },
  {
   "cell_type": "code",
   "execution_count": null,
   "metadata": {},
   "outputs": [],
   "source": [
    "base = alt.Chart(population_hawks).properties(height = 200)\n",
    "\n",
    "hist = base.mark_bar(opacity = 0.5, color = 'red').encode(\n",
    "    x = alt.X('length', \n",
    "              bin = alt.Bin(maxbins = 40), \n",
    "              scale = alt.Scale(domain = (40, 70)),\n",
    "              title = 'length (cm)'),\n",
    "    y = alt.Y('count()', \n",
    "              stack = None,\n",
    "              title = 'number of birds')\n",
    ")\n",
    "\n",
    "hist_bysex = hist.encode(color = 'sex').properties(height = 100)\n",
    "\n",
    "hist_bysex & hist"
   ]
  },
  {
   "cell_type": "markdown",
   "metadata": {},
   "source": [
    "The population mean -- average length of both female and male red-tailed hawks -- is shown below."
   ]
  },
  {
   "cell_type": "code",
   "execution_count": null,
   "metadata": {},
   "outputs": [],
   "source": [
    "# population mean\n",
    "population_hawks.mean(numeric_only = True)"
   ]
  },
  {
   "cell_type": "markdown",
   "metadata": {},
   "source": [
    "First try drawing a random sample from the population:"
   ]
  },
  {
   "cell_type": "code",
   "execution_count": null,
   "metadata": {},
   "outputs": [],
   "source": [
    "# for reproducibility\n",
    "np.random.seed(40821)\n",
    "\n",
    "# randomly sample\n",
    "sample_hawks = population_hawks.sample(n = 300, replace = False)"
   ]
  },
  {
   "attachments": {},
   "cell_type": "markdown",
   "metadata": {},
   "source": [
    "### Question 8\n",
    "\n",
    "Do you expect that the sample will contain equal numbers of male and female hawks? Think about this for a moment (you don't have to provide a written answer), and then compute the proportions of individuals in the sample of each sex and store the result as a dataframe named `proportion_hawks_sample`. The dataframe should have one column named `proportion` and two rows indexed by `sex`. \n",
    "\n",
    "*Hint*: group by sex, use `.count()`, and divide by the sample size. Be sure to rename the output column appropriately, as the default behavior produces a column called `length`."
   ]
  },
  {
   "cell_type": "code",
   "execution_count": null,
   "metadata": {
    "tags": []
   },
   "outputs": [],
   "source": [
    "proportion_hawks_sample = ...\n",
    "\n",
    "proportion_hawks_sample"
   ]
  },
  {
   "cell_type": "code",
   "execution_count": null,
   "metadata": {
    "deletable": false,
    "editable": false
   },
   "outputs": [],
   "source": [
    "grader.check(\"q8\")"
   ]
  },
  {
   "cell_type": "markdown",
   "metadata": {},
   "source": [
    "The sample mean is shown below, and is fairly close to the population mean. This should be expected, since you already saw in scenario 1 that random sampling is an unbiased sampling design with respect to the mean."
   ]
  },
  {
   "cell_type": "code",
   "execution_count": null,
   "metadata": {},
   "outputs": [],
   "source": [
    "sample_hawks.mean(numeric_only = True)"
   ]
  },
  {
   "attachments": {},
   "cell_type": "markdown",
   "metadata": {},
   "source": [
    "## Biased sampling\n",
    "\n",
    "Let's now consider a biased sampling design. Usually, length measurements are collected from dead specimens collected opportunistically. Imagine that male mortality is higher, so there are better chances of finding dead males than dead females. Suppose in particular that specimens are five times as likely to be male; to represent this situation, we'll assign sampling weights of 5/6 to all male hawks and weights of 1/6 to all female hawks."
   ]
  },
  {
   "cell_type": "code",
   "execution_count": null,
   "metadata": {},
   "outputs": [],
   "source": [
    "def weight_fn(sex, p = 5/6):\n",
    "    if sex == 'male':\n",
    "        out = p\n",
    "    else:\n",
    "        out = 1 - p\n",
    "    return out\n",
    "\n",
    "weight_df = pd.DataFrame(\n",
    "    {'length': [50.5, 57.5],\n",
    "     'weight': [5/6, 1/6],\n",
    "     'sex': ['male', 'female']})\n",
    "\n",
    "wt = alt.Chart(weight_df).mark_bar(opacity = 0.5).encode(\n",
    "    x = alt.X('length', scale = alt.Scale(domain = (40, 70))),\n",
    "    y = alt.Y('weight', scale = alt.Scale(domain = (0, 1))),\n",
    "    color = 'sex'\n",
    ").properties(height = 70)\n",
    "\n",
    "hist_bysex & wt"
   ]
  },
  {
   "attachments": {},
   "cell_type": "markdown",
   "metadata": {},
   "source": [
    "### Question 9\n",
    "\n",
    "Draw a weighted sample `sample_hawks_biased` from the population `population_hawks` using the weights defined by `weight_fn`, and compute and store the value of the sample mean as `sample_hawks_biased_mean`."
   ]
  },
  {
   "cell_type": "code",
   "execution_count": null,
   "metadata": {
    "tags": []
   },
   "outputs": [],
   "source": [
    "# for reproducibility\n",
    "np.random.seed(40821)\n",
    "\n",
    "# assign weights\n",
    "\n",
    "# randomly sample\n",
    "\n",
    "# compute mean\n",
    "sample_hawks_biased_mean = ...\n",
    "\n",
    "sample_hawks_biased_mean"
   ]
  },
  {
   "cell_type": "code",
   "execution_count": null,
   "metadata": {
    "deletable": false,
    "editable": false
   },
   "outputs": [],
   "source": [
    "grader.check(\"q9\")"
   ]
  },
  {
   "attachments": {},
   "cell_type": "markdown",
   "metadata": {},
   "source": [
    "### Question 10\n",
    "\n",
    "Investigate the bias of the sample mean by:\n",
    "\n",
    "* drawing 1000 samples with observations weighted by `weight_fn`;\n",
    "* storing the sample mean from each sample as `samp_means_hawks`; \n",
    "* computing the average difference between the sample means and the population mean and storing the resulting value as `avg_diff_hawks`."
   ]
  },
  {
   "cell_type": "code",
   "execution_count": null,
   "metadata": {
    "tags": []
   },
   "outputs": [],
   "source": [
    "np.random.seed(40221) # for reproducibility\n",
    "\n",
    "# number of samples to simulate\n",
    "\n",
    "# storage for the sample means\n",
    "samp_means_hawks = ...\n",
    "\n",
    "# repeatedly sample and store the sample mean in the samp_means array\n",
    "\n",
    "# bias\n",
    "avg_diff_hawks = ...\n",
    "\n",
    "avg_diff_hawks"
   ]
  },
  {
   "cell_type": "code",
   "execution_count": null,
   "metadata": {
    "deletable": false,
    "editable": false
   },
   "outputs": [],
   "source": [
    "grader.check(\"q10\")"
   ]
  },
  {
   "attachments": {},
   "cell_type": "markdown",
   "metadata": {},
   "source": [
    "<!-- BEGIN QUESTION -->\n",
    "\n",
    "### Question 11\n",
    "\n",
    "Reflect a moment on your simulation result in question 3c. If instead *female* mortality is higher and specimens for measurement are collected opportunistically, as described in the previous sampling design, do you expect that the average length in the sample will be an underestimate or an overestimate of the population mean? Explain why in 1-2 sentences, and carry out a simulation to check your intuition."
   ]
  },
  {
   "cell_type": "markdown",
   "metadata": {},
   "source": [
    "_Type your answer here, replacing this text._"
   ]
  },
  {
   "cell_type": "code",
   "execution_count": null,
   "metadata": {
    "tags": []
   },
   "outputs": [],
   "source": [
    "np.random.seed(40221) # for reproducibility\n",
    "\n",
    "# invert weights\n",
    "\n",
    "# storage for the sample means\n",
    "\n",
    "# repeatedly sample and store the sample mean\n",
    "\n",
    "# compute bias\n",
    "estimated_bias = ...\n",
    "\n",
    "estimated_bias"
   ]
  },
  {
   "attachments": {},
   "cell_type": "markdown",
   "metadata": {},
   "source": [
    "<!-- END QUESTION -->\n",
    "\n",
    "# Bias correction\n",
    "\n",
    "*What can be done if a sampling design is biased? Is there any remedy?* \n",
    "\n",
    "You've seen some examples above of how bias can arise from a sampling mechanism in which units have unequal chances of being selected in the sample. Ideally, we'd work with random samples all the time, but that's not very realistic in practice. Fortunately, biased sampling is not a hopeless case -- **it is possible to apply bias corrections if you have good information about which individuals were more likely to be sampled**.\n",
    "\n",
    "To illustrate how this would work, let's revisit the biased sampling in scenario 1 -- sampling larger eucalyptus seeds more often than smaller ones. Imagine you realize the mistake and conduct a quick experiment with your sieve to determine the proportion of seeds of each size that pass through, and use this to estimate the inclusion probabilities. (To simplify this excercise, we'll just use sampling weights we defined to calculate the actual inclusion probabilities.)\n",
    "\n",
    "The cell below generates the population and sample from scenario 2 again:"
   ]
  },
  {
   "cell_type": "code",
   "execution_count": null,
   "metadata": {},
   "outputs": [],
   "source": [
    "# simulate seed diameters\n",
    "np.random.seed(40221) # for reproducibility\n",
    "population3 = pd.DataFrame(\n",
    "    data = {'diameter': np.random.gamma(shape = 2, scale = 1/2, size = 5000), \n",
    "            'seed': np.arange(5000)}\n",
    ").set_index('seed')\n",
    "\n",
    "# probability of inclusion as a function of seed diameter\n",
    "def weight_fn(x, r = 2, c = 2):\n",
    "    out = 1/(1 + np.e**(-r*(x - c)))\n",
    "    return out\n",
    "\n",
    "# assign inclusion probability to each seed\n",
    "population3['samp_weight'] = weight_fn(population3.diameter)\n",
    "\n",
    "# draw weighted sample\n",
    "np.random.seed(40721)\n",
    "sample3 = population3.sample(n = 250, replace = False, weights = 'samp_weight')"
   ]
  },
  {
   "cell_type": "markdown",
   "metadata": {},
   "source": [
    "The sample mean and population mean you calculated earlier are shown below:"
   ]
  },
  {
   "cell_type": "code",
   "execution_count": null,
   "metadata": {},
   "outputs": [],
   "source": [
    "# print sample and population means\n",
    "pd.Series({'sample mean': sample3.diameter.mean(), 'population mean': population3.diameter.mean()})"
   ]
  },
  {
   "cell_type": "markdown",
   "metadata": {},
   "source": [
    "We can obtain an unbiased estimate of the population mean by computing a *weighted average* of the diameter measurements instead of the sample average after weighting the measurements in inverse proportion to the sampling weights:\n",
    "\n",
    "$$\\text{weighted average} = \\sum_{i = 1}^{250} \\underbrace{\\left(\\frac{w_i^{-1}}{\\sum_{j = 1}^{250} w_j^{-1}}\\right)}_{\\text{bias adjustment}} \\times \\text{diameter}_i$$\n",
    "\n",
    "This might look a little complicated, but the idea is simple -- the weighted average corrects for bias by simply up-weighting observations with a lower sampling weight and down-weighting observations with a higher sampling weight.\n",
    "\n",
    "The cell below performs this calcuation."
   ]
  },
  {
   "cell_type": "code",
   "execution_count": null,
   "metadata": {},
   "outputs": [],
   "source": [
    "# compute bias adjustment\n",
    "sample3['bias_adjustment'] = (sample3.samp_weight**(-1))/(sample3.samp_weight**(-1)).sum()\n",
    "\n",
    "# weight diameter measurements\n",
    "sample3['weighted_diameter'] = sample3.diameter*sample3.bias_adjustment\n",
    "\n",
    "# sum to compute weighted average\n",
    "sample3.weighted_diameter.sum()"
   ]
  },
  {
   "cell_type": "markdown",
   "metadata": {},
   "source": [
    "Notice that the weighted average successfully corrected for the bias:"
   ]
  },
  {
   "cell_type": "code",
   "execution_count": null,
   "metadata": {},
   "outputs": [],
   "source": [
    "# print sample and population means\n",
    "pd.Series({'sample mean': sample3.diameter.mean(),\n",
    "           'weighted average': sample3.weighted_diameter.sum(),\n",
    "           'population mean': population3.diameter.mean()})"
   ]
  },
  {
   "attachments": {},
   "cell_type": "markdown",
   "metadata": {},
   "source": [
    "### Question 12\n",
    "\n",
    "Perform a bias correction for the hawk scenario, using the actual inclusion probabilities, in the following steps:\n",
    "\n",
    "* redraw `sample_hawks_biased` from question 9 exactly (use the same RNG seed) and retain the `weight` column\n",
    "* compute the 'raw' sample mean and store the resulting value as `sample_mean`\n",
    "* compute a bias adjustment factor as illustrated above by normalizing the inverse weights, and append the adjustment factor as a new column in `sample_hawks_biased` named `bias_adjustment`\n",
    "* compute a weighted average length and store the resulting value as as `sample_mean_corrected`\n",
    "\n",
    "Print the raw and corrected sample means."
   ]
  },
  {
   "cell_type": "code",
   "execution_count": null,
   "metadata": {
    "tags": []
   },
   "outputs": [],
   "source": [
    "np.random.seed(40821) # for reproducibility\n",
    "\n",
    "# randomly sample\n",
    "sample_hawks_biased = \n",
    "\n",
    "# define bias correction factor\n",
    "\n",
    "# weight lengths and compute weighted sum\n",
    "sample_mean_corrected = ...\n",
    "\n",
    "# compare with unweighted mean\n",
    "sample_mean = ...\n",
    "\n",
    "# print\n",
    "print('sample mean', sample_mean)\n",
    "print('weighted mean', sample_mean_corrected)"
   ]
  },
  {
   "cell_type": "code",
   "execution_count": null,
   "metadata": {
    "deletable": false,
    "editable": false
   },
   "outputs": [],
   "source": [
    "grader.check(\"q12\")"
   ]
  },
  {
   "attachments": {},
   "cell_type": "markdown",
   "metadata": {},
   "source": [
    "# Takeaways\n",
    "\n",
    "These simulations illustrate through a few simple examples that random sampling -- a sampling design where each unit is equally likely to be selected -- produces unbiased sample means. That means that 'typical samples' will yield sample averages that are close to the population value. By contrast, deviations from random sampling tend to yield biased sample averages -- in other words, nonrandom sampling tends to distort the statistical properties of the population in ways that can produce misleading conclusions (if uncorrected).\n",
    "\n",
    "Here are a few key points to reflect on:\n",
    "\n",
    "* bias is not a property of an individual sample, but of a *sampling design*\n",
    "    - unbiased sampling designs tend to produce faithful representations of populations\n",
    "    - but there are no guarantees for individual samples\n",
    "\n",
    "\n",
    "* if you hadn't known the population distributions, there would have been no computational method to detect bias\n",
    "    - in practice, it's necessary to *reason* about whether the sampling design is sound\n",
    "\n",
    "\n",
    "* the sample statistic (sample mean) was only reliable when the sampling design was sound\n",
    "    - the quality of data collection is arguably more important for reaching reliable conclusions than the choice of statistic or method of analysis\n",
    "\n"
   ]
  },
  {
   "attachments": {},
   "cell_type": "markdown",
   "metadata": {},
   "source": [
    "# Submission\n",
    "\n",
    "\n",
    "1. Save the notebook. \n",
    "2. Restart the kernel and run all cells. (**CAUTION**: if your notebook is not saved, you will lose your work.)\n",
    "3. Carefully look through your notebook and verify that all computations execute correctly and all graphics are displayed clearly. You should see **no errors**; if there are any errors, make sure to correct them before you submit the notebook.\n",
    "4. Download the notebook as an `.ipynb` file. This is your backup copy.\n",
    "5. Export the notebook as PDF and upload to Gradescope."
   ]
  },
  {
   "cell_type": "markdown",
   "metadata": {
    "deletable": false,
    "editable": false
   },
   "source": [
    "---\n",
    "\n",
    "To double-check your work, the cell below will rerun all of the autograder tests."
   ]
  },
  {
   "cell_type": "code",
   "execution_count": null,
   "metadata": {
    "deletable": false,
    "editable": false
   },
   "outputs": [],
   "source": [
    "grader.check_all()"
   ]
  }
 ],
 "metadata": {
  "kernelspec": {
   "display_name": "Python 3",
   "language": "python",
   "name": "python3"
  },
  "language_info": {
   "codemirror_mode": {
    "name": "ipython",
    "version": 3
   },
   "file_extension": ".py",
   "mimetype": "text/x-python",
   "name": "python",
   "nbconvert_exporter": "python",
   "pygments_lexer": "ipython3",
   "version": "3.9.12"
  },
  "otter": {
   "OK_FORMAT": true,
   "tests": {
    "q1": {
     "name": "q1",
     "points": 1,
     "suites": [
      {
       "cases": [
        {
         "code": ">>> (0 < mean_pop_diameter) and (mean_pop_diameter < 2)\nTrue",
         "hidden": false,
         "locked": false
        }
       ],
       "scored": true,
       "setup": "",
       "teardown": "",
       "type": "doctest"
      }
     ]
    },
    "q10": {
     "name": "q10",
     "points": 1,
     "suites": [
      {
       "cases": [
        {
         "code": ">>> avg_diff_hawks < 3 and avg_diff_hawks > -5\nTrue",
         "hidden": false,
         "locked": false
        },
        {
         "code": ">>> len(samp_means_hawks) == 1000\nTrue",
         "hidden": false,
         "locked": false
        },
        {
         "code": ">>> (samp_means_hawks.mean() > 40) and (samp_means_hawks.mean() < 60)\nTrue",
         "hidden": false,
         "locked": false
        }
       ],
       "scored": true,
       "setup": "",
       "teardown": "",
       "type": "doctest"
      }
     ]
    },
    "q12": {
     "name": "q12",
     "points": 1,
     "suites": [
      {
       "cases": [
        {
         "code": ">>> \n>>> # check number of males in the sample\n>>> sample_hawks_biased.sex.value_counts().loc['male'] == 236\nTrue",
         "hidden": false,
         "locked": false
        },
        {
         "code": ">>> # bias is negative\n>>> sample_mean < sample_mean_corrected\nTrue",
         "hidden": false,
         "locked": false
        },
        {
         "code": ">>> # bias-adjusted mean should be close to population mean\n>>> np.abs(sample_mean_corrected - population_hawks.length.mean()) < 0.5\nTrue",
         "hidden": false,
         "locked": false
        },
        {
         "code": ">>> # unadjusted mean should be far from population mean\n>>> np.abs(sample_mean - population_hawks.length.mean()) > 2\nTrue",
         "hidden": false,
         "locked": false
        },
        {
         "code": ">>> # check correction factor\n>>> (sample_hawks_biased.bias_adjustment.unique().round(6) == (np.array([6/5, 6])/np.sum(sample_hawks_biased.sex.value_counts() * np.array([6/5, 6]))).round(6)).any()\nTrue",
         "hidden": false,
         "locked": false
        }
       ],
       "scored": true,
       "setup": "",
       "teardown": "",
       "type": "doctest"
      }
     ]
    },
    "q2": {
     "name": "q2",
     "points": 1,
     "suites": [
      {
       "cases": [
        {
         "code": ">>> (0 < std_dev_pop_diameter) and (std_dev_pop_diameter < 1)\nTrue",
         "hidden": false,
         "locked": false
        }
       ],
       "scored": true,
       "setup": "",
       "teardown": "",
       "type": "doctest"
      }
     ]
    },
    "q3": {
     "name": "q3",
     "points": 1,
     "suites": [
      {
       "cases": [
        {
         "code": ">>> (0 < mean_sample_diameter) and (mean_sample_diameter < 2)\nTrue",
         "hidden": false,
         "locked": false
        }
       ],
       "scored": true,
       "setup": "",
       "teardown": "",
       "type": "doctest"
      }
     ]
    },
    "q4": {
     "name": "q4",
     "points": 1,
     "suites": [
      {
       "cases": [
        {
         "code": ">>> (1 < mean_sample2_diameter) and (mean_sample2_diameter < 3)\nTrue",
         "hidden": false,
         "locked": false
        }
       ],
       "scored": true,
       "setup": "",
       "teardown": "",
       "type": "doctest"
      }
     ]
    },
    "q6": {
     "name": "q6",
     "points": 1,
     "suites": [
      {
       "cases": [
        {
         "code": ">>> # bias should be positive (overestimate diameter)\n>>> avg_diff > 0\nTrue",
         "hidden": false,
         "locked": false
        },
        {
         "code": ">>> # number of simulations\n>>> len(samp_means) == 1000\nTrue",
         "hidden": false,
         "locked": false
        },
        {
         "code": ">>> # on average, means should exceed population value\n>>> samp_means.mean() > 1\nTrue",
         "hidden": false,
         "locked": false
        }
       ],
       "scored": true,
       "setup": "",
       "teardown": "",
       "type": "doctest"
      }
     ]
    },
    "q8": {
     "name": "q8",
     "points": 1,
     "suites": [
      {
       "cases": [
        {
         "code": ">>> # proportions should sum to 1\n>>> proportion_hawks_sample.proportion[\"female\"] + proportion_hawks_sample.proportion[\"male\"] == 1\nTrue",
         "hidden": false,
         "locked": false
        },
        {
         "code": ">>> # should have some male and some female hawks\n>>> proportion_hawks_sample.proportion[\"female\"] >= 0 and proportion_hawks_sample.proportion[\"female\"] <= 1\nTrue",
         "hidden": false,
         "locked": false
        },
        {
         "code": ">>> proportion_hawks_sample.proportion[\"male\"] >= 0 and proportion_hawks_sample.proportion[\"male\"] <= 1\nTrue",
         "hidden": false,
         "locked": false
        }
       ],
       "scored": true,
       "setup": "",
       "teardown": "",
       "type": "doctest"
      }
     ]
    },
    "q9": {
     "name": "q9",
     "points": 1,
     "suites": [
      {
       "cases": [
        {
         "code": ">>> (sample_hawks_biased_mean > 40) & (sample_hawks_biased_mean < 60)\nTrue",
         "hidden": false,
         "locked": false
        },
        {
         "code": ">>> len(sample_hawks_biased) == 300\nTrue",
         "hidden": false,
         "locked": false
        }
       ],
       "scored": true,
       "setup": "",
       "teardown": "",
       "type": "doctest"
      }
     ]
    }
   }
  }
 },
 "nbformat": 4,
 "nbformat_minor": 4
}
