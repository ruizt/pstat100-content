{
 "cells": [
  {
   "cell_type": "code",
   "execution_count": null,
   "metadata": {
    "deletable": false,
    "editable": false
   },
   "outputs": [],
   "source": [
    "# Initialize Otter\n",
    "import otter\n",
    "grader = otter.Notebook(\"lab6-regression.ipynb\")"
   ]
  },
  {
   "cell_type": "code",
   "execution_count": null,
   "metadata": {},
   "outputs": [],
   "source": [
    "import numpy as np\n",
    "import pandas as pd\n",
    "import altair as alt\n",
    "import statsmodels.api as sm\n",
    "\n",
    "# disable row limit for plotting\n",
    "alt.data_transformers.disable_max_rows()\n",
    "# uncomment to ensure graphics display with pdf export\n",
    "# alt.renderers.enable('mimetype')"
   ]
  },
  {
   "attachments": {},
   "cell_type": "markdown",
   "metadata": {},
   "source": [
    "# Lab 6: Regression\n",
    "\n",
    "This lab covers the nuts and bolts of fitting linear models. The linear model expresses a response variable, $y$, as a linear function of $p - 1$ explanatory variables $x_1, \\dots, x_{p - 1}$ and a random error $\\epsilon$. Its general form is:\n",
    "\n",
    "$$y = \\beta_0 + \\beta_1 x_1 + \\cdots + \\beta_{p - 1} x_{p - 1} + \\epsilon \\qquad \\epsilon \\sim N(0, \\sigma^2)$$\n",
    "\n",
    "Usually, the response and explanatory variables and error term are indexed by observation $i = 1, \\dots, n$ so that the model describes a dataset comprising $n$ values of each variable:\n",
    "\n",
    "$$y_i = \\beta_0 + \\beta_1 x_{i1} + \\cdots + \\beta_{p - 1} x_{i, p - 1} + \\epsilon_i \\qquad\\begin{cases} \\epsilon_i \\sim N(0, \\sigma^2) \\\\ i = 1, \\dots, n\\end{cases}$$\n",
    "\n",
    "Because the indices get confusing to keep track of, it is much easier to express the model in matrix form as\n",
    "\n",
    "$$\\mathbf{y} = \\mathbf{X}\\beta + \\epsilon$$\n",
    "\n",
    "where:\n",
    "\n",
    "$$\\mathbf{y} = \\left[\\begin{array}{c} y_1 \\\\ y_2 \\\\ \\vdots \\\\ y_n \\end{array}\\right]_{\\;n \\times 1} \\qquad\n",
    "    \\mathbf{X} = \\left[\\begin{array}{cccc} \n",
    "        1 &x_{11} &\\cdots &x_{1, p - 1} \\\\\n",
    "        1 &x_{21} &\\cdots &x_{2, p - 1} \\\\\n",
    "        \\vdots &\\vdots &\\ddots &\\vdots \\\\\n",
    "        1 &x_{n1} &\\cdots &x_{n, p - 1}\n",
    "        \\end{array}\\right]_{\\;n \\times p} \\qquad\n",
    "    \\beta = \\left[\\begin{array}{c} \\beta_0 \\\\ \\beta_1 \\\\ \\vdots \\\\ \\beta_{p - 1} \\end{array} \\right]_{\\;p \\times 1} \\qquad\n",
    "    \\epsilon = \\left[\\begin{array}{c} \\epsilon_1 \\\\ \\epsilon_2 \\\\ \\vdots \\\\ \\epsilon_n \\end{array}\\right]_{\\;n \\times 1}$$\n",
    "    \n",
    "\n",
    "**Fitting** a model of this form means _**estimating the parameters**_ $\\beta_0, \\beta_1, \\dots, \\beta_{p - 1}$ and $\\sigma^2$ from a set of data. \n",
    "* The ordinary least squares (OLS) estimates of $\\beta$, which are best under most circumstances, are\n",
    "$$\\hat{\\beta} = (\\mathbf{X'X})^{-1}\\mathbf{X'y}$$\n",
    "* The error variance $\\sigma^2$ can be estimated by\n",
    "$$\\hat{\\sigma}^2 = \\frac{1}{n - p - 1}\\left(\\mathbf{y} - \\mathbf{X}\\hat{\\beta}\\right)'\\left(\\mathbf{y} - \\mathbf{X}\\hat{\\beta}\\right)$$\n",
    "\n",
    "When fitting a linear model, it is also of interest to quantify uncertainty by estimating the variability of $\\hat{\\beta}$ and measure overall quality of fit. This lab illustrates that process and the computations involved.\n",
    "\n",
    "**Objectives**\n",
    "\n",
    "In this lab, you'll learn how to:\n",
    "* compute OLS estimates;\n",
    "* calculate fitted values and residuals;\n",
    "* compute the error variance estimate;\n",
    "* compute the variance-covariance matrix of $\\hat{\\beta}$, which quantifies the variability of model estimates;\n",
    "* compute standard errors for each model estimate;\n",
    "* compute the proportion of variation captured by a linear model.\n",
    "\n",
    "Throughout you'll use simple visualizations to help make the connection between fitted models and the aspects of a dataset that model features describe."
   ]
  },
  {
   "attachments": {},
   "cell_type": "markdown",
   "metadata": {},
   "source": [
    "# Data: fertility rates\n",
    "\n",
    "By way of data, you'll work with country indicators, total fertility rates, and gender indicators for a selection of countries in 2018, and explore the decline in fertility rates associated with developed nations. Data from the U.S. 2020 census indicated significant [population growth decline in the United States](https://www.washingtonpost.com/dc-md-va/interactive/2021/2020-census-us-population-results/). If the topic interests you, you can read more about perspectives and existing data in this [Our World in Data article](https://ourworldindata.org/fertility-rate). \n",
    "\n",
    "The data are stored in separate `.csv` files imported below:"
   ]
  },
  {
   "cell_type": "code",
   "execution_count": null,
   "metadata": {},
   "outputs": [],
   "source": [
    "fertility = pd.read_csv('data/fertility.csv')\n",
    "country = pd.read_csv('data/country-indicators.csv')\n",
    "gender = pd.read_csv('data/gender-data.csv')"
   ]
  },
  {
   "attachments": {},
   "cell_type": "markdown",
   "metadata": {},
   "source": [
    "The variables you'll work with in this portion are the following:\n",
    "\n",
    "Dataset | Name | Variable | Units\n",
    "---|---|---|---\n",
    "`fertility` | `fertility_total` | National fertility rate | Average number of children per woman\n",
    "`country` | `hdi` | Human development index | Index between 0 and 1 (0 is lowest, 1 is highest)\n",
    "`gender` | `edu_expected_yrs_f` | Expected years of education for adult women | Years"
   ]
  },
  {
   "attachments": {},
   "cell_type": "markdown",
   "metadata": {},
   "source": [
    "Because the variables of interest are stored in three separate dataframes, you'll first need to extract them and merge by country."
   ]
  },
  {
   "cell_type": "code",
   "execution_count": null,
   "metadata": {},
   "outputs": [],
   "source": [
    "# slice variables of interest\n",
    "fertility_sub = fertility.loc[:, ['Country', 'fertility_total']]\n",
    "gender_sub = gender.loc[:, ['educ_expected_yrs_f', 'Country']]\n",
    "country_sub = country.loc[:, ['Country', 'hdi']]\n",
    "\n",
    "# merge variables of interest\n",
    "reg_data = pd.merge(\n",
    "    fertility_sub, \n",
    "    gender_sub, \n",
    "    on = 'Country', \n",
    "    how = 'inner'\n",
    ").merge(\n",
    "    country_sub,\n",
    "    on = 'Country',\n",
    "    how = 'left'\n",
    ").set_index('Country').dropna()\n",
    "\n",
    "# preview\n",
    "reg_data.head(4)"
   ]
  },
  {
   "attachments": {},
   "cell_type": "markdown",
   "metadata": {},
   "source": [
    "We'll treat the fertility rates as our variable of interest."
   ]
  },
  {
   "attachments": {},
   "cell_type": "markdown",
   "metadata": {},
   "source": [
    "# Exploratory analysis\n",
    "\n",
    "A preliminary step in regression analysis is typically data exploration through scatterplots. The objective of exploratory analysis in this context is to identify an approximately linear relationship to model. "
   ]
  },
  {
   "attachments": {},
   "cell_type": "markdown",
   "metadata": {},
   "source": [
    "<!-- BEGIN QUESTION -->\n",
    "\n",
    "### Question 1: Education and fertility rate\n",
    "\n",
    "Construct a scatterplot of total fertility against expected years of education for women. Label the axes 'Fertility rate' and 'Expected years of education for women'. Store this plot as `scatter_educ` and display the graphic.\n",
    "\n",
    "(*Remark*: be sure to include `scale = alt.Scale(zero = False)` in the axis specification so that your plot does not have extra whitespace.)"
   ]
  },
  {
   "cell_type": "code",
   "execution_count": null,
   "metadata": {
    "tags": []
   },
   "outputs": [],
   "source": [
    "..."
   ]
  },
  {
   "attachments": {},
   "cell_type": "markdown",
   "metadata": {},
   "source": [
    "<!-- END QUESTION -->\n",
    "\n",
    "This figure shows a clear negative association between fertility rate and women's educational attainment, *and* that the relationship is roughly linear. Next, check whether HDI seems to be related to fertility rate. "
   ]
  },
  {
   "attachments": {},
   "cell_type": "markdown",
   "metadata": {},
   "source": [
    "<!-- BEGIN QUESTION -->\n",
    "\n",
    "### Question 2: HDI and fertility rate\n",
    "\n",
    "Now construct a scatterplot comparing fertility rate with HDI. Make sure you choose appropriate labels for your axes and plot. Store this plot as `scatter_hdi` and display the graphic."
   ]
  },
  {
   "cell_type": "code",
   "execution_count": null,
   "metadata": {
    "tags": []
   },
   "outputs": [],
   "source": [
    "..."
   ]
  },
  {
   "attachments": {},
   "cell_type": "markdown",
   "metadata": {},
   "source": [
    "<!-- END QUESTION -->\n",
    "\n",
    "This figure shows a negative relationship between fertility rate and HDI; it may not be exactly linear, but a line should provide a decent approximation. So, the plots suggest that a linear regression model in one or both explanatory variables is reasonable."
   ]
  },
  {
   "attachments": {},
   "cell_type": "markdown",
   "metadata": {},
   "source": [
    "# Simple linear regression\n",
    "\n",
    "To start you'll fit a simple linear model regressing fertility on education.\n",
    "\n",
    "First we'll need to store the quantities -- the response and explanatory variables -- needed for model fitting in the proper format. Recall that the linear model in matrix form is:\n",
    "\n",
    "$$\\underbrace{\\left[\\begin{array}{c} y_1 \\\\ \\vdots \\\\ y_n \\end{array}\\right]}_{\\mathbf{y}}\n",
    "    = \\underbrace{\\left[\\begin{array}{cc}\n",
    "        1 & x_1 \\\\ \\vdots &\\vdots \\\\ 1 & x_n\n",
    "        \\end{array}\\right]}_\\mathbf{X}\n",
    "      \\underbrace{\\left[\\begin{array}{c} \\beta_0 \\\\ \\beta_1 \\end{array}\\right]}_\\beta\n",
    "      + \\underbrace{\\left[\\begin{array}{c} \\epsilon_1 \\\\ \\vdots \\\\ \\epsilon_n \\end{array}\\right]}_\\epsilon$$\n",
    "      \n",
    "Notice that the explanatory variable matrix $\\mathbf{X}$ includes a column of ones for the intercept. So the quantities needed are:\n",
    "* $\\mathbf{y}$, a one-dimensional array of the total fertility rates for each country; and \n",
    "* $\\mathbf{X}$, a two-dimensional array with a column of ones (intercept) and a column of the expected years of education for women (explanatory variable).\n",
    "\n",
    "The cell below constructs these arrays as pandas objects."
   ]
  },
  {
   "cell_type": "code",
   "execution_count": null,
   "metadata": {},
   "outputs": [],
   "source": [
    "# retrieve response\n",
    "y = reg_data.fertility_total\n",
    "\n",
    "# construct explanatory variable matrix\n",
    "x = sm.tools.add_constant(reg_data.educ_expected_yrs_f)\n",
    "\n",
    "# print first five rows of x\n",
    "x.head()"
   ]
  },
  {
   "attachments": {},
   "cell_type": "markdown",
   "metadata": {},
   "source": [
    "## Estimation\n",
    "\n",
    "'Fitting' a model refers to computing estimates; `statsmodels.OLS()` will fit a linear regression model based on the response vector and explanatory variable matrix. Note that the model structure is implicit -- `OLS` will fit $y = X\\beta + \\epsilon$ no matter what, so you need to be sure you have arranged $X$ and $y$ correctly to fit the model that you intend."
   ]
  },
  {
   "cell_type": "code",
   "execution_count": null,
   "metadata": {},
   "outputs": [],
   "source": [
    "# fit model\n",
    "slr = sm.OLS(endog = y, exog = x)"
   ]
  },
  {
   "attachments": {},
   "cell_type": "markdown",
   "metadata": {},
   "source": [
    "This returns an object of a distinct model class specific to `OLS`:"
   ]
  },
  {
   "cell_type": "code",
   "execution_count": null,
   "metadata": {},
   "outputs": [],
   "source": [
    "type(slr)"
   ]
  },
  {
   "attachments": {},
   "cell_type": "markdown",
   "metadata": {},
   "source": [
    "Associated with the class are various attributes and methods. From the model instance, `.fit()` retrieves the model results:"
   ]
  },
  {
   "cell_type": "code",
   "execution_count": null,
   "metadata": {},
   "outputs": [],
   "source": [
    "type(slr.fit())"
   ]
  },
  {
   "attachments": {},
   "cell_type": "markdown",
   "metadata": {},
   "source": [
    "Note, however, that `slr.fit()` will not produce any interesting output:"
   ]
  },
  {
   "cell_type": "code",
   "execution_count": null,
   "metadata": {},
   "outputs": [],
   "source": [
    "slr.fit()"
   ]
  },
  {
   "attachments": {},
   "cell_type": "markdown",
   "metadata": {},
   "source": [
    "What the `.fit()` method does is create a results object that contains parameter estimates and other quantities we might want to retrieve."
   ]
  },
  {
   "cell_type": "code",
   "execution_count": null,
   "metadata": {},
   "outputs": [],
   "source": [
    "rslt = slr.fit()"
   ]
  },
  {
   "attachments": {},
   "cell_type": "markdown",
   "metadata": {},
   "source": [
    "The coeffient estimates $\\hat{\\beta}_0, \\hat{\\beta}_1$ are:"
   ]
  },
  {
   "cell_type": "code",
   "execution_count": null,
   "metadata": {},
   "outputs": [],
   "source": [
    "rslt.params"
   ]
  },
  {
   "attachments": {},
   "cell_type": "markdown",
   "metadata": {},
   "source": [
    "The error variance estimate $\\hat{\\sigma}^2$ is:"
   ]
  },
  {
   "cell_type": "code",
   "execution_count": null,
   "metadata": {},
   "outputs": [],
   "source": [
    "rslt.scale"
   ]
  },
  {
   "attachments": {},
   "cell_type": "markdown",
   "metadata": {},
   "source": [
    "It was noted in lecture that the variances and covariances of $\\hat{\\beta}_0, \\hat{\\beta}_1$ are given by the matrix:\n",
    "\n",
    "$$\\sigma^2 (\\mathbf{X}'\\mathbf{X})^{-1} \n",
    "  = \\left[\\begin{array}{cc} \n",
    "        \\text{var}\\hat{\\beta}_0 & \\text{cov}\\left(\\hat{\\beta}_0, \\hat{\\beta}_1\\right) \\\\\n",
    "        \\text{cov}\\left(\\hat{\\beta}_1, \\hat{\\beta}_0\\right) & \\text{var}\\hat{\\beta}_1\n",
    "        \\end{array}\\right]$$\n",
    "\n",
    "So we can *estimate* these quantities, which quantify the variation and covariation of the estimated coefficients, by plugging in the estimated error variance and computing $\\hat{\\sigma}^2 (\\mathbf{X}'\\mathbf{X})^{-1}$. This estimate is:"
   ]
  },
  {
   "cell_type": "code",
   "execution_count": null,
   "metadata": {},
   "outputs": [],
   "source": [
    "rslt.cov_params()"
   ]
  },
  {
   "attachments": {},
   "cell_type": "markdown",
   "metadata": {},
   "source": [
    "Standard errors for the coefficient estimates are obtained from the diagonal entries. We might create a nice summary of all the estimates as follows:"
   ]
  },
  {
   "cell_type": "code",
   "execution_count": null,
   "metadata": {},
   "outputs": [],
   "source": [
    "coef_tbl = pd.DataFrame({'estimate': rslt.params.values,\n",
    "              'standard error': np.sqrt(rslt.cov_params().values.diagonal())},\n",
    "              index = x.columns)\n",
    "coef_tbl.loc['error variance', 'estimate'] = rslt.scale\n",
    "\n",
    "coef_tbl"
   ]
  },
  {
   "attachments": {},
   "cell_type": "markdown",
   "metadata": {},
   "source": [
    "Lastly, a standard metric often reported with linear models is the $R^2$ score, which is interpreted as the proportion of variation in the response captured by the model."
   ]
  },
  {
   "cell_type": "code",
   "execution_count": null,
   "metadata": {},
   "outputs": [],
   "source": [
    "# compute R-squared\n",
    "rslt.rsquared"
   ]
  },
  {
   "attachments": {},
   "cell_type": "markdown",
   "metadata": {},
   "source": [
    "So, the expected years of education for women in a country explains 72% of variability in fertility rates, and furthermore, according to the fitted model:\n",
    "\n",
    "- for a country in which women are entirely uneducated, the estimated mean fertility rate is 7.5 children on average by the end of a woman's reproductive period\n",
    "- each additional year of education for women is associated with a decrease in a country's fertility rate of an estimated 0.43\n",
    "- after accounting for women's education levels, fertility rates vary by a standard deviation of $0.66 = \\sqrt{0.438}$ across countries"
   ]
  },
  {
   "attachments": {},
   "cell_type": "markdown",
   "metadata": {},
   "source": [
    "### Question 3: center the explanatory variable\n",
    "\n",
    "Note that *no* countries report an expected zero years of education for women, so the meaning of the intercept is artificial. As we saw in lecture, centering the explanatory variable can improve interpretability of the intercept. Center the expected years of education for women and refit the model by following the steps outlined below. Display the coefficient estimates and standard errors."
   ]
  },
  {
   "cell_type": "code",
   "execution_count": null,
   "metadata": {
    "tags": []
   },
   "outputs": [],
   "source": [
    "# center the education column by subtracting its mean from each value\n",
    "educ_ctr = ...\n",
    "\n",
    "# reconstruct the explanatory variable matrix\n",
    "x_ctr = ...\n",
    "\n",
    "# fit new model\n",
    "slr_ctr = ...\n",
    "rslt_ctr = ...\n",
    "\n",
    "# arrange estimates and se's in a dataframe and display\n",
    "..."
   ]
  },
  {
   "cell_type": "code",
   "execution_count": null,
   "metadata": {
    "deletable": false,
    "editable": false
   },
   "outputs": [],
   "source": [
    "grader.check(\"q3\")"
   ]
  },
  {
   "attachments": {},
   "cell_type": "markdown",
   "metadata": {},
   "source": [
    "## Fitted values and residuals\n",
    "\n",
    "The **fitted value** for $y_i$ is the value along the line specified by the model that corresponds to the matching explanatory variable $x_i$. In other words:\n",
    "\n",
    "$$\\hat{y}_i = \\hat{\\beta}_0 + \\hat{\\beta}_1 x_i$$\n",
    "\n",
    "These can be obtained directly from `rslt`:"
   ]
  },
  {
   "cell_type": "code",
   "execution_count": null,
   "metadata": {},
   "outputs": [],
   "source": [
    "# fitted values\n",
    "rslt.fittedvalues"
   ]
  },
  {
   "attachments": {},
   "cell_type": "markdown",
   "metadata": {},
   "source": [
    "The result is an array with length matching the number of rows in `x`; note the index for the pandas series -- the fitted values are returned in the same order as the observations used to fit the model."
   ]
  },
  {
   "cell_type": "code",
   "execution_count": null,
   "metadata": {},
   "outputs": [],
   "source": [
    "(rslt.fittedvalues.index == x.index).all()"
   ]
  },
  {
   "attachments": {},
   "cell_type": "markdown",
   "metadata": {},
   "source": [
    "Recall that model **residuals** are the difference between observed and fitted values:\n",
    "\n",
    "$$e_i = y_i - \\hat{y}_i$$\n",
    "\n",
    "These are similarly retrievable as an attribute of the regression results:"
   ]
  },
  {
   "cell_type": "code",
   "execution_count": null,
   "metadata": {},
   "outputs": [],
   "source": [
    "# residuals\n",
    "rslt.resid"
   ]
  },
  {
   "attachments": {},
   "cell_type": "markdown",
   "metadata": {},
   "source": [
    "Note again that these are returned in the same order as the original observations."
   ]
  },
  {
   "attachments": {},
   "cell_type": "markdown",
   "metadata": {},
   "source": [
    "### Question 4: calculations 'by hand'\n",
    "\n",
    "Calculate the fitted values and residuals manually. Store the results as arrays `fitted_manual` and `resid_manual`, respectively.\n",
    "\n",
    "*Hint*: use matrix-vector multiplication."
   ]
  },
  {
   "cell_type": "code",
   "execution_count": null,
   "metadata": {
    "tags": []
   },
   "outputs": [],
   "source": [
    "fitted_manual = ...\n",
    "resid_manual = ..."
   ]
  },
  {
   "cell_type": "code",
   "execution_count": null,
   "metadata": {
    "deletable": false,
    "editable": false
   },
   "outputs": [],
   "source": [
    "grader.check(\"q4\")"
   ]
  },
  {
   "attachments": {},
   "cell_type": "markdown",
   "metadata": {},
   "source": [
    "It is often convenient to add the fitted values and residuals as new columns in `reg_data`:"
   ]
  },
  {
   "cell_type": "code",
   "execution_count": null,
   "metadata": {},
   "outputs": [],
   "source": [
    "# append fitted values and residuals\n",
    "reg_data['fitted_slr'] = rslt.fittedvalues\n",
    "reg_data['resid_slr'] = rslt.resid\n",
    "\n",
    "reg_data.head(3) "
   ]
  },
  {
   "attachments": {},
   "cell_type": "markdown",
   "metadata": {},
   "source": [
    "We can use this augmented dataframe to visualize the deterministic part of the model:"
   ]
  },
  {
   "cell_type": "code",
   "execution_count": null,
   "metadata": {},
   "outputs": [],
   "source": [
    "# construct line plot\n",
    "slr_line = alt.Chart(reg_data).mark_line().encode(\n",
    "    x = 'educ_expected_yrs_f',\n",
    "    y = 'fitted_slr'\n",
    ")\n",
    "\n",
    "# layer\n",
    "scatter_educ + slr_line"
   ]
  },
  {
   "attachments": {},
   "cell_type": "markdown",
   "metadata": {},
   "source": [
    "To obtain uncertainty bands about the estimated mean, we'll compute predictions at each observed value using `.get_prediction()` -- this method by default returns standard errors associated with each prediction."
   ]
  },
  {
   "cell_type": "code",
   "execution_count": null,
   "metadata": {},
   "outputs": [],
   "source": [
    "preds = rslt.get_prediction(x)"
   ]
  },
  {
   "attachments": {},
   "cell_type": "markdown",
   "metadata": {},
   "source": [
    "The predictions are stored as `.predicted_mean`. Since we computed predictions at the observed values, the predictions should match the fitted values:"
   ]
  },
  {
   "cell_type": "code",
   "execution_count": null,
   "metadata": {},
   "outputs": [],
   "source": [
    "(preds.predicted_mean == rslt.fittedvalues).all()"
   ]
  },
  {
   "attachments": {},
   "cell_type": "markdown",
   "metadata": {},
   "source": [
    "Standard errors are stored as `.se_mean`. Uncertainty bands are typically drawn $2SE$ in either direction from the fitted values; so we'll append those values to the original data. "
   ]
  },
  {
   "cell_type": "code",
   "execution_count": null,
   "metadata": {},
   "outputs": [],
   "source": [
    "reg_data['lwr_mean'] = preds.predicted_mean - 2*preds.se_mean\n",
    "reg_data['upr_mean'] = preds.predicted_mean + 2*preds.se_mean\n",
    "\n",
    "reg_data.head()"
   ]
  },
  {
   "attachments": {},
   "cell_type": "markdown",
   "metadata": {},
   "source": [
    "We can use these to shade in the area between the lower and upper limits."
   ]
  },
  {
   "cell_type": "code",
   "execution_count": null,
   "metadata": {},
   "outputs": [],
   "source": [
    "band = alt.Chart(reg_data).mark_area(opacity = 0.2).encode(\n",
    "    x = 'educ_expected_yrs_f',\n",
    "    y = 'lwr_mean',\n",
    "    y2 = 'upr_mean'\n",
    ")\n",
    "\n",
    "# layer\n",
    "scatter_educ + slr_line + band"
   ]
  },
  {
   "attachments": {},
   "cell_type": "markdown",
   "metadata": {},
   "source": [
    "As discussed in lecture, we can also compute and display uncertainty bounds for predicted observations (rather than the mean). These will be wider, because there is more uncertainty associated with predicting observations compared with estimating the mean."
   ]
  },
  {
   "attachments": {},
   "cell_type": "markdown",
   "metadata": {},
   "source": [
    "### Question 5: prediction intervals\n",
    "\n",
    "The standard error for *predictions* is stored with the output of `.get_prediction()` as the attribute `.se_obs` -- standard error for observations. Use this and follow the example above to compute 95% uncertainty bounds for the observations. Add the lower and upper bounds as new columns of `reg_data` named `lwr_obs` and `upr_obs`, respectively. Construct a plot showing data scatter, the model predictions, and prediction uncertainty bands."
   ]
  },
  {
   "cell_type": "code",
   "execution_count": null,
   "metadata": {
    "tags": []
   },
   "outputs": [],
   "source": [
    "# compute prediction uncertainty bounds\n",
    "reg_data['lwr_obs'] = ...\n",
    "reg_data['upr_obs'] = ...\n",
    "\n",
    "# construct plot showing prediction uncertainty\n",
    "..."
   ]
  },
  {
   "cell_type": "code",
   "execution_count": null,
   "metadata": {
    "deletable": false,
    "editable": false
   },
   "outputs": [],
   "source": [
    "grader.check(\"q5\")"
   ]
  },
  {
   "attachments": {},
   "cell_type": "markdown",
   "metadata": {},
   "source": [
    "Recall that the interpretation of the prediction band is that 95% of the time, the band will cover the observed values."
   ]
  },
  {
   "attachments": {},
   "cell_type": "markdown",
   "metadata": {},
   "source": [
    "### Question 6: coverage\n",
    "\n",
    "What proportion of observed values are within the prediction bands? Compute and store this value as `coverage_prop`."
   ]
  },
  {
   "cell_type": "code",
   "execution_count": null,
   "metadata": {
    "tags": []
   },
   "outputs": [],
   "source": [
    "coverage_prop = ..."
   ]
  },
  {
   "cell_type": "code",
   "execution_count": null,
   "metadata": {
    "deletable": false,
    "editable": false
   },
   "outputs": [],
   "source": [
    "grader.check(\"q6\")"
   ]
  },
  {
   "attachments": {},
   "cell_type": "markdown",
   "metadata": {},
   "source": [
    "# Multiple linear regression\n",
    "\n",
    "Now let's consider adding the human development factor to the model. First let's investigate the *univariate* relationship between HDI and fertility rate.\n",
    "\n",
    "A scatterplot is shown below with a regression line overlaid. The relationship perhaps isn't perfectly linear, but a line should provide a decent approximation."
   ]
  },
  {
   "cell_type": "code",
   "execution_count": null,
   "metadata": {},
   "outputs": [],
   "source": [
    "base = alt.Chart(reg_data).mark_circle().encode(\n",
    "    x = alt.X('hdi', title = 'Human development index', scale = alt.Scale(zero = False)),\n",
    "    y = alt.Y('fertility_total', title = 'Fertility rate', scale = alt.Scale(zero = False))\n",
    ")\n",
    "\n",
    "base + base.transform_regression(on = 'fertility_total', regression = 'hdi').mark_line()"
   ]
  },
  {
   "attachments": {},
   "cell_type": "markdown",
   "metadata": {},
   "source": [
    "<!-- BEGIN QUESTION -->\n",
    "\n",
    "### Question 7: fit a model with HDI only\n",
    "\n",
    "Fit the model plotted above. Display the coefficient estimates, standard errors, and $R^2$ statistic."
   ]
  },
  {
   "cell_type": "code",
   "execution_count": null,
   "metadata": {
    "tags": []
   },
   "outputs": [],
   "source": [
    "# fit model\n",
    "x = ...\n",
    "slr = ...\n",
    "rslt = ...\n",
    "\n",
    "# construct coefficient table\n",
    "coef_tbl = pd.DataFrame({\n",
    "    ...\n",
    "    ...\n",
    "    },\n",
    "    index = ...\n",
    ")\n",
    "\n",
    "coef_tbl.loc['error variance', 'estimate'] = ...\n",
    "\n",
    "# display table and print r squared\n",
    "..."
   ]
  },
  {
   "attachments": {},
   "cell_type": "markdown",
   "metadata": {},
   "source": [
    "<!-- END QUESTION -->\n",
    "\n",
    "You should have observed that this model *also* explains about 70% of variance in fertility rates. So it seems like an equally good predictor of fertility rates. However, HDI is highly correlated with women's education:"
   ]
  },
  {
   "cell_type": "code",
   "execution_count": null,
   "metadata": {},
   "outputs": [],
   "source": [
    "reg_data.corr().loc['hdi', 'educ_expected_yrs_f']"
   ]
  },
  {
   "attachments": {},
   "cell_type": "markdown",
   "metadata": {},
   "source": [
    "So what do you think will happen if we fit a model with both explanatory variables? Will fertility rate have a stronger association with one or the other? Will the coefficient estimates also be highly correlated? Take a moment to consider this and come up with a hypothesis.\n",
    "\n",
    "The model is fit *exactly* the same way as the SLR models -- all we need change is the explanatory variable matrix. Instead of grabbing one column from the data, we now grab two:"
   ]
  },
  {
   "cell_type": "code",
   "execution_count": null,
   "metadata": {},
   "outputs": [],
   "source": [
    "# construct explanatory variable matrix\n",
    "x = sm.tools.add_constant(reg_data.loc[:, ['hdi', 'educ_expected_yrs_f']])\n",
    "\n",
    "# fit model\n",
    "mlr = sm.OLS(endog = y, exog = x)\n",
    "\n",
    "# store results\n",
    "rslt = mlr.fit() "
   ]
  },
  {
   "attachments": {},
   "cell_type": "markdown",
   "metadata": {},
   "source": [
    "The coefficient table is shown below:"
   ]
  },
  {
   "cell_type": "code",
   "execution_count": null,
   "metadata": {},
   "outputs": [],
   "source": [
    "coef_tbl = pd.DataFrame({\n",
    "    'estimate': rslt.params.values,\n",
    "    'standard error': np.sqrt(rslt.cov_params().values.diagonal()) \n",
    "    },\n",
    "    index = x.columns \n",
    ")\n",
    "\n",
    "coef_tbl.loc['error variance', 'estimate'] = rslt.scale\n",
    "\n",
    "coef_tbl\n"
   ]
  },
  {
   "attachments": {},
   "cell_type": "markdown",
   "metadata": {},
   "source": [
    "The association with HDI is not as strong as in the simple linear model -- note the coefficient estimate here is about -4.1, compared with about -7.0 if education is not included. \n",
    "\n",
    "Similarly, the association with education is not as strong as in the simple linear model with only education -- if HDI is not included in the model, the coefficient estimate is about -0.43, whereas with both variables the estimate is about -0.20.\n",
    "\n",
    "So both associations are weaker when both terms are included in the model. Further, the estimates are strongly correlated:"
   ]
  },
  {
   "cell_type": "code",
   "execution_count": null,
   "metadata": {},
   "outputs": [],
   "source": [
    "vcov = rslt.cov_params()\n",
    "stderr = np.sqrt(vcov.values.diagonal())\n",
    "corr_mx = np.diag(1/stderr).dot(vcov).dot(np.diag(1/stderr))\n",
    "\n",
    "print('correlation of hdi and educ coefficient estimates: ', corr_mx[1, 2])"
   ]
  },
  {
   "attachments": {},
   "cell_type": "markdown",
   "metadata": {},
   "source": [
    "The multiple linear regression model captures a little bit more variance than either simple linear regression model individually:"
   ]
  },
  {
   "cell_type": "code",
   "execution_count": null,
   "metadata": {},
   "outputs": [],
   "source": [
    "rslt.rsquared"
   ]
  },
  {
   "attachments": {},
   "cell_type": "markdown",
   "metadata": {},
   "source": [
    "The MLR model doesn't add much value in terms of fit, so if that is our only concern we might prefer one of the SLR models. However, the presence of additional predictors changes the parameter interpretation -- in the MLR model, the coefficients give the estimated changes in mean fertility rate associated with changes in each explanatory variable *after accounting for the other explanatory variable*. This is one way of understanding why the estimates change so much in the presence of additional explanatory variables -- the association between, *e.g.*, HDI and fertility, is different than the association between HDI and fertility after adjusting for women's expected education.\n",
    "\n",
    "More broadly, these data are definitely *not* a representative sample of any particular population of nations -- the countries (observational units) are conveniently chosen based on which countries reported data. So there is no scope of inference here, for any of the models we've fit.\n",
    "\n",
    "Although we can't claim that, for example, 'the mean fertility rate decreases with education at a rate of 0.2 children per woman per expected year of education after accounting for development status', we *can* say '*among the countries reporting data*, the mean fertility rate decreases with education at a rate of 0.2 children per woman per expected year of education after accounting for development status'. This is a nice example of how a model might be used in a descriptive capacity."
   ]
  },
  {
   "attachments": {},
   "cell_type": "markdown",
   "metadata": {},
   "source": [
    "# Submission\n",
    "\n",
    "\n",
    "1. Save the notebook. \n",
    "2. Restart the kernel and run all cells. (**CAUTION**: if your notebook is not saved, you will lose your work.)\n",
    "3. Carefully look through your notebook and verify that all computations execute correctly and all graphics are displayed clearly. You should see **no errors**; if there are any errors, make sure to correct them before you submit the notebook.\n",
    "4. Download the notebook as an `.ipynb` file. This is your backup copy.\n",
    "5. Export the notebook as PDF and upload to Gradescope."
   ]
  },
  {
   "cell_type": "markdown",
   "metadata": {
    "deletable": false,
    "editable": false
   },
   "source": [
    "---\n",
    "\n",
    "To double-check your work, the cell below will rerun all of the autograder tests."
   ]
  },
  {
   "cell_type": "code",
   "execution_count": null,
   "metadata": {
    "deletable": false,
    "editable": false
   },
   "outputs": [],
   "source": [
    "grader.check_all()"
   ]
  }
 ],
 "metadata": {
  "kernelspec": {
   "display_name": "Python 3",
   "language": "python",
   "name": "python3"
  },
  "language_info": {
   "codemirror_mode": {
    "name": "ipython",
    "version": 3
   },
   "file_extension": ".py",
   "mimetype": "text/x-python",
   "name": "python",
   "nbconvert_exporter": "python",
   "pygments_lexer": "ipython3",
   "version": "3.9.12"
  },
  "otter": {
   "OK_FORMAT": true,
   "tests": {
    "q3": {
     "name": "q3",
     "points": 1,
     "suites": [
      {
       "cases": [
        {
         "code": ">>> x_ctr.shape == x.shape\nTrue",
         "hidden": false,
         "locked": false
        },
        {
         "code": ">>> (x_ctr.iloc[:, 0] == 1).all()\nTrue",
         "hidden": false,
         "locked": false
        },
        {
         "code": ">>> np.abs(rslt_ctr.params.educ_expected_yrs_f - rslt.params.educ_expected_yrs_f) < 1e-10\nTrue",
         "hidden": false,
         "locked": false
        },
        {
         "code": ">>> rslt.scale == rslt_ctr.scale\nTrue",
         "hidden": false,
         "locked": false
        },
        {
         "code": ">>> np.abs(rslt.params.const - rslt_ctr.params.const) > 3\nTrue",
         "hidden": false,
         "locked": false
        },
        {
         "code": ">>> np.abs((rslt.fittedvalues - rslt_ctr.fittedvalues).sum()) < 1e-10\nTrue",
         "hidden": false,
         "locked": false
        }
       ],
       "scored": true,
       "setup": "",
       "teardown": "",
       "type": "doctest"
      }
     ]
    },
    "q4": {
     "name": "q4",
     "points": 1,
     "suites": [
      {
       "cases": [
        {
         "code": ">>> fitted_manual.shape == y.shape\nTrue",
         "hidden": false,
         "locked": false
        },
        {
         "code": ">>> resid_manual.shape == y.shape\nTrue",
         "hidden": false,
         "locked": false
        },
        {
         "code": ">>> (fitted_manual == rslt.fittedvalues).all()\nTrue",
         "hidden": false,
         "locked": false
        },
        {
         "code": ">>> (resid_manual == rslt.resid).all()\nTrue",
         "hidden": false,
         "locked": false
        }
       ],
       "scored": true,
       "setup": "",
       "teardown": "",
       "type": "doctest"
      }
     ]
    },
    "q5": {
     "name": "q5",
     "points": 1,
     "suites": [
      {
       "cases": [
        {
         "code": ">>> reg_data.shape[1] == 9\nTrue",
         "hidden": false,
         "locked": false
        },
        {
         "code": ">>> (np.abs((reg_data.upr_obs - reg_data.lwr_obs) - 4*preds.se_obs) < 1e12).all()\nTrue",
         "hidden": false,
         "locked": false
        },
        {
         "code": ">>> ((reg_data.upr_obs - reg_data.lwr_obs) > (reg_data.upr_mean - reg_data.lwr_mean)).all()\nTrue",
         "hidden": false,
         "locked": false
        },
        {
         "code": ">>> reg_data.loc['Uruguay', 'lwr_obs'] == preds.predicted_mean[np.argmax(preds.row_labels == 'Uruguay')] - 2*preds.se_obs[np.argmax(preds.row_labels == 'Uruguay')]\nTrue",
         "hidden": false,
         "locked": false
        }
       ],
       "scored": true,
       "setup": "",
       "teardown": "",
       "type": "doctest"
      }
     ]
    },
    "q6": {
     "name": "q6",
     "points": 1,
     "suites": [
      {
       "cases": [
        {
         "code": ">>> 0.9 < coverage_prop < 1\nTrue",
         "hidden": false,
         "locked": false
        },
        {
         "code": ">>> coverage_prop < (reg_data.lwr_obs < reg_data.fertility_total).mean()\nTrue",
         "hidden": false,
         "locked": false
        },
        {
         "code": ">>> coverage_prop < (reg_data.upr_obs > reg_data.fertility_total).mean()\nTrue",
         "hidden": false,
         "locked": false
        }
       ],
       "scored": true,
       "setup": "",
       "teardown": "",
       "type": "doctest"
      }
     ]
    }
   }
  }
 },
 "nbformat": 4,
 "nbformat_minor": 4
}
