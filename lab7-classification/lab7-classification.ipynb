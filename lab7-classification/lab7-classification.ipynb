{
 "cells": [
  {
   "cell_type": "code",
   "execution_count": null,
   "metadata": {
    "deletable": false,
    "editable": false
   },
   "outputs": [],
   "source": [
    "# Initialize Otter\n",
    "import otter\n",
    "grader = otter.Notebook(\"lab7-classification.ipynb\")"
   ]
  },
  {
   "cell_type": "code",
   "execution_count": null,
   "metadata": {},
   "outputs": [],
   "source": [
    "import numpy as np\n",
    "import pandas as pd\n",
    "import altair as alt\n",
    "import statsmodels.api as sm\n",
    "\n",
    "# disable row limit for plotting\n",
    "alt.data_transformers.disable_max_rows()\n",
    "# uncomment to ensure graphics display with pdf export\n",
    "# alt.renderers.enable('mimetype')"
   ]
  },
  {
   "attachments": {},
   "cell_type": "markdown",
   "metadata": {},
   "source": [
    "# Lab 7: Classification\n",
    "\n",
    "This lab covers binary regression and classification using logistic regression models. The logistic regression model for a binary outcome $y \\in \\{0, 1\\}$ posits that the probability of the outcome of interest follows a logistic function of the explanatory variable $x$:\n",
    "\n",
    "$$\n",
    "P(Y = 1) = \\frac{1}{1 + e^{-(\\beta_0 + \\beta_1 x)}}\n",
    "$$\n",
    "\n",
    "More commonly, the model is written in terms of the log-odds of the outcome of interest:\n",
    "\n",
    "$$\n",
    "\\log\\left[\\frac{P(Y = 1)}{P(Y = 0)}\\right]\n",
    "= \\beta_0 + \\beta_1 x\n",
    "$$\n",
    "\n",
    "Additional explanatory variables can be included in the model by specifying a linear predictor with additional $\\beta_j x_j$ terms. \n",
    "\n",
    "Logistic regression models represent the probability of an outcome as a function of one or more explanatory variables; fitted probabilities can be coerced to hard classifications by thresholding.\n",
    "\n",
    "For this lab, we'll revisit the SEDA data from an earlier assignment. Below are the log median incomes and estimated achievement gaps on math and reading tests for 625 school districts in California:"
   ]
  },
  {
   "cell_type": "code",
   "execution_count": null,
   "metadata": {},
   "outputs": [],
   "source": [
    "seda = pd.read_csv('data/seda.csv').dropna()\n",
    "seda.head()"
   ]
  },
  {
   "attachments": {},
   "cell_type": "markdown",
   "metadata": {},
   "source": [
    "The estimated achievement gap is positive if boys outperform girls, and negative if girls outperform boys. We can therefore define a binary indicator of the direction of the achievement gap:"
   ]
  },
  {
   "cell_type": "code",
   "execution_count": null,
   "metadata": {},
   "outputs": [],
   "source": [
    "seda['favors_boys'] = (seda.gap > 0)\n",
    "seda.head()"
   ]
  },
  {
   "attachments": {},
   "cell_type": "markdown",
   "metadata": {},
   "source": [
    "You may recall having calculated the proportion of districts in various income brackets with a math gap favoring boys.\n",
    "\n",
    "We will now consider the closely related problem of estimating the probability that a district has a math gap favoring boys based on the median income of the district.\n",
    "\n",
    "Since we're only considering math gaps, we'll filter out the gap estimates on reading tests."
   ]
  },
  {
   "cell_type": "code",
   "execution_count": null,
   "metadata": {},
   "outputs": [],
   "source": [
    "reg_data = seda[seda.subject == 'math'].loc[:, ['log_income', 'favors_boys']]"
   ]
  },
  {
   "attachments": {},
   "cell_type": "markdown",
   "metadata": {},
   "source": [
    "Let's set aside the data for 100 randomly chosen districts to use later in quantifying the classification accuracy of the model."
   ]
  },
  {
   "attachments": {},
   "cell_type": "markdown",
   "metadata": {},
   "source": [
    "### Question 1: data partitioning\n",
    "\n",
    "Set aside 100 observations at random for testing. Do this by selecting a random subset of 100 indices. Choose a different RNG seed from your neighbor so that you can compare results based on different training sets."
   ]
  },
  {
   "cell_type": "code",
   "execution_count": null,
   "metadata": {
    "tags": []
   },
   "outputs": [],
   "source": [
    "# select 100 indices at random\n",
    "seed = ...\n",
    "np.random.seed(seed)\n",
    "idx = np.random.choice(\n",
    "    ...\n",
    "    size = ...\n",
    "    replace = ...\n",
    ").tolist()\n",
    "\n",
    "# partition data\n",
    "test = reg_data.loc[idx]\n",
    "train = reg_data.drop(index = idx)"
   ]
  },
  {
   "cell_type": "code",
   "execution_count": null,
   "metadata": {
    "deletable": false,
    "editable": false
   },
   "outputs": [],
   "source": [
    "grader.check(\"q1\")"
   ]
  },
  {
   "attachments": {},
   "cell_type": "markdown",
   "metadata": {},
   "source": [
    "## Exploratory analysis\n",
    "\n",
    "Previously you had binned income into brackets and constructed a table of the proportion of districts in each income bracket with a math gap favoring boys. It turns out that binning and aggregation is a useful exploratory strategy for binary regression. Your table from before would have been something like this:"
   ]
  },
  {
   "cell_type": "code",
   "execution_count": null,
   "metadata": {},
   "outputs": [],
   "source": [
    "# define income bracket\n",
    "train['income_bracket'] = pd.cut(train.log_income, 10)\n",
    "\n",
    "# compute mean and standard deviation of each variable by bracket\n",
    "tbl = train.groupby('income_bracket').agg(func = ['mean', 'std'])\n",
    "\n",
    "# fix column indexing and remove 'artificial' brackets containing only min and max values\n",
    "tbl.columns = [\"_\".join(a) for a in tbl.columns.to_flat_index()]\n",
    "tbl = tbl[tbl.favors_boys_std > 0]\n",
    "\n",
    "# display\n",
    "tbl"
   ]
  },
  {
   "attachments": {},
   "cell_type": "markdown",
   "metadata": {},
   "source": [
    "We can plot these proportions, with standard deviations, as functions of income. Since standard deviations are fairly high, the variability bands only show 0.4 standard deviations in either direction."
   ]
  },
  {
   "cell_type": "code",
   "execution_count": null,
   "metadata": {},
   "outputs": [],
   "source": [
    "\n",
    "trend = alt.Chart(tbl).mark_line(point = True).encode(\n",
    "    x = alt.X('log_income_mean', title = 'log income'),\n",
    "    y = alt.Y('favors_boys_mean', title = 'Pr(math gap favors boys)')\n",
    ")\n",
    "\n",
    "band = alt.Chart(tbl).transform_calculate(\n",
    "    lwr = 'datum.favors_boys_mean - 0.4*datum.favors_boys_std',\n",
    "    upr = 'datum.favors_boys_mean + 0.4*datum.favors_boys_std'\n",
    ").mark_area(opacity = 0.3).encode(\n",
    "    x = 'log_income_mean',\n",
    "    y = alt.Y('lwr:Q', scale = alt.Scale(domain = [0, 1])),\n",
    "    y2 = 'upr:Q'\n",
    ")\n",
    "\n",
    "trend + band"
   ]
  },
  {
   "attachments": {},
   "cell_type": "markdown",
   "metadata": {},
   "source": [
    "We can regard these proportions as estimates of the probability that the achievement gap in math favors boys. Thus, the figure above displays the exact relationship we will attempt to model, only as a continuous function of income rather than at 8 discrete points."
   ]
  },
  {
   "attachments": {},
   "cell_type": "markdown",
   "metadata": {},
   "source": [
    "<!-- BEGIN QUESTION -->\n",
    "\n",
    "### Question 2: model assumptions\n",
    "\n",
    "The logistic regression model assumes that the probability of the outcome of interest is a monotonic function of the explanatory variable(s). Examine the plot above and discuss with your neighbor. Does this monotinicity assumption seem to be true? Why or why not?"
   ]
  },
  {
   "cell_type": "markdown",
   "metadata": {},
   "source": [
    "_Type your answer here, replacing this text._"
   ]
  },
  {
   "attachments": {},
   "cell_type": "markdown",
   "metadata": {},
   "source": [
    "<!-- END QUESTION -->\n",
    "\n",
    "## Model fitting\n",
    "\n",
    "We'll fit a simple model of the probility that the math gap favors boys as a logistic function of log income:\n",
    "\n",
    "$$\n",
    "\\log\\left[\\frac{P(\\text{gap favors boys})}{1 - P(\\text{gap favors boys})}\\right] = \\beta_0 + \\beta_1 \\log(\\text{median income})\n",
    "$$\n",
    "\n",
    "The data preparations are exactly the same as in linear regression: we'll obtain a vector of the response outcome and an explanatory variable matrix containing log median income and a constant (for the intercept)."
   ]
  },
  {
   "cell_type": "code",
   "execution_count": null,
   "metadata": {},
   "outputs": [],
   "source": [
    "# explanatory variable matrix\n",
    "x = sm.add_constant(train.log_income)\n",
    "\n",
    "# response\n",
    "y = train.favors_boys"
   ]
  },
  {
   "attachments": {},
   "cell_type": "markdown",
   "metadata": {},
   "source": [
    "The model is fit using `statsmodels.Logit()`. Note that the endogenous variable (the response) can be either Boolean (take values `True` and `False`) or integer (take values `0` or `1`)."
   ]
  },
  {
   "cell_type": "code",
   "execution_count": null,
   "metadata": {},
   "outputs": [],
   "source": [
    "# fit the model\n",
    "model = sm.Logit(endog = y, exog = x)\n",
    "\n",
    "# store the fitted model\n",
    "fit = model.fit()\n",
    "\n",
    "# display parameter estimates\n",
    "fit.params"
   ]
  },
  {
   "attachments": {},
   "cell_type": "markdown",
   "metadata": {},
   "source": [
    "A coefficient table remains useful for logistic regression:"
   ]
  },
  {
   "cell_type": "code",
   "execution_count": null,
   "metadata": {},
   "outputs": [],
   "source": [
    "coef_tbl = pd.DataFrame(\n",
    "    {'estimate': fit.params,\n",
    "    'standard error': np.sqrt(fit.cov_params().values.diagonal())},\n",
    "    index = x.columns\n",
    ")\n",
    "coef_tbl"
   ]
  },
  {
   "attachments": {},
   "cell_type": "markdown",
   "metadata": {},
   "source": [
    "### Question 3: confidence intervals\n",
    "\n",
    "Compute 99% confidence intervals for the model parameters. Store the result as a dataframe called `param_ci`.\n",
    "\n",
    "*Hint*: the syntax is identical to that based on `sm.OLS`; this is also mentioned in the lecture slides."
   ]
  },
  {
   "cell_type": "code",
   "execution_count": null,
   "metadata": {
    "tags": []
   },
   "outputs": [],
   "source": [
    "# compute 99% confidence intervals\n",
    "param_ci = ...\n",
    "\n",
    "# display\n",
    "param_ci.rename(columns = {0: 'lwr', 1: 'upr'}, inplace = True)\n",
    "param_ci"
   ]
  },
  {
   "cell_type": "code",
   "execution_count": null,
   "metadata": {
    "deletable": false,
    "editable": false
   },
   "outputs": [],
   "source": [
    "grader.check(\"q3\")"
   ]
  },
  {
   "attachments": {},
   "cell_type": "markdown",
   "metadata": {},
   "source": [
    "We can superimpose the predicted probabilities for a fine grid of log median incomes on the data figure we had made previously to compare the fitted model with the observed values:"
   ]
  },
  {
   "cell_type": "code",
   "execution_count": null,
   "metadata": {},
   "outputs": [],
   "source": [
    "# grid of log income values\n",
    "grid_df = pd.DataFrame({\n",
    "    'log_income': np.linspace(9, 14, 200)\n",
    "})\n",
    "\n",
    "# add predictions\n",
    "grid_df['pred'] = fit.predict(sm.add_constant(grid_df))\n",
    "\n",
    "# plot predictions against income\n",
    "model_viz = alt.Chart(grid_df).mark_line(color = 'red', opacity = 0.5).encode(\n",
    "    x = 'log_income',\n",
    "    y = 'pred'\n",
    ")\n",
    "\n",
    "# superimpose on data figure\n",
    "trend + band + model_viz"
   ]
  },
  {
   "attachments": {},
   "cell_type": "markdown",
   "metadata": {},
   "source": [
    "Depending on your training sample, the model may or may not align well with the computed proportions, but it should be mostly or entirely within the 0.4-standard-deviation band."
   ]
  },
  {
   "attachments": {},
   "cell_type": "markdown",
   "metadata": {},
   "source": [
    "To interpret the estimated relationship, recall that if median income is doubled, the log-odds changes by:\n",
    "\n",
    "$$\n",
    "\\hat{\\beta}_1\\log(2\\times\\text{median income}) - \\hat{\\beta}_1 \\log(\\text{median income}) = \\hat{\\beta}_1 \\log(2)\n",
    "$$\n",
    "\n",
    "Now, exponentiating gives the estimated multiplicative change in odds:\n",
    "\n",
    "$$\n",
    "\\exp\\left\\{\\log(\\text{baseline odds}) + \\hat{\\beta}_1 \\log(2)\\right\\} = \\text{baseline odds} \\times e^{\\hat{\\beta}_1 \\log(2)}\n",
    "$$\n",
    "\n",
    "So computing $e^{\\hat{\\beta}_1 \\log(2)}$ gives a quantity we can readily interpret:"
   ]
  },
  {
   "cell_type": "code",
   "execution_count": null,
   "metadata": {},
   "outputs": [],
   "source": [
    "np.exp(fit.params.log_income*np.log(2))"
   ]
  },
  {
   "attachments": {},
   "cell_type": "markdown",
   "metadata": {},
   "source": [
    "The exact number will depend a little bit on the data partition you used to compute the estimate, but the answer should be roughly consistent with the following interpretation:\n",
    "\n",
    "> *Each doubling of median income is associated with an estimated **four-fold** increase in the odds that a school district has a math gap favoring boys.*"
   ]
  },
  {
   "attachments": {},
   "cell_type": "markdown",
   "metadata": {},
   "source": [
    "## Classification\n",
    "\n",
    "Now we'll consider the task of classifying new school districts by the predicted direction of their math achievement gap.\n",
    "\n",
    "A straightforward classification rule would be:\n",
    "\n",
    "$$\n",
    "\\text{gap predicted to favor boys} \\quad\\Longleftrightarrow\\quad \\widehat{Pr}(\\text{gap favors boys}) > 0.5\n",
    "$$\n",
    "\n",
    "We can obtain the estimated probabilities using `.predict()`, and construct the classifier manually. To assess the accuracy, we'll want to arrange the classifications side-by-side with the observed outcomes:"
   ]
  },
  {
   "cell_type": "code",
   "execution_count": null,
   "metadata": {},
   "outputs": [],
   "source": [
    "# compute predicted probabilities on test set\n",
    "preds = fit.predict(sm.add_constant(test.log_income))\n",
    "\n",
    "# construct classifier\n",
    "pred_df = pd.DataFrame({\n",
    "    'observation': test.favors_boys,\n",
    "    'prediction': preds > 0.5\n",
    "})\n",
    "\n",
    "# preview\n",
    "pred_df.head()"
   ]
  },
  {
   "attachments": {},
   "cell_type": "markdown",
   "metadata": {},
   "source": [
    "Note that the testing partition was used here -- to get an unbiased estimate of the classification accuracy, we need data that were not used in fitting the model.\n",
    "\n",
    "Cross-tabulating observed and predicted outcomes gives a detailed view of the accuracy and error:"
   ]
  },
  {
   "cell_type": "code",
   "execution_count": null,
   "metadata": {},
   "outputs": [],
   "source": [
    "# cross-tabulate classifications with observed outcomes\n",
    "pred_tbl = pred_df.groupby(['observation', 'prediction']).size()\n",
    "pred_tbl"
   ]
  },
  {
   "attachments": {},
   "cell_type": "markdown",
   "metadata": {},
   "source": [
    "The entries where `observation` and `prediction` have the same value are counts of the number of districts correctly classified; those where they do not match are counts of errors."
   ]
  },
  {
   "attachments": {},
   "cell_type": "markdown",
   "metadata": {},
   "source": [
    "### Question 4: overall classification accuracy\n",
    "\n",
    "Compute the overall classification accuracy -- the proportion of districts that were correctly classified."
   ]
  },
  {
   "cell_type": "code",
   "execution_count": null,
   "metadata": {
    "tags": []
   },
   "outputs": [],
   "source": [
    "accuracy = ..."
   ]
  },
  {
   "cell_type": "code",
   "execution_count": null,
   "metadata": {
    "deletable": false,
    "editable": false
   },
   "outputs": [],
   "source": [
    "grader.check(\"q4\")"
   ]
  },
  {
   "attachments": {},
   "cell_type": "markdown",
   "metadata": {},
   "source": [
    "Often class-wise accuracy rates are more informative, because there are two possible types of error:\n",
    "\n",
    "1. A district that has a math gap favoring girls is classified as having a math gap favoring boys\n",
    "2. A district that has a math gap favoring boys is classified as having a math gap favoring girls\n",
    "\n",
    "You may notice that there were more errors of one type than another in your result above. This is not conveyed by reporting the overall accuracy rate.\n",
    "\n",
    "For a clearer picture, we can find the proportion of errors among by outcome:"
   ]
  },
  {
   "cell_type": "code",
   "execution_count": null,
   "metadata": {},
   "outputs": [],
   "source": [
    "pred_df['error'] = (pred_df.observation != pred_df.prediction)\n",
    "fnr = pred_df[pred_df.observation == True].error.mean()\n",
    "fpr = pred_df[pred_df.observation == False].error.mean()\n",
    "tpr = 1 - fpr\n",
    "tnr = 1 - fnr\n",
    "\n",
    "print('false positive rate: ', fpr)\n",
    "print('false negative rate: ', fnr)\n",
    "print('true positive rate (sensitivity): ', tpr)\n",
    "print('true negative rate (specificity): ', tnr)\n"
   ]
  },
  {
   "attachments": {},
   "cell_type": "markdown",
   "metadata": {},
   "source": [
    "### Question 5: make your own classifier\n",
    "\n",
    "Define a new classifier by adjusting the probability threshold. Compute and print the false positive, false negative, true positive, and true negative rates. Experiment until you achieve a better balance between errors of each type."
   ]
  },
  {
   "cell_type": "code",
   "execution_count": null,
   "metadata": {
    "tags": []
   },
   "outputs": [],
   "source": [
    "# construct classifier\n",
    "new_pred_df = pd.DataFrame({\n",
    "    ...\n",
    "    ...\n",
    "})\n",
    "\n",
    "# compute error rates\n",
    "new_pred_df['error'] = ...\n",
    "new_fnr = ...\n",
    "new_fpr = ...\n",
    "new_tpr = ...\n",
    "new_tnr = ...\n",
    "\n",
    "# print\n",
    "print('false positive rate: ', new_fpr)\n",
    "print('false negative rate: ', new_fnr)\n",
    "print('true positive rate (sensitivity): ', new_tpr)\n",
    "print('true negative rate (specificity): ', new_tnr)\n"
   ]
  },
  {
   "cell_type": "code",
   "execution_count": null,
   "metadata": {
    "deletable": false,
    "editable": false
   },
   "outputs": [],
   "source": [
    "grader.check(\"q5\")"
   ]
  },
  {
   "attachments": {},
   "cell_type": "markdown",
   "metadata": {},
   "source": [
    "# Submission\n",
    "\n",
    "\n",
    "1. Save the notebook. \n",
    "2. Restart the kernel and run all cells. (**CAUTION**: if your notebook is not saved, you will lose your work.)\n",
    "3. Carefully look through your notebook and verify that all computations execute correctly and all graphics are displayed clearly. You should see **no errors**; if there are any errors, make sure to correct them before you submit the notebook.\n",
    "4. Download the notebook as an `.ipynb` file. This is your backup copy.\n",
    "5. Export the notebook as PDF and upload to Gradescope."
   ]
  },
  {
   "cell_type": "markdown",
   "metadata": {
    "deletable": false,
    "editable": false
   },
   "source": [
    "---\n",
    "\n",
    "To double-check your work, the cell below will rerun all of the autograder tests."
   ]
  },
  {
   "cell_type": "code",
   "execution_count": null,
   "metadata": {
    "deletable": false,
    "editable": false
   },
   "outputs": [],
   "source": [
    "grader.check_all()"
   ]
  }
 ],
 "metadata": {
  "kernelspec": {
   "display_name": "base",
   "language": "python",
   "name": "python3"
  },
  "language_info": {
   "codemirror_mode": {
    "name": "ipython",
    "version": 3
   },
   "file_extension": ".py",
   "mimetype": "text/x-python",
   "name": "python",
   "nbconvert_exporter": "python",
   "pygments_lexer": "ipython3",
   "version": "3.9.12"
  },
  "otter": {
   "OK_FORMAT": true,
   "tests": {
    "q1": {
     "name": "q1",
     "points": 1,
     "suites": [
      {
       "cases": [
        {
         "code": ">>> len(idx) == 100\nTrue",
         "hidden": false,
         "locked": false
        },
        {
         "code": ">>> train.shape[0] > test.shape[0]\nTrue",
         "hidden": false,
         "locked": false
        },
        {
         "code": ">>> test.shape[1] == train.shape[1]\nTrue",
         "hidden": false,
         "locked": false
        },
        {
         "code": ">>> (train.shape[0] + test.shape[0]) == reg_data.shape[0]\nTrue",
         "hidden": false,
         "locked": false
        },
        {
         "code": ">>> len(np.intersect1d(train.index.values, test.index.values)) == 0\nTrue",
         "hidden": false,
         "locked": false
        }
       ],
       "scored": true,
       "setup": "",
       "teardown": "",
       "type": "doctest"
      }
     ]
    },
    "q3": {
     "name": "q3",
     "points": 1,
     "suites": [
      {
       "cases": [
        {
         "code": ">>> (np.round((coef_tbl.estimate - 2.5758*coef_tbl.loc[:, 'standard error']) - param_ci['lwr'], 2) == 0).all()\nTrue",
         "hidden": false,
         "locked": false
        },
        {
         "code": ">>> (np.round((coef_tbl.estimate + 2.5758*coef_tbl.loc[:, 'standard error']) - param_ci['upr'], 2) == 0).all()\nTrue",
         "hidden": false,
         "locked": false
        }
       ],
       "scored": true,
       "setup": "",
       "teardown": "",
       "type": "doctest"
      }
     ]
    },
    "q4": {
     "name": "q4",
     "points": 1,
     "suites": [
      {
       "cases": [
        {
         "code": ">>> (pred_tbl.values[0] + pred_tbl.values[3])/pred_tbl.values.sum() == accuracy\nTrue",
         "hidden": false,
         "locked": false
        }
       ],
       "scored": true,
       "setup": "",
       "teardown": "",
       "type": "doctest"
      }
     ]
    },
    "q5": {
     "name": "q5",
     "points": 1,
     "suites": [
      {
       "cases": [
        {
         "code": ">>> (new_fnr < fnr) & (new_fpr > fpr)\nTrue",
         "hidden": false,
         "locked": false
        }
       ],
       "scored": true,
       "setup": "",
       "teardown": "",
       "type": "doctest"
      }
     ]
    }
   }
  }
 },
 "nbformat": 4,
 "nbformat_minor": 2
}
