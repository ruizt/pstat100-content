{
 "cells": [
  {
   "cell_type": "code",
   "execution_count": null,
   "metadata": {
    "deletable": false,
    "editable": false
   },
   "outputs": [],
   "source": [
    "# Initialize Otter\n",
    "import otter\n",
    "grader = otter.Notebook(\"hw1-brfss.ipynb\")"
   ]
  },
  {
   "cell_type": "code",
   "execution_count": null,
   "metadata": {},
   "outputs": [],
   "source": [
    "import numpy as np\n",
    "import pandas as pd\n",
    "import altair as alt"
   ]
  },
  {
   "attachments": {},
   "cell_type": "markdown",
   "metadata": {},
   "source": [
    "# Background\n",
    "\n",
    "The [Behavioral Risk Factor Surveillance System](https://www.cdc.gov/brfss/index.html) (BRFSS) is a long-term effort administered by the CDC to collect data on behaviors affecting physical and mental health, past and present health conditions, and access to healthcare among U.S. residents. The BRFSS comprises telephone surveys of U.S. residents conducted annually since 1984; in the last decade, over half a million interviews have been conducted each year. This is the largest such data collection effort in the world, and many countries have developed similar programs. The objective of the program is to support monitoring and analysis of factors influencing public health in the United States.\n",
    "\n",
    "Each year, a standard survey questionnaire is developed that includes a core component comprising questions about: demographic and household information; health-related perceptions, conditions, and behaviors; substance use; and diet. Trained interviewers in each state call randomly selected telephone (landline and cell) numbers and administer the questionnaire; the phone numbers are chosen so as to obtain a representative sample of all households with telephone numbers. Take a moment to [read about the 2019 survey here](https://www.cdc.gov/brfss/annual_data/annual_2019.html).\n",
    "\n",
    "In this assignment you'll import and subsample the BRFSS 2019 data and perform a simple descriptive analysis exploring associations between adverse childhood experiences, health perceptions, tobacco use, and depressive disorders. This is an opportunity to practice:\n",
    "\n",
    "* review of data documentation\n",
    "* data assessment and critical thinking about data collection \n",
    "* dataframe transformations in pandas \n",
    "* communicating and interpreting grouped summaries"
   ]
  },
  {
   "attachments": {},
   "cell_type": "markdown",
   "metadata": {},
   "source": [
    "# Data import and assessment\n",
    "\n",
    "The cell below imports select columns from the 2019 dataset as a pandas DataFrame. The file is big, so this may take a few moments. Run the cell and then have a quick look at the first few rows and columns."
   ]
  },
  {
   "cell_type": "code",
   "execution_count": null,
   "metadata": {},
   "outputs": [],
   "source": [
    "# store variable names of interest\n",
    "selected_vars = ['_SEX', '_AGEG5YR', \n",
    "                 'GENHLTH', 'ACEPRISN', \n",
    "                 'ACEDRUGS', 'ACEDRINK', \n",
    "                 'ACEDEPRS', 'ADDEPEV3', \n",
    "                 '_SMOKER3', '_LLCPWT']\n",
    "\n",
    "# import full 2019 BRFSS dataset\n",
    "brfss = pd.read_csv('data/brfss2019.zip', compression = 'zip', usecols = selected_vars)\n",
    "\n",
    "# invert sampling weights\n",
    "brfss['_LLCPWT'] = 1/brfss._LLCPWT\n",
    "\n",
    "# print first few rows\n",
    "brfss.head()"
   ]
  },
  {
   "attachments": {},
   "cell_type": "markdown",
   "metadata": {},
   "source": [
    "### Question 1: Data dimensions\n",
    "\n",
    "Check the dimensions of the dataset. Store the dimensions as `nrows` and `ncolumns`.\n"
   ]
  },
  {
   "cell_type": "code",
   "execution_count": null,
   "metadata": {
    "tags": []
   },
   "outputs": [],
   "source": [
    "nrows, ncolumns = ...\n",
    "\n",
    "print(nrows, ncolumns)"
   ]
  },
  {
   "cell_type": "code",
   "execution_count": null,
   "metadata": {
    "deletable": false,
    "editable": false
   },
   "outputs": [],
   "source": [
    "grader.check(\"q1\")"
   ]
  },
  {
   "attachments": {},
   "cell_type": "markdown",
   "metadata": {},
   "source": [
    "<!-- BEGIN QUESTION -->\n",
    "\n",
    "### Question 2: Row and column information\n",
    "\n",
    "Now that you've imported the data, you should verify that the dimensions conform to the format you expect based on data documentation and ensure you understand what each row and each column represents.\n",
    "\n",
    "Check the number of records (interviews conducted) reported and variables measured for 2019 by reviewing the [surveillance summaries by year](https://www.cdc.gov/brfss/annual_data/all_years/states_data.htm), and then answer the following questions in a few sentences:\n",
    "\n",
    "* Does the number of rows match the number of reported records? \n",
    "* How many columns were imported, and how many columns are reported in the full dataset? \n",
    "* What does each row in the `brfss` dataframe represent?\n",
    "* What does each column in the `brfss` dataframe represent\n"
   ]
  },
  {
   "cell_type": "markdown",
   "metadata": {},
   "source": [
    "_Type your answer here, replacing this text._"
   ]
  },
  {
   "attachments": {},
   "cell_type": "markdown",
   "metadata": {},
   "source": [
    "<!-- END QUESTION -->\n",
    "\n",
    "<!-- BEGIN QUESTION -->\n",
    "\n",
    "### Question 3: Sampling design and data collection\n",
    "\n",
    "Skim the [overview documentation](https://www.cdc.gov/brfss/annual_data/2019/pdf/overview-2019-508.pdf) for the 2019 BRFSS data. Focus specifically the 'Background' and 'Data Collection' sections, read selectively for relevant details, and answer the following questions in a few sentences:\n",
    "\n",
    "i. Who conducts the interviews and how long does a typical interview last?\n",
    "\n",
    "ii. Who does an interviewer speak to in each household?\n",
    "\n",
    "iii. What criteria must a person meet to be interviewed?\n",
    "\n",
    "iv. Who *can't* appear in the survey? Give two examples.\n",
    "\n",
    "v. What is the study population (*i.e.*, all individuals who could possibly be sampled)?\n",
    "\n",
    "vi. Does the data contain any identifying information?"
   ]
  },
  {
   "cell_type": "markdown",
   "metadata": {},
   "source": [
    "_Type your answer here, replacing this text._"
   ]
  },
  {
   "attachments": {},
   "cell_type": "markdown",
   "metadata": {},
   "source": [
    "<!-- END QUESTION -->\n",
    "\n",
    "<!-- BEGIN QUESTION -->\n",
    "\n",
    "### Question 4: Variable descriptions\n",
    "\n",
    "You'll work with the small subset variables imported above: sex, age, general health self-assessment, smoking status, depressive disorder, and adverse childhood experiences (ACEs). The names of these variables as they appear in the raw dataset are defined in the cell in which you imported the data as `selected_vars`. It is often useful, and therefore good practice, to include a brief description of each variable at the outset of any reported analyses, both for your own clarity and for that of any potential readers. Open the [2019 BRFSS codebook](https://www.cdc.gov/brfss/annual_data/2019/pdf/codebook19_llcp-v2-508.HTML) in your browser and use text searching to locate each of the variable names of interest. Read the codebook entries and fill in the second column in the table below with a one-sentence description of each variable identified in `selected_vars`. Rephrase the descriptions in your own words -- do not copy the codebook descriptions verbatim.\n"
   ]
  },
  {
   "cell_type": "markdown",
   "metadata": {},
   "source": [
    "Variable name | Description \n",
    "--------------|--------------\n",
    "`GENHLTH` |\n",
    "`_SEX` |\n",
    "`_AGEG5YR` |\n",
    "`ACEPRISN` |\n",
    "`ACEDRUGS` |\n",
    "`ACEDRINK` |\n",
    "`ACEDEPRS` |\n",
    "`ADDEPEV3` |\n",
    "`_SMOKER3` |"
   ]
  },
  {
   "attachments": {},
   "cell_type": "markdown",
   "metadata": {},
   "source": [
    "<!-- END QUESTION -->\n",
    "\n",
    "# Subsampling\n",
    "\n",
    "To simplify life a little, we'll draw a large random sample of the rows and work with that in place of the full dataset. This is known as **subsampling**. \n",
    "\n",
    "The cell below draws a random subsample of 10k records. Because the subsample is randomly drawn, we should not expect it to vary in any systematic way from the overall dataset, and distinct subsamples should have similar properties -- therefore, results downstream should be similar to an analysis of the full dataset, and should also be possible to replicate using distinct subsamples."
   ]
  },
  {
   "cell_type": "code",
   "execution_count": null,
   "metadata": {},
   "outputs": [],
   "source": [
    "# for reproducibility\n",
    "np.random.seed(32221) \n",
    "\n",
    "# randomly sample 10k records\n",
    "samp = brfss.sample(n = 10000, \n",
    "                    replace = False, \n",
    "                    weights = '_LLCPWT')"
   ]
  },
  {
   "attachments": {},
   "cell_type": "markdown",
   "metadata": {},
   "source": [
    "*Asides:* \n",
    "\n",
    "* Notice that the random number generator seed is set before carrying out this task -- this ensures that every time the cell is run, the same subsample is drawn. As a result, the computations in this notebook are _reproducible_: when I run the notebook on my computer, I get the same results as you get when you run the notebook on your computer. \n",
    "\n",
    "* Notice also that _sampling weights_ provided with the dataset are used to draw a weighted sample. Some respondents are more likely to be selected than others from the general population of U.S. adults with phone numbers, so the BRFSS calculates derived weights that are inversely proportional to estimates of the probability that the respondent is included in the survey. This is a somewhat sophisticated calculation, however if you're interested, you can read about how these weights are calculated and why in the overview documentation you used to answer the questions above. We use the sampling weights in drawing the subsample so that we get a representative sample of U.S. adults with phone numbers.\n",
    "\n",
    "* Notice the missing values. How many entries are missing in each column? The cell below computes the proportion of missing values for each of the selected variables. We'll return to this issue later on."
   ]
  },
  {
   "cell_type": "code",
   "execution_count": null,
   "metadata": {},
   "outputs": [],
   "source": [
    "# proportions of missingness \n",
    "samp.isna().mean()"
   ]
  },
  {
   "attachments": {},
   "cell_type": "markdown",
   "metadata": {},
   "source": [
    "# Tidying\n",
    "\n",
    "In the following series of questions you'll tidy up the subsample by performing these steps:\n",
    "\n",
    "* selecting columns of interest;\n",
    "* replacing coded values of question responses with responses;\n",
    "* defining new variables based on existing ones;\n",
    "* renaming columns.\n",
    "\n",
    "The goal of this is to produce a clean version of the dataset that is well-organized, intuitive to navigate, and ready for analysis.\n",
    "\n",
    "The variable entries are coded numerically to represent certain responses. These should be replaced by more informative entries. We can use the codebook to determine which number means what, and replace the values accordingly.\n",
    "\n",
    "The cell below replaces the numeric values for `_AGEG5YR` by their meanings, illustrating how to use `.replace()` with a dictionary to convert the numeric coding to interpretable values. The basic strategy is:\n",
    "\n",
    "1. Store the variable coding for `VAR` as a dictionary `var_codes`.\n",
    "2. Use `.replace({'VAR': var_codes})` to modify values.\n",
    "\n",
    "If you need additional examples, check the [pandas documentation](https://pandas.pydata.org/docs/reference/api/pandas.DataFrame.replace.html) for `.replace()`."
   ]
  },
  {
   "cell_type": "code",
   "execution_count": null,
   "metadata": {},
   "outputs": [],
   "source": [
    "# dictionary representing variable coding\n",
    "age_codes = {\n",
    "    1: '18-24', 2: '25-29', 3: '30-34',\n",
    "    4: '35-39', 5: '40-44', 6: '45-49',\n",
    "    7: '50-54', 8: '55-59', 9: '60-64',\n",
    "    10: '65-69', 11: '70-74', 12: '75-79',\n",
    "    13: '80+', 14: 'Unsure/refused/missing'\n",
    "}\n",
    "\n",
    "# recode age categories\n",
    "samp_mod1 = samp.replace({'_AGEG5YR': age_codes})\n",
    "\n",
    "# check result\n",
    "samp_mod1.head()"
   ]
  },
  {
   "attachments": {},
   "cell_type": "markdown",
   "metadata": {},
   "source": [
    "### Question 5: Recoding variables\n",
    "\n",
    "Following the example immediately above and referring to the [2019 BRFSS codebook](https://www.cdc.gov/brfss/annual_data/2019/pdf/codebook19_llcp-v2-508.HTML), replace the numeric codings with response categories for each of the following variables:\n",
    "\n",
    "* `_SEX`\n",
    "* `GENHLTH`\n",
    "* `_SMOKER3`\n",
    "\n",
    "Notice that above, the first modification (slicing) was stored as `samp_mod1`, and was a function of `samp`. You'll follow this pattern, creating `samp_mod2`, `samp_mod3`, and so on so that each step (modification) of your data manipulations is stored separately, for easy troubleshooting.\n",
    "\n",
    "i. Recode `_SEX`: define a new dataframe `samp_mod2` that is the same as `samp_mod1` but with the `_SEX` variable recoded as `M` and `F`. \n",
    "\n",
    "ii. Recode `GENHLTH`: define a new dataframe `samp_mod3` that is the same as `samp_mod2` but with the `GENHLTH` variable recoded as `Excellent`, `Very good`, `Good`, `Fair`, `Poor`, `Unsure`, and `Refused`.\n",
    "\n",
    "iii. Recode `_SMOKER3`: define a new dataframe `samp_mod4` that is the same as `samp_mod3` but with `_SMOKER3` recoded as `Daily`, `Some days`, `Former`, `Never`, and `Unsure/refused/missing`. \n",
    "\n",
    "iv. Print the first few rows of `samp_mod4`."
   ]
  },
  {
   "cell_type": "code",
   "execution_count": null,
   "metadata": {
    "tags": []
   },
   "outputs": [],
   "source": [
    "# define dictionary for sex\n",
    "sex_codes = ...\n",
    "\n",
    "# recode sex\n",
    "samp_mod2 = ...\n",
    "\n",
    "# define dictionary for health\n",
    "health_codes = ...\n",
    "\n",
    "# recode health\n",
    "samp_mod3 = ...\n",
    "\n",
    "# define dictionary for smoking\n",
    "smoke_codes = ...\n",
    "\n",
    "# recode smoking\n",
    "samp_mod4 = ...\n",
    "\n",
    "# print a few rows\n",
    "..."
   ]
  },
  {
   "cell_type": "code",
   "execution_count": null,
   "metadata": {
    "deletable": false,
    "editable": false
   },
   "outputs": [],
   "source": [
    "grader.check(\"q5\")"
   ]
  },
  {
   "attachments": {},
   "cell_type": "markdown",
   "metadata": {},
   "source": [
    "### Question 6: Value replacement\n",
    "\n",
    "Now all the variables *except* the adverse childhood experience and depressive disorder question responses are represented interpretably. In the codebook that the answer key is identical for these remaining variables. \n",
    "\n",
    "The numeric codings can be replaced all at once by applying `.replace()` to the dataframe with an argument of the form \n",
    "\n",
    "* `df.replace({'var1': varcodes1, 'var2': varcodes1, ..., 'varp': varcodesp})` \n",
    "\n",
    "Define a new dataframe `samp_mod5` that is the same as `samp_mod4` but with the remaining variables recoded according to the answer key `Yes`, `No`, `Unsure`, `Refused`. Print the first few rows of the result using `.head()`.\n"
   ]
  },
  {
   "cell_type": "code",
   "execution_count": null,
   "metadata": {
    "tags": []
   },
   "outputs": [],
   "source": [
    "# define dictionary\n",
    "answer_codes = ...\n",
    "\n",
    "# recode\n",
    "samp_mod5 = ...\n",
    "\n",
    "# check using head()\n",
    "..."
   ]
  },
  {
   "cell_type": "code",
   "execution_count": null,
   "metadata": {
    "deletable": false,
    "editable": false
   },
   "outputs": [],
   "source": [
    "grader.check(\"q6\")"
   ]
  },
  {
   "cell_type": "markdown",
   "metadata": {},
   "source": [
    "Finally, all the variables in the dataset are categorical. Notice that the current data types do not reflect this."
   ]
  },
  {
   "cell_type": "code",
   "execution_count": null,
   "metadata": {},
   "outputs": [],
   "source": [
    "samp_mod5.dtypes"
   ]
  },
  {
   "cell_type": "markdown",
   "metadata": {},
   "source": [
    "Let's coerce the variables to `category` data types using `.astype()`."
   ]
  },
  {
   "cell_type": "code",
   "execution_count": null,
   "metadata": {},
   "outputs": [],
   "source": [
    "# coerce to categorical\n",
    "samp_mod6 = samp_mod5.astype('category')\n",
    "\n",
    "# check new data types\n",
    "samp_mod6.dtypes"
   ]
  },
  {
   "attachments": {},
   "cell_type": "markdown",
   "metadata": {},
   "source": [
    "### Question 7: Define ACE indicator variable\n",
    "\n",
    "Downstream analysis of ACEs will be facilitated by having an indicator variable that is a `1` if the respondent answered 'Yes' to any ACE question, and a `0` otherwise -- that way, you can easily count the number of respondents reporting ACEs by summing up the indicator or compute the proportion by taking an average.\n",
    "\n",
    "To this end, define a new logical variable:\n",
    "\n",
    "* `adverse_conditions`: did the respondent answer yes to any of the adverse childhood condition questions?\n",
    "\n",
    "You can accomplish this task in several steps:\n",
    "\n",
    "1. Obtain a logical array indicating the positions of the ACE variables (hint: use `.columns` to obtain the column index and operate on the result with `.str.startswith(...)`.). Store this as `ace_positions`.\n",
    "2. Use the logical array `ace_positions` to select the ACE columns via `.loc[]`. Store this as `ace_data`.\n",
    "3. Obtain a dataframe that indicates whether each entry is a 'Yes' (hint: use the boolean operator `==`, which is a vectorized operation). Store this as `ace_yes`.\n",
    "4. Compute the row sums using `.sum()`. Store this as `ace_numyes`.\n",
    "5. Define the new variable as `ace_numyes > 0`.\n",
    "\n",
    "Store the result as `samp_mod7`, and print the first few rows using `.head()`.\n"
   ]
  },
  {
   "cell_type": "code",
   "execution_count": null,
   "metadata": {
    "tags": []
   },
   "outputs": [],
   "source": [
    "\n",
    "# copy samp_mod6\n",
    "samp_mod8 = samp_mod6.copy()\n",
    "\n",
    "# ace column positions\n",
    "ace_positions = ...\n",
    "\n",
    "# ace data\n",
    "ace_data = ...\n",
    "\n",
    "# ace yes indicators\n",
    "ace_yes = ...\n",
    "\n",
    "# number of yesses\n",
    "ace_numyes = ...\n",
    "\n",
    "# assign new variable\n",
    "samp_mod8['adverse_conditions'] = ...\n",
    "\n",
    "# check result using .head()\n",
    "..."
   ]
  },
  {
   "cell_type": "code",
   "execution_count": null,
   "metadata": {
    "deletable": false,
    "editable": false
   },
   "outputs": [],
   "source": [
    "grader.check(\"q7\")"
   ]
  },
  {
   "attachments": {},
   "cell_type": "markdown",
   "metadata": {},
   "source": [
    "### Question 8: Define missingness indicator variable\n",
    "\n",
    "As you saw earlier, there are some missing values for the ACE questions. These arise whenever a respondent is not asked these questions. In fact, answers are missing for nearly 80% of the respondents in our subsample. We should keep track of this information. Define a missing indicator:\n",
    "\n",
    "* `adverse_missing`: is a response missing for at least one of the ACE questions?\n"
   ]
  },
  {
   "cell_type": "code",
   "execution_count": null,
   "metadata": {
    "tags": []
   },
   "outputs": [],
   "source": [
    "# copy modification 7\n",
    "samp_mod8 = samp_mod7.copy()\n",
    "\n",
    "# define missing indicator using loc\n",
    "...\n",
    "\n",
    "# check using head()"
   ]
  },
  {
   "cell_type": "code",
   "execution_count": null,
   "metadata": {
    "deletable": false,
    "editable": false
   },
   "outputs": [],
   "source": [
    "grader.check(\"q8\")"
   ]
  },
  {
   "attachments": {},
   "cell_type": "markdown",
   "metadata": {},
   "source": [
    "### Question 9: Filter respondents who did not answer ACE questions\n",
    "\n",
    "Since values are missing for the ACE question if a respondent was not asked, we can remove these observations and do any analysis *conditional on respondents having been asked the ACE questions*. Use your indicator variable `adverse_missing` to filter out respondents who were not asked the ACE questions.\n",
    "\n",
    "Note that this dramatically limits the scope of inference for subsequent analyses to only those locations where the ACE module was included in the survey.\n"
   ]
  },
  {
   "cell_type": "code",
   "execution_count": null,
   "metadata": {
    "tags": []
   },
   "outputs": [],
   "source": [
    "samp_mod9 = ..."
   ]
  },
  {
   "cell_type": "code",
   "execution_count": null,
   "metadata": {
    "deletable": false,
    "editable": false
   },
   "outputs": [],
   "source": [
    "grader.check(\"q9\")"
   ]
  },
  {
   "attachments": {},
   "cell_type": "markdown",
   "metadata": {},
   "source": [
    "### Question 10: Define depression indicator variable\n",
    "\n",
    "It will prove similarly helpful to define an indicator for reported depression:\n",
    "\n",
    "* `depression`: did the respondent report having been diagnosed with a depressive disorder?\n",
    "\n",
    "Follow the same strategy as above for the ACE variables, and store the result as `samp_mod10`. See if you can perform the calculation of the new variable in a single line of code. Print the first few rows using `.head()`.\n"
   ]
  },
  {
   "cell_type": "code",
   "execution_count": null,
   "metadata": {
    "tags": []
   },
   "outputs": [],
   "source": [
    "# copy samp_mod9\n",
    "samp_mod10 = samp_mod9.copy()\n",
    "\n",
    "# define new variable using loc\n",
    "...\n",
    "\n",
    "# check using .head()\n",
    "..."
   ]
  },
  {
   "cell_type": "code",
   "execution_count": null,
   "metadata": {
    "deletable": false,
    "editable": false
   },
   "outputs": [],
   "source": [
    "grader.check(\"q10\")"
   ]
  },
  {
   "attachments": {},
   "cell_type": "markdown",
   "metadata": {},
   "source": [
    "### Question 11: Final dataset\n",
    "\n",
    "For the final dataset, drop the respondent answers to individual questions, the missingness indicator, and select just the derived indicator variables along with state, general health, sex, age, and smoking status. Check the [pandas documentation](https://pandas.pydata.org/pandas-docs/stable/reference/api/pandas.DataFrame.rename.html) for `.rename()` and follow the examples to rename the latter variables:\n",
    "\n",
    "* general_health\n",
    "* sex\n",
    "* age\n",
    "* smoking\n",
    "\n",
    "See if you can perform both operations (slicing and renaming) in a single chain. Store the result as `data`.\n"
   ]
  },
  {
   "cell_type": "code",
   "execution_count": null,
   "metadata": {
    "tags": []
   },
   "outputs": [],
   "source": [
    "samp_mod10.columns"
   ]
  },
  {
   "cell_type": "code",
   "execution_count": null,
   "metadata": {
    "tags": []
   },
   "outputs": [],
   "source": [
    "# slice and rename\n",
    "data = ...\n",
    "\n",
    "# check using .head()\n"
   ]
  },
  {
   "cell_type": "code",
   "execution_count": null,
   "metadata": {
    "deletable": false,
    "editable": false
   },
   "outputs": [],
   "source": [
    "grader.check(\"q11\")"
   ]
  },
  {
   "attachments": {},
   "cell_type": "markdown",
   "metadata": {},
   "source": [
    "# Descriptive analysis\n",
    "\n",
    "Now that you have a clean dataset, you'll use grouping and aggregation to compute several summary statistics that will help you explore whether there is an apparent association between experiencing adverse childhood conditions and self-reported health, smoking status, and depressive disorders in areas where the ACE module was administered.\n",
    "\n",
    "The basic strategy will be to calculate the proportions of respondents who answered yes to one of the adverse experience questions when respondents are grouped by the other variables."
   ]
  },
  {
   "attachments": {},
   "cell_type": "markdown",
   "metadata": {},
   "source": [
    "### Question 12: Proportion of respondents reporting ACEs\n",
    "\n",
    "Calculate the overall proportion of respondents in the subsample that reported experiencing at least one adverse condition (given that they answered the ACE questions). Use `.mean()`; store the result as `mean_ace` and print.\n"
   ]
  },
  {
   "cell_type": "code",
   "execution_count": null,
   "metadata": {
    "tags": []
   },
   "outputs": [],
   "source": [
    "# proportion of respondents reporting at least one adverse condition\n",
    "mean_ace = ...\n",
    "\n",
    "# print\n",
    "mean_ace"
   ]
  },
  {
   "cell_type": "code",
   "execution_count": null,
   "metadata": {
    "deletable": false,
    "editable": false
   },
   "outputs": [],
   "source": [
    "grader.check(\"q12\")"
   ]
  },
  {
   "cell_type": "markdown",
   "metadata": {},
   "source": [
    "*Does the proportion of respondents who reported experiencing adverse childhood conditions vary by general health?*\n",
    "\n",
    "The cell below computes the porportion separately by general health self-rating. Notice that the depression variable is dropped so that the result doesn't also report the proportion of respondents reporting having been diagnosed with a depressive disorder. Notice also that the proportion of missing values for respondents indicating each general health rating is shown."
   ]
  },
  {
   "cell_type": "code",
   "execution_count": null,
   "metadata": {},
   "outputs": [],
   "source": [
    "# proportions grouped by general health\n",
    "data.drop(\n",
    "    columns = 'depression'\n",
    ").groupby(\n",
    "    'general_health'\n",
    ").mean(numeric_only = True)"
   ]
  },
  {
   "cell_type": "markdown",
   "metadata": {},
   "source": [
    "Notice that the row index lists the general health rating out of order. This can be fixed using a `.loc[]` call and the dictionary that was defined for the variable coding."
   ]
  },
  {
   "cell_type": "code",
   "execution_count": null,
   "metadata": {},
   "outputs": [],
   "source": [
    "# same as above, rearranging index\n",
    "ace_health = data.drop(\n",
    "    columns = 'depression'\n",
    ").groupby(\n",
    "    'general_health'\n",
    ").mean(\n",
    "    numeric_only = True\n",
    ").loc[list(health_codes.values()), :]\n",
    "\n",
    "# print\n",
    "ace_health"
   ]
  },
  {
   "attachments": {},
   "cell_type": "markdown",
   "metadata": {},
   "source": [
    "### Question 13: Association between smoking status and ACEs\n",
    "\n",
    "*Does the proportion of respondents who reported experiencing adverse childhood conditions vary by smoking status?*\n",
    "\n",
    "Following the example above for computing the proportion of respondents reporting ACEs by general health rating, calculate the proportion of respondents reporting ACEs by smoking status (be sure to arrange the rows in appropriate order of smoking status) and store as `ace_smoking`.\n"
   ]
  },
  {
   "cell_type": "code",
   "execution_count": null,
   "metadata": {
    "tags": []
   },
   "outputs": [],
   "source": [
    "# proportions grouped by smoking status\n",
    "ace_smoking = data.drop(\n",
    "    columns = 'depression'\n",
    ").groupby(\n",
    "    'smoking'\n",
    ").mean(\n",
    "    numeric_only = True\n",
    "...\n",
    "\n",
    "# print\n",
    "ace_smoking"
   ]
  },
  {
   "cell_type": "code",
   "execution_count": null,
   "metadata": {
    "deletable": false,
    "editable": false
   },
   "outputs": [],
   "source": [
    "grader.check(\"q13\")"
   ]
  },
  {
   "attachments": {},
   "cell_type": "markdown",
   "metadata": {},
   "source": [
    "### Question 14: Association between depression and ACEs\n",
    "\n",
    "*Does the proportion of respondents who reported experiencing adverse childhood conditions vary by smoking status?*\n",
    "\n",
    "Calculate the proportion of respondents reporting ACEs by whether respondents had been diagnosed with a depressive disorder and store as `ace_depr`.\n"
   ]
  },
  {
   "cell_type": "code",
   "execution_count": null,
   "metadata": {
    "tags": []
   },
   "outputs": [],
   "source": [
    "# proportions grouped by having experienced depression\n",
    "ace_depr = data.groupby(\n",
    "    'depression'\n",
    ").mean(\n",
    "    numeric_only = True\n",
    "...\n",
    "\n",
    "# print\n",
    "ace_depr"
   ]
  },
  {
   "cell_type": "code",
   "execution_count": null,
   "metadata": {
    "deletable": false,
    "editable": false
   },
   "outputs": [],
   "source": [
    "grader.check(\"q14\")"
   ]
  },
  {
   "attachments": {},
   "cell_type": "markdown",
   "metadata": {},
   "source": [
    "### Question 15: Exploring subgroupings\n",
    "\n",
    "*Does the apparent association between general health and ACEs persist after accounting for sex?*\n",
    "\n",
    "Repeat the calculation of the proportion of respondents reporting ACEs by general health rating, but also group by sex. Store the result as `ace_health_sex`.\n"
   ]
  },
  {
   "cell_type": "code",
   "execution_count": null,
   "metadata": {
    "tags": []
   },
   "outputs": [],
   "source": [
    "# group by general health and sex\n",
    "ace_health_sex = data.drop(\n",
    "    columns = 'depression'\n",
    ").groupby(\n",
    "    ['general_health', 'sex']\n",
    "..."
   ]
  },
  {
   "cell_type": "code",
   "execution_count": null,
   "metadata": {
    "deletable": false,
    "editable": false
   },
   "outputs": [],
   "source": [
    "grader.check(\"q15\")"
   ]
  },
  {
   "attachments": {},
   "cell_type": "markdown",
   "metadata": {},
   "source": [
    "The cell below rearranges the table a little for better readability."
   ]
  },
  {
   "cell_type": "code",
   "execution_count": null,
   "metadata": {},
   "outputs": [],
   "source": [
    "# pivot table for better display\n",
    "ace_health_sex.reset_index().pivot(columns = 'sex', index = 'general_health', values = 'adverse_conditions').loc[list(health_codes.values()), :]"
   ]
  },
  {
   "cell_type": "markdown",
   "metadata": {},
   "source": [
    "Even after rearrangement, the table in the last question is a little tricky to read (few people like visually scanning tables). This information would be better displayed in a plot. The example below generates a bar chart showing the summaries you calculated in Q2(d), with the proportion on the y axis, the health rating on the x axis, and separate bars for the two sexes."
   ]
  },
  {
   "cell_type": "code",
   "execution_count": null,
   "metadata": {},
   "outputs": [],
   "source": [
    "# coerce indices to columns for plotting\n",
    "plot_df = ace_health_sex.reset_index()\n",
    "\n",
    "# specify order of general health categories\n",
    "genhealth_order = list(health_codes.values())\n",
    "plot_df.general_health.cat.set_categories(genhealth_order, inplace=True)\n",
    "plot_df.sort_values([\"general_health\"], inplace=True)\n",
    "\n",
    "# plot\n",
    "alt.Chart(plot_df).mark_bar().encode(\n",
    "    x = alt.X('general_health', \n",
    "              sort = ['general_health'],\n",
    "              title = 'Self-rated general health'),\n",
    "    y = alt.Y('adverse_conditions',\n",
    "              title = 'Prop. of respondents reporting ACEs'),\n",
    "    color = 'sex',\n",
    "    column = 'sex'\n",
    ").properties(\n",
    "    width = 200, \n",
    "    height = 200\n",
    ")"
   ]
  },
  {
   "attachments": {},
   "cell_type": "markdown",
   "metadata": {},
   "source": [
    "<!-- BEGIN QUESTION -->\n",
    "\n",
    "### Question 16: Visualization\n",
    "\n",
    "Use the example above to plot the proportion of respondents reporting ACEs \n",
    "against smoking status for men and women.\n",
    "\n",
    "*Hint*: you only need to modify the example by substituting smoking status for general health.\n"
   ]
  },
  {
   "cell_type": "code",
   "execution_count": null,
   "metadata": {
    "tags": []
   },
   "outputs": [],
   "source": []
  },
  {
   "cell_type": "code",
   "execution_count": null,
   "metadata": {
    "tags": []
   },
   "outputs": [],
   "source": [
    "# dataframe of proportions grouped by smoking status\n",
    "ace_smoking_sex = ...\n",
    "\n",
    "# coerce indices to columns for plotting\n",
    "...\n",
    "\n",
    "# specify order of general health categories\n",
    "...\n",
    "\n",
    "# plot\n",
    "..."
   ]
  },
  {
   "attachments": {},
   "cell_type": "markdown",
   "metadata": {},
   "source": [
    "<!-- END QUESTION -->\n",
    "\n",
    "# Communicating results\n",
    "\n",
    "Here you'll be asked to reflect briefly on your findings."
   ]
  },
  {
   "attachments": {},
   "cell_type": "markdown",
   "metadata": {},
   "source": [
    "<!-- BEGIN QUESTION -->\n",
    "\n",
    "### Question 17: Summary\n",
    "\n",
    "*Is there an observed association between reporting ACEs and general health, smoking status, and depression among survey respondents who answered the ACE questions?*\n",
    "\n",
    "Write a two to three sentence answer to the above question summarizing your findings. State an answer to the question in your first sentence, and then in your second/third sentences describe exactly what you observed in the foregoing descriptive analysis of the BRFSS data. Be precise, but also concise. There is no need to describe any of the data manipulations, survey design, or the like.\n"
   ]
  },
  {
   "cell_type": "markdown",
   "metadata": {},
   "source": [
    "_Type your answer here, replacing this text._"
   ]
  },
  {
   "attachments": {},
   "cell_type": "markdown",
   "metadata": {},
   "source": [
    "<!-- END QUESTION -->\n",
    "\n",
    "<!-- BEGIN QUESTION -->\n",
    "\n",
    "### Question 18: Scope of inference\n",
    "\n",
    "Recall from the overview documentation all the care that the BRFSS dedicates to collecting a representative sample of the U.S. adult population with phone numbers. Do you think that your findings provide evidence of an association among the general public (not just the individuals survey)? Why or why not? Answer in two sentences.\n"
   ]
  },
  {
   "cell_type": "markdown",
   "metadata": {},
   "source": [
    "_Type your answer here, replacing this text._"
   ]
  },
  {
   "attachments": {},
   "cell_type": "markdown",
   "metadata": {},
   "source": [
    "<!-- END QUESTION -->\n",
    "\n",
    "<!-- BEGIN QUESTION -->\n",
    "\n",
    "### Question 19: Bias\n",
    "\n",
    "What is a potential source of bias in the survey results, and how might this affect the proportions you've calculated?\n",
    "\n",
    "Answer in one or two sentences.\n"
   ]
  },
  {
   "cell_type": "markdown",
   "metadata": {},
   "source": [
    "_Type your answer here, replacing this text._"
   ]
  },
  {
   "attachments": {},
   "cell_type": "markdown",
   "metadata": {},
   "source": [
    "<!-- END QUESTION -->\n",
    "\n",
    "### Comment\n",
    "\n",
    "Notice that the language 'association' is non-causual: we don't say that ACEs cause (or don't cause) poorer health outcomes. This is intentional, because the BRFSS data are what are known as 'observational' data, *i.e.* not originating from a controlled experiment. There could be unobserved factors that explain the association. \n",
    "\n",
    "To take a simple example, dog owners live longer, but the reason is simply that dog owners walk more -- so it's the exercise, not the dogs, that cause an increase in longevity. An observational study that doesn't measure exercise would show a positive association between dog ownership and lifespan, but it's a non-causal relationship. \n",
    "\n",
    "(As an interesting/amusing aside, there is a [well known study](https://www.ncbi.nlm.nih.gov/pmc/articles/PMC1884050/) that established an association between birdkeeping and lung cancer; obviously this is non-causal, yet the study authors recommended that individuals at high risk for cancer avoid 'avian exposure', as they were unsure of the mechanism.)\n",
    "\n",
    "So there could easily be unobserved factors that account for the observed association in the BRFSS data. We guard against over-interpreting the results by using causally-neutral language."
   ]
  },
  {
   "cell_type": "markdown",
   "metadata": {},
   "source": [
    "# Submission\n",
    "\n",
    "\n",
    "1. Save the notebook. \n",
    "2. Restart the kernel and run all cells. (**CAUTION**: if your notebook is not saved, you will lose your work.)\n",
    "3. Carefully look through your notebook and verify that all computations execute correctly. You should see **no errors**; if there are any errors, make sure to correct them before you submit the notebook.\n",
    "4. Download the notebook as an `.ipynb` file. This is your backup copy.\n",
    "5. Export the notebook as PDF and upload to Gradescope."
   ]
  }
 ],
 "metadata": {
  "kernelspec": {
   "display_name": "Python 3",
   "language": "python",
   "name": "python3"
  },
  "language_info": {
   "codemirror_mode": {
    "name": "ipython",
    "version": 3
   },
   "file_extension": ".py",
   "mimetype": "text/x-python",
   "name": "python",
   "nbconvert_exporter": "python",
   "pygments_lexer": "ipython3",
   "version": "3.9.12"
  },
  "otter": {
   "OK_FORMAT": true,
   "tests": {
    "q1": {
     "name": "q1",
     "points": 1,
     "suites": [
      {
       "cases": [
        {
         "code": ">>> # more than 100k rows\n>>> nrows > 100000\nTrue",
         "hidden": false,
         "locked": false
        },
        {
         "code": ">>> # fewer than 12 columns\n>>> ncolumns < 12\nTrue",
         "hidden": false,
         "locked": false
        }
       ],
       "scored": true,
       "setup": "",
       "teardown": "",
       "type": "doctest"
      }
     ]
    },
    "q10": {
     "name": "q10",
     "points": 1,
     "suites": [
      {
       "cases": [
        {
         "code": ">>> # check an example row where respondent did *not* report experiencing depression \n>>> samp_mod10.loc[61521]['depression'] == False\nTrue",
         "hidden": false,
         "locked": false
        },
        {
         "code": ">>> # check an example row where respondent did report experiencing depression\n>>> samp_mod10.loc[253240]['depression'] == True\nTrue",
         "hidden": false,
         "locked": false
        }
       ],
       "scored": true,
       "setup": "",
       "teardown": "",
       "type": "doctest"
      }
     ]
    },
    "q11": {
     "name": "q11",
     "points": 1,
     "suites": [
      {
       "cases": [
        {
         "code": ">>> # check dimensions\n>>> data.shape == (1912, 6)\nTrue",
         "hidden": false,
         "locked": false
        },
        {
         "code": ">>> # check columns are named as instructed\n>>> (data.columns == ['sex', 'age', 'general_health', 'smoking', 'adverse_conditions', 'depression']).all()\nFalse",
         "hidden": false,
         "locked": false
        }
       ],
       "scored": true,
       "setup": "",
       "teardown": "",
       "type": "doctest"
      }
     ]
    },
    "q12": {
     "name": "q12",
     "points": 2,
     "suites": [
      {
       "cases": [
        {
         "code": ">>> # proportion should be between 0 and 1\n>>> (mean_ace >= 0) and (mean_ace <= 1)\nTrue",
         "hidden": false,
         "locked": false
        }
       ],
       "scored": true,
       "setup": "",
       "teardown": "",
       "type": "doctest"
      }
     ]
    },
    "q13": {
     "name": "q13",
     "points": 2,
     "suites": [
      {
       "cases": [
        {
         "code": ">>> # around 30% of formers smokers report ACEs\n>>> round(ace_smoking.loc[\"Former\"].values[0], 1) == 0.3\nTrue",
         "hidden": false,
         "locked": false
        },
        {
         "code": ">>> # check dimensions of table\n>>> ace_smoking.shape == (5,1)\nTrue",
         "hidden": false,
         "locked": false
        }
       ],
       "scored": true,
       "setup": "",
       "teardown": "",
       "type": "doctest"
      }
     ]
    },
    "q14": {
     "name": "q14",
     "points": 2,
     "suites": [
      {
       "cases": [
        {
         "code": ">>> # check dimensions of table\n>>> ace_depr.shape == (2,1)\nTrue",
         "hidden": false,
         "locked": false
        },
        {
         "code": ">>> # around 50% of those reporting depression report aces\n>>> round(ace_depr.loc[True,].values[0], 1) == 0.5\nTrue",
         "hidden": false,
         "locked": false
        }
       ],
       "scored": true,
       "setup": "",
       "teardown": "",
       "type": "doctest"
      }
     ]
    },
    "q15": {
     "name": "q15",
     "points": 4,
     "suites": [
      {
       "cases": [
        {
         "code": ">>> # check dimensions of table\n>>> ace_health_sex.shape == (14,1)\nTrue",
         "hidden": false,
         "locked": false
        },
        {
         "code": ">>> # around 30% of women reporting excellent health also reported aces\n>>> round(ace_health_sex.loc[\"Excellent\"].loc[\"F\"].values[0], 1) == 0.3\nTrue",
         "hidden": false,
         "locked": false
        }
       ],
       "scored": true,
       "setup": "",
       "teardown": "",
       "type": "doctest"
      }
     ]
    },
    "q5": {
     "name": "q5",
     "points": 1,
     "suites": [
      {
       "cases": [
        {
         "code": ">>> samp_mod2.shape == (10000, 10)\nTrue",
         "hidden": false,
         "locked": false
        },
        {
         "code": ">>> len(sex_codes.items()) == 2\nTrue",
         "hidden": false,
         "locked": false
        },
        {
         "code": ">>> samp_mod3.shape == (10000, 10)\nTrue",
         "hidden": false,
         "locked": false
        },
        {
         "code": ">>> len(health_codes.items()) == 7\nTrue",
         "hidden": false,
         "locked": false
        },
        {
         "code": ">>> (np.unique(samp_mod2.GENHLTH) == [1., 2., 3., 4., 5., 7., 9.]).all() # hint for creating samp_mod4\nTrue",
         "hidden": false,
         "locked": false
        },
        {
         "code": ">>> samp_mod4.shape == (10000, 10)\nTrue",
         "hidden": false,
         "locked": false
        },
        {
         "code": ">>> len(smoke_codes.items()) == 5\nTrue",
         "hidden": false,
         "locked": false
        },
        {
         "code": ">>> (np.unique(samp_mod3._SMOKER3) == [1., 2., 3., 4., 9.]).all() # hint for creating samp_mod4\nTrue",
         "hidden": false,
         "locked": false
        }
       ],
       "scored": true,
       "setup": "",
       "teardown": "",
       "type": "doctest"
      }
     ]
    },
    "q6": {
     "name": "q6",
     "points": 1,
     "suites": [
      {
       "cases": [
        {
         "code": ">>> # dimensions shouldn't change\n>>> samp_mod5.shape == samp_mod4.shape\nTrue",
         "hidden": false,
         "locked": false
        },
        {
         "code": ">>> # number of items in recoding dictionary should match number of unique values of recoded variable\n>>> len(answer_codes.items()) == len(np.unique(samp_mod4.iloc[:, 2:6].values[~np.isnan(samp_mod4.iloc[:, 2:6].values)]))\nTrue",
         "hidden": false,
         "locked": false
        },
        {
         "code": ">>> # the old values for ACEPRISN, ignoring NaN\n>>> (np.unique(samp_mod4.ACEPRISN.dropna()) == [1., 2., 7., 9.]).all()\nTrue",
         "hidden": false,
         "locked": false
        }
       ],
       "scored": true,
       "setup": "",
       "teardown": "",
       "type": "doctest"
      }
     ]
    },
    "q7": {
     "name": "q7",
     "points": 1,
     "suites": [
      {
       "cases": [
        {
         "code": ">>> # check datatype of ace column position indicator; 'bool' is boolean (i.e. logical) data type\n>>> ace_positions.dtype == bool\nTrue",
         "hidden": false,
         "locked": false
        },
        {
         "code": ">>> # check two columns of position indicator for correct encoding \n>>> (ace_positions[0] == False) and (ace_positions[3] == True)\nTrue",
         "hidden": false,
         "locked": false
        },
        {
         "code": ">>> # check dimensions of ace data slice\n>>> ace_data.shape == (10000,4) \nTrue",
         "hidden": false,
         "locked": false
        },
        {
         "code": ">>> # check dimensions of ace indicator dataframe\n>>> ace_yes.shape == (10000, 4) \nTrue",
         "hidden": false,
         "locked": false
        },
        {
         "code": ">>> # check datatype of one column of ace indicator dataframe\n>>> ace_yes[\"ACEPRISN\"].dtype == bool \nTrue",
         "hidden": false,
         "locked": false
        },
        {
         "code": ">>> # check an entire row of ace indicator dataframe\n>>> (ace_yes.iloc[1586].values == [False, True,  False, False]).all()\nTrue",
         "hidden": false,
         "locked": false
        },
        {
         "code": ">>> # check dimensions of count of yesses\n>>> ace_numyes.shape == (10000,)\nTrue",
         "hidden": false,
         "locked": false
        },
        {
         "code": ">>> # check a particular entry in count of yesses\n>>> ace_numyes.iloc[29] == 4 \nTrue",
         "hidden": false,
         "locked": false
        },
        {
         "code": ">>> # verify new indicator variable is named as instructed\n>>> \"adverse_conditions\" in samp_mod7.columns \nTrue",
         "hidden": false,
         "locked": false
        },
        {
         "code": ">>> # check datatype of new indicator variable\n>>> samp_mod7[\"adverse_conditions\"].dtype == bool \nTrue",
         "hidden": false,
         "locked": false
        },
        {
         "code": ">>> # test an example row that should have ACE yes indicators (one or more 'yes' answers)\n>>> samp_mod7.iloc[29][\"adverse_conditions\"] == True\nTrue",
         "hidden": false,
         "locked": false
        },
        {
         "code": ">>> # test an example row that should NOT have ACE yes indicators (no 'yes' answers)\n>>> samp_mod7.iloc[0][\"adverse_conditions\"] == False\nTrue",
         "hidden": false,
         "locked": false
        }
       ],
       "scored": true,
       "setup": "",
       "teardown": "",
       "type": "doctest"
      }
     ]
    },
    "q8": {
     "name": "q8",
     "points": 1,
     "suites": [
      {
       "cases": [
        {
         "code": ">>> # check an example row where ace variables were missing\n>>> samp_mod8.loc[407595][\"adverse_missing\"] == True\nTrue",
         "hidden": false,
         "locked": false
        },
        {
         "code": ">>> # check an example row where ace variables were *not* missing\n>>> samp_mod8.loc[280001][\"adverse_missing\"] == False\nTrue",
         "hidden": false,
         "locked": false
        }
       ],
       "scored": true,
       "setup": "",
       "teardown": "",
       "type": "doctest"
      }
     ]
    },
    "q9": {
     "name": "q9",
     "points": 1,
     "suites": [
      {
       "cases": [
        {
         "code": ">>> # no rows should have missing entries for this ace question\n>>> samp_mod9.ACEPRISN.isna().sum() == 0\nTrue",
         "hidden": false,
         "locked": false
        },
        {
         "code": ">>> # no rows should have missing entries for this ace question\n>>> samp_mod9.ACEDRUGS.isna().sum() == 0\nTrue",
         "hidden": false,
         "locked": false
        },
        {
         "code": ">>> # no rows should have missing entries for this ace question\n>>> samp_mod9.ACEDRINK.isna().sum() == 0\nTrue",
         "hidden": false,
         "locked": false
        },
        {
         "code": ">>> # no rows should have missing entries for this ace question\n>>> samp_mod9.ACEDEPRS.isna().sum() == 0\nTrue",
         "hidden": false,
         "locked": false
        }
       ],
       "scored": true,
       "setup": "",
       "teardown": "",
       "type": "doctest"
      }
     ]
    }
   }
  }
 },
 "nbformat": 4,
 "nbformat_minor": 4
}
