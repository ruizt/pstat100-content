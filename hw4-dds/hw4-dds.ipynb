{
 "cells": [
  {
   "cell_type": "code",
   "execution_count": null,
   "metadata": {
    "deletable": false,
    "editable": false
   },
   "outputs": [],
   "source": [
    "# Initialize Otter\n",
    "import otter\n",
    "grader = otter.Notebook(\"hw4-dds.ipynb\")"
   ]
  },
  {
   "cell_type": "code",
   "execution_count": null,
   "metadata": {},
   "outputs": [],
   "source": [
    "import numpy as np\n",
    "import pandas as pd\n",
    "import altair as alt\n",
    "import statsmodels.api as sm\n",
    "# disable row limit for plotting\n",
    "alt.data_transformers.disable_max_rows()\n",
    "# uncomment to ensure graphics display with pdf export\n",
    "# alt.renderers.enable('mimetype')"
   ]
  },
  {
   "attachments": {},
   "cell_type": "markdown",
   "metadata": {},
   "source": [
    "## Background: California Department of Developmental Services\n",
    "\n",
    "From Taylor, S. A., & Mickel, A. E. (2014). Simpson's Paradox: A Data Set and Discrimination Case Study Exercise. Journal of Statistics Education, 22(1):\n",
    "\n",
    "> Most states in the USA provide services and support to individuals with developmental disabilities (e.g., intellectual disability, cerebral palsy, autism, etc.) and their families. The agency through which the State of California serves the developmentally-disabled population is the California Department of Developmental Services (DDS) ... One of the responsibilities of DDS is to allocate funds that support over 250,000 developmentally-disabled residents. A number of years ago, an allegation of discrimination was made and supported by a univariate analysis that examined average annual expenditures on consumers by ethnicity. The analysis revealed that the average annual expenditures on Hispanic consumers was approximately one-third of the average expenditures on White non-Hispanic consumers. This finding was the catalyst for further investigation; subsequently, state legislators and department managers sought consulting services from a statistician.\n",
    "\n",
    "In this assignment, you'll analyze the deidentified DDS data published with this article to answer the question: *is there evidence of ethnic or gender discrimination in allocation of DDS funds?* This will involve practicing the following:\n",
    "\n",
    "* exploratory data visualization\n",
    "* regression analysis\n",
    "* model visualization\n",
    "\n",
    "**Aside**: The JSE article focuses on what's known as [Simpson's paradox](https://en.wikipedia.org/wiki/Simpson%27s_paradox), an arithmetic phenomenon in which aggregate trends across multiple groups show the *opposite* of within-group trends. We won't emphasize this topic, though the data does provide a nice illustration."
   ]
  },
  {
   "attachments": {},
   "cell_type": "markdown",
   "metadata": {},
   "source": [
    "# DDS data\n",
    "\n",
    "The data for this assignment are already tidy, so in this section you'll just familiarize yourself with basic characteristics. The first few rows of the data are shown below:"
   ]
  },
  {
   "cell_type": "code",
   "execution_count": null,
   "metadata": {},
   "outputs": [],
   "source": [
    "dds = pd.read_csv('data/california-dds.csv')\n",
    "dds.head()"
   ]
  },
  {
   "attachments": {},
   "cell_type": "markdown",
   "metadata": {},
   "source": [
    "Take a moment to open and read the data documentation (*data > california-dds-documentation.md*)."
   ]
  },
  {
   "attachments": {},
   "cell_type": "markdown",
   "metadata": {},
   "source": [
    "<!-- BEGIN QUESTION -->\n",
    "\n",
    "### Question 1: Data description\n",
    "\n",
    "Write a short paragraph answering the following questions based on the data documentation.\n",
    "\n",
    "* (i) Why were the data collected? What is the purpose of this dataset?\n",
    "* (ii) What are the observational units?\n",
    "* (iii) What is the population of interest?\n",
    "* (iv) How was the sample obtained (*e.g.* random sampling, adminsitrative data, convenience sampling, etc.)?\n",
    "* (v) Can inferences about the population be drawn from the sample?\n",
    "\n",
    "In addition, make a table summarizing the variables measured. Use the format below.\n",
    "\n",
    "Name | Variable description | Type | Units of measurement\n",
    "---|---|---|---\n",
    "ID | Unique consumer identifier | Numeric | None "
   ]
  },
  {
   "cell_type": "markdown",
   "metadata": {},
   "source": [
    "_Type your answer here, replacing this text._"
   ]
  },
  {
   "attachments": {},
   "cell_type": "markdown",
   "metadata": {},
   "source": [
    "<!-- END QUESTION -->\n",
    "\n",
    "# Exploratory analysis\n",
    "\n",
    "Here you'll use graphical and descriptive techniques to explore the allegation of discriminatory allocation of benefits."
   ]
  },
  {
   "attachments": {},
   "cell_type": "markdown",
   "metadata": {},
   "source": [
    "### Question 2: Alleged discrimination\n",
    "\n",
    "Construct a table of median expenditures by ethnicity that also shows the sample size for each ethnic group in the data.\n",
    "\n",
    "1. Slice the ethnicity and expenditure variables from `dds`, group by ethnicity, and calculate the median expenditure. Store the resulting dataframe as `median_expend_by_eth`.\n",
    "2. Compute the sample sizes for each ethnicity using `.value_counts()`: obtain a pandas series indexed by ethnicity with a single column named `n`. You'll need to use `.rename(...)` to avoid having the column named `Ethnicity`. Store this pandas series as `ethnicity_n`.\n",
    "3. Use `pd.concat(...)` to append the sample sizes in `ethnicity_n` to the median expenditures in `median_expend_by_eth`. Store the result as `tbl_1`.\n",
    "\n",
    "Print `tbl_1`. Does expenditure seem to differ by ethnicity? Does sample size?"
   ]
  },
  {
   "cell_type": "markdown",
   "metadata": {},
   "source": [
    "_Type your answer here, replacing this text._"
   ]
  },
  {
   "cell_type": "code",
   "execution_count": null,
   "metadata": {
    "tags": []
   },
   "outputs": [],
   "source": [
    "# compute median expenditures\n",
    "median_expend_by_eth = ...\n",
    "\n",
    "# compute sample sizes\n",
    "ethnicity_n = ...\n",
    "\n",
    "# concatenate\n",
    "tbl_1 = ...\n",
    "\n",
    "# print\n",
    "tbl_1"
   ]
  },
  {
   "cell_type": "code",
   "execution_count": null,
   "metadata": {
    "deletable": false,
    "editable": false
   },
   "outputs": [],
   "source": [
    "grader.check(\"q2\")"
   ]
  },
  {
   "attachments": {},
   "cell_type": "markdown",
   "metadata": {},
   "source": [
    "<!-- BEGIN QUESTION -->\n",
    "\n",
    "### Question 3: Plot median expenditures\n",
    "\n",
    "Construct a point-and-line plot of median expenditure (y) against ethnicity (x), with:\n",
    "* ethnicities sorted by descending median expenditure;\n",
    "* the median expenditure axis shown on the log scale;\n",
    "* the y-axis labeled 'Median expenditure'; and \n",
    "* no x-axis label (since the ethnicity group names are used to label the axis ticks, the label 'Ethnicity' is redundant). \n",
    "\n",
    "Store the result as `fig_1` and display the plot.\n",
    "\n",
    "*Hints*:\n",
    "* you'll need to use `tbl_1.reset_index()` to obtain the ethnicity group as a variable;\n",
    "* recall that `.mark_line(point = True)` will add points to a line plot; \n",
    "* sorting can be done using `alt.X(..., sort = alt.EncodingSortField(field = ..., order = ...))`"
   ]
  },
  {
   "cell_type": "code",
   "execution_count": null,
   "metadata": {
    "tags": []
   },
   "outputs": [],
   "source": [
    "...\n"
   ]
  },
  {
   "attachments": {},
   "cell_type": "markdown",
   "metadata": {},
   "source": [
    "<!-- END QUESTION -->\n",
    "\n",
    "<!-- BEGIN QUESTION -->\n",
    "\n",
    "### Question 4: Age and expenditure\n",
    "\n",
    "How does expenditure differ by age? Construct a scatterplot of expenditure against age. Store the plot as `fig_2`. In one or two sentences, comment on the plot -- what is the main pattern it reveals?"
   ]
  },
  {
   "cell_type": "markdown",
   "metadata": {},
   "source": [
    "_Type your answer here, replacing this text._"
   ]
  },
  {
   "cell_type": "code",
   "execution_count": null,
   "metadata": {
    "tags": []
   },
   "outputs": [],
   "source": [
    "# construct scatterplot\n",
    "...\n",
    "\n",
    "# display\n",
    "..."
   ]
  },
  {
   "attachments": {},
   "cell_type": "markdown",
   "metadata": {},
   "source": [
    "<!-- END QUESTION -->\n",
    "\n",
    "Precisely because recipients have different needs at different ages that translate to jumps in expenditure, age has been discretized into age cohorts defined based on need level. Going forward, we'll work with these age cohorts -- by treating age as discrete, we won't need to attempt to model the discontinuities in the relationship between age and expenditure.\n",
    "\n",
    "The cohort labels are stored as `Age Cohort` in the dataset. There are six cohorts; the cell below coerces the labels to an ordered category, puts them in the proper order, and prints the category levels."
   ]
  },
  {
   "cell_type": "code",
   "execution_count": null,
   "metadata": {},
   "outputs": [],
   "source": [
    "# convert data types\n",
    "dds_cat = dds.astype({'Age Cohort': 'category', 'Ethnicity': 'category', 'Gender': 'category'}).copy()\n",
    "\n",
    "dds_cat['Age Cohort'] = dds_cat['Age Cohort'].cat.as_ordered().cat.reorder_categories(\n",
    "    dds_cat['Age Cohort'].cat.categories[[0, 5, 1, 2, 3, 4]]\n",
    ")\n",
    "\n",
    "# age cohorts\n",
    "dds_cat['Age Cohort'].cat.categories"
   ]
  },
  {
   "attachments": {},
   "cell_type": "markdown",
   "metadata": {},
   "source": [
    "Here is an explanation of how the cohort age boundaries were chosen:\n",
    "\n",
    "> The 0-5 cohort (preschool age) has the fewest needs and requires the least amount of funding. For the 6-12 cohort (elementary school age) and 13-17 (high school age), a number of needed services are provided by schools. The 18-21 cohort is typically in a transition phase as the consumers begin moving out from their parents’ homes into community centers or living on their own. The majority of those in the 22-50 cohort no longer live with their parents but may still receive some support from their family. Those in the 51+ cohort have the most needs and require the most amount of funding because they are living on their own or in community centers and often have no living parents."
   ]
  },
  {
   "attachments": {},
   "cell_type": "markdown",
   "metadata": {},
   "source": [
    "Note that the ordering can be retrieved using `.cat.codes`, which coerces an ordered categorical variable to its integer encoding (0 for lowest level, 1 for next lowest, and so on). It will be helpful to store the ordering for plotting purposes."
   ]
  },
  {
   "cell_type": "code",
   "execution_count": null,
   "metadata": {},
   "outputs": [],
   "source": [
    "# retrieve ordering\n",
    "dds_cat['cohort_order'] = dds_cat['Age Cohort'].cat.codes.head()\n",
    "dds_cat.head()"
   ]
  },
  {
   "attachments": {},
   "cell_type": "markdown",
   "metadata": {},
   "source": [
    "<!-- BEGIN QUESTION -->\n",
    "\n",
    "### Question 5: age structure of the sample\n",
    "\n",
    "Here you'll explore the age composition of each ethnic group in the sample.\n",
    "\n",
    "* (i) Group the data by ethnic group and tabulate the sample sizes for each group. Use `dds_cat` so that the order of age cohorts is preserved. Store the result as `samp_sizes`.\n",
    "\n",
    "* (ii) Visualize the age structure of each ethnic group in the sample. Construct a point-and-line plot of the sample size (y) against age cohort (x) by ethnicity (color or linetype). Make sure to preserve the ordering of age cohorts on the x axis (*hint*: create a variable like `cohort_order` above). Store the plot as `fig_3` and display.\n",
    "\n",
    "Comment on the figure. Are there differences in age composition by ethnic group among the individuals sampled?"
   ]
  },
  {
   "cell_type": "markdown",
   "metadata": {},
   "source": [
    "_Type your answer here, replacing this text._"
   ]
  },
  {
   "cell_type": "code",
   "execution_count": null,
   "metadata": {
    "tags": []
   },
   "outputs": [],
   "source": [
    "# compute sample sizes for each age/ethnic group\n",
    "samp_sizes = dds_cat.groupby(\n",
    "    ...\n",
    ").Id.count().reset_index().rename(\n",
    "    columns = ...\n",
    ")\n",
    "\n",
    "# construct plot\n",
    "...\n",
    "\n",
    "# display\n",
    "..."
   ]
  },
  {
   "attachments": {},
   "cell_type": "markdown",
   "metadata": {},
   "source": [
    "<!-- END QUESTION -->\n",
    "\n",
    "Age structure among ethnic groups might be related to the observed differences in median expenditure, because we know that:\n",
    "\n",
    "* (i) among the individuals in the sample, age distributions differed by ethnic group\n",
    "* (ii) age is related to benefit expenditure\n",
    "\n",
    "To see this, think through an example."
   ]
  },
  {
   "attachments": {},
   "cell_type": "markdown",
   "metadata": {},
   "source": [
    "<!-- BEGIN QUESTION -->\n",
    "\n",
    "### Question 6: potential confounding\n",
    "\n",
    "Look at the age distribution for `Multi Race` and consider the age-expenditure relationship. Can you explain why the median expenditure for this group might be lower than the others? Answer in 1-2 sentences."
   ]
  },
  {
   "cell_type": "markdown",
   "metadata": {},
   "source": [
    "_Type your answer here, replacing this text._"
   ]
  },
  {
   "attachments": {},
   "cell_type": "markdown",
   "metadata": {},
   "source": [
    "<!-- END QUESTION -->\n",
    "\n",
    "<!-- BEGIN QUESTION -->\n",
    "\n",
    "### Question 7: correcting for age\n",
    "\n",
    "Hopefully, the last few prompts convinced you that the apparent discrimination *could* simply be an artefact of differing age structure. You can investigate this by plotting median expenditure against ethnicity, as in figure 1, but now also correcting for age cohort.\n",
    "\n",
    "Construct an Altair point-and-line chart based on `dds_cat` with:\n",
    "\n",
    "   + ethnicity on the x axis\n",
    "   + no x axis label\n",
    "   + median expenditure on the y axis\n",
    "   + the y axis displayed on the log scale\n",
    "   + age cohort mapped to color and sorted in order of age\n",
    "   + lines connecting points that display the median expenditure for each ethnicity and cohort, with one line per age cohort\n",
    "    \n",
    "Store the result as `fig_4` and display the graphic."
   ]
  },
  {
   "cell_type": "code",
   "execution_count": null,
   "metadata": {
    "tags": []
   },
   "outputs": [],
   "source": [
    "# construct plot\n",
    "...\n",
    "\n",
    "# display\n",
    "..."
   ]
  },
  {
   "attachments": {},
   "cell_type": "markdown",
   "metadata": {},
   "source": [
    "<!-- END QUESTION -->\n",
    "\n",
    "# Regression analysis\n",
    "\n",
    "Now that you've thoroughly explored the data, you'll use a linear model in this part to estimate the differences in median expenditure that you observed graphically in part 1.\n",
    "\n",
    "More specifically, you'll model the log of expenditures (response variable) as a function of gender, age cohort, and ethnicity:\n",
    "\n",
    "$$\n",
    "\\log\\left(\\text{expend}_i\\right)\n",
    "    = \\beta_0 + \\underbrace{\\beta_1\\left(\\text{6-12}\\right)_i + \\cdots + \\beta_5\\left(\\text{51+}\\right)_i}_\\text{age cohort} + \\underbrace{\\beta_6\\text{female}_i}_\\text{sex} + \\underbrace{\\beta_7\\text{hispanic}_i + \\cdots + \\beta_{13}\\text{other}_i}_\\text{ethnicity} + \\epsilon_i\n",
    "$$\n",
    "\n",
    "In this model, *all* of the explanatory variables are categorical and encoded using indicators; in this case, the linear model coefficients capture means for each group. \n",
    "\n",
    "Because this model is a little different than the examples you've seen so far in two respects -- the response variable is log-transformed and all explanatory variables are categorical -- some comments are provided below on these features. You can review or skip the comments, depending on your level of interest in understanding the model better mathematically.\n",
    "\n",
    "**Commments about parameter interpretation**\n",
    "\n",
    "In particular, each coefficient represents a difference in means from the 'baseline' group. All indicators are zero for a white male recipient between ages 0 and 5, so this is the baseline group and:\n",
    "\n",
    "$$\\mathbb{E}\\left(\\log(\\text{expend})\\;|\\; \\text{male, white, 0-5}\\right) = \\beta_1$$\n",
    "\n",
    "Then, the expected log expenditure for a hispanic male recipient between ages 0 and 5 is:\n",
    "\n",
    "$$\\mathbb{E}\\left(\\log(\\text{expend})\\;|\\; \\text{male, hispanic, 0-5}\\right) = \\beta_0 + \\beta_7$$\n",
    "\n",
    "So $\\beta_7$ is *the difference in mean log expenditure between hispanic and white recipients after accounting for gender and age*. The other parameters have similar interpretations.\n",
    "\n",
    "While the calculation shown above may seem a little foreign, you should know that the parameters represent marginal differences in means between genders (holding age and ethnicity fixed), between ages (holding gender and ethnicity fixed), and between ethnicities (holding age and gender fixed).\n",
    "\n",
    "**Comments about the log transformation**\n",
    "\n",
    "The response in this model is the *log* of expenditures (this gives a better model for a variety of reasons). The statistical assumption then becomes that:\n",
    "\n",
    "$$\\log(\\text{expend})_i \\sim N\\left(\\mathbf{x}_i'\\beta, \\sigma^2\\right)$$\n",
    "\n",
    "If the log of a random variable $Y$ is normal, then $Y$ is known as a *lognormal* random variable; it can be shown mathematically that the exponentiated mean of $\\log Y$ is the median of $Y$. As a consequence, according to our model:\n",
    "\n",
    "$$\\text{median}(\\text{expend}_i) = \\exp\\left\\{\\mathbf{x}_i'\\beta\\right\\}$$\n",
    "\n",
    "You'll work on the log scale throughout to avoid complicating matters, but know that this model for the log of expenditures is *equivalently* a model of the median expenditures."
   ]
  },
  {
   "attachments": {},
   "cell_type": "markdown",
   "metadata": {},
   "source": [
    "The cell below reorders the category levels to match the model written above. To ensure the parameters appear in the proper order, this reordering is done for you."
   ]
  },
  {
   "cell_type": "code",
   "execution_count": null,
   "metadata": {},
   "outputs": [],
   "source": [
    "# remove ID and quantitative age\n",
    "reg_data = dds_cat.copy().drop(columns = ['Id', 'Age'])\n",
    "\n",
    "# reorder ethnicity\n",
    "reg_data['Ethnicity'] = reg_data.Ethnicity.cat.as_ordered().cat.reorder_categories(\n",
    "    reg_data.Ethnicity.cat.categories[[7, 3, 2, 1, 5, 0, 4, 6]]\n",
    ")\n",
    "\n",
    "# reorder gender\n",
    "reg_data['Gender'] = reg_data.Gender.cat.as_ordered().cat.reorder_categories(['Male', 'Female'])"
   ]
  },
  {
   "attachments": {},
   "cell_type": "markdown",
   "metadata": {},
   "source": [
    "### Question 8: Data preprocessing\n",
    "\n",
    "Obtain the explanatory variable matrix and response vector needed to fit the linear model.\n",
    "\n",
    "1. Use `pd.get_dummies(..., drop_first = True)` to create the indicator variable encodings for gender, ethnicity, and age. Note that this function can process multiple categorical variables at once. Store the data frame of indicators for all three variables as `indicators`.\n",
    "2. Add an intercept to obtain the explanatory variable matrix. Store this as a data frame called `x`.\n",
    "3. Store the response variable as a pandas series named `y`."
   ]
  },
  {
   "cell_type": "code",
   "execution_count": null,
   "metadata": {
    "tags": []
   },
   "outputs": [],
   "source": [
    "indicators = ...\n",
    "x = ...\n",
    "y = ..."
   ]
  },
  {
   "cell_type": "code",
   "execution_count": null,
   "metadata": {
    "deletable": false,
    "editable": false
   },
   "outputs": [],
   "source": [
    "grader.check(\"q8\")"
   ]
  },
  {
   "attachments": {},
   "cell_type": "markdown",
   "metadata": {},
   "source": [
    "### Question 9: model fitting\n",
    "\n",
    "Fit the model:\n",
    "\n",
    "$$\n",
    "\\log\\left(\\text{expend}_i\\right)\n",
    "    = \\beta_0 + \\beta_1\\left(\\text{6-12}\\right)_i + \\cdots + \\beta_5\\left(\\text{51+}\\right)_i \n",
    "        + \\beta_6\\text{female}_i \n",
    "        + \\beta_7\\text{hispanic}_i + \\cdots + \\beta_{13}\\text{other}_i\n",
    "        + \\epsilon_i\n",
    "$$\n",
    "\n",
    "Store the parameter estimates and standard errors as a data frame named `coef_tbl`. Index the data frame by variable name, and don't forget to include the error variance estimate. Display the result."
   ]
  },
  {
   "cell_type": "code",
   "execution_count": null,
   "metadata": {
    "tags": []
   },
   "outputs": [],
   "source": [
    "# fit model\n",
    "mlr = ...\n",
    "rslt = ...\n",
    "\n",
    "# retreive estimates and std errors\n",
    "coef_tbl = pd.DataFrame(\n",
    "    ...\n",
    ")\n",
    "coef_tbl.loc['error variance', 'estimate'] = ...\n",
    "\n",
    "# display\n",
    "coef_tbl"
   ]
  },
  {
   "cell_type": "code",
   "execution_count": null,
   "metadata": {
    "deletable": false,
    "editable": false
   },
   "outputs": [],
   "source": [
    "grader.check(\"q9\")"
   ]
  },
  {
   "attachments": {},
   "cell_type": "markdown",
   "metadata": {},
   "source": [
    "Now look at both the estimates and standard errors for each level of each categorical variable; if some estimates are large for at least one level and the standard errors aren't too big, then estimated mean log expenditures differ according to the value of that variable when the other variables are held constant.\n",
    "\n",
    "For example: the estimate for `Gender_Female` is 0.04; that means that, if age and ethnicity are held fixed, the estimated difference in mean log expenditure between female and male recipients is 0.04. If $\\log(a) - \\log(b) = 0.04$, then $\\frac{a}{b} = e^{0.04} \\approx 1.041$; so the estimated expenditures (not on the log scale) differ by a factor of about 1, *i.e.*, are about the same. Further, the standard error is 0.02, so the estimate is within 2SE of 0; the difference could well be zero. So the model suggests there is no difference in expenditure by gender."
   ]
  },
  {
   "attachments": {},
   "cell_type": "markdown",
   "metadata": {},
   "source": [
    "<!-- BEGIN QUESTION -->\n",
    "\n",
    "### Question 10: interpretation\n",
    "\n",
    "Do the parameter estimates suggest differences in expenditure by age or ethnicity?\n",
    "\n",
    "First consider the estimates and standard errors for each level of age, and state whether any differences in mean log expenditure between levels appear significant; if so, cite one example. Then do the same for the levels of ethnicity. Answer in 2-4 sentences.\n",
    "\n",
    "(*Hint*: it may be helpful scratch work to exponentiate the coefficient estimates and consider whether they differ by much from 1.)"
   ]
  },
  {
   "cell_type": "markdown",
   "metadata": {},
   "source": [
    "_Type your answer here, replacing this text._"
   ]
  },
  {
   "cell_type": "code",
   "execution_count": null,
   "metadata": {
    "tags": []
   },
   "outputs": [],
   "source": [
    "# exponentiate parameter estimates\n",
    "..."
   ]
  },
  {
   "attachments": {},
   "cell_type": "markdown",
   "metadata": {},
   "source": [
    "<!-- END QUESTION -->\n",
    "\n",
    "Now as a final step in the analysis, you'll visualize your results. The idea is simple: plot the estimated mean log expenditures for each group. Essentially you'll make a version of your figure 4 from part 1 in which the points are estimated rather than observed. So the model visualization graphic will look similar to your exploratory figure.\n",
    "\n",
    "The cell below constructs a prediction grid for you. This grid comprises all unique combinations of the age, sex, and ethnicity categories."
   ]
  },
  {
   "cell_type": "code",
   "execution_count": null,
   "metadata": {},
   "outputs": [],
   "source": [
    "# obtain unique values of each categorical variable\n",
    "genders = reg_data.Gender.cat.categories.values\n",
    "ethnicities = reg_data.Ethnicity.cat.categories.values\n",
    "ages = reg_data['Age Cohort'].cat.categories.values\n",
    "\n",
    "# generate mesh\n",
    "gx, ex, ax = np.meshgrid(genders, ethnicities, ages)\n",
    "grid = np.array([gx.ravel(), ex.ravel(), ax.ravel()]).T\n",
    "\n",
    "# coerce to dataframe\n",
    "grid_df = pd.DataFrame(grid, columns = ['Gender', 'Ethnicity', 'Age Cohort'])\n",
    "grid_df.head()"
   ]
  },
  {
   "attachments": {},
   "cell_type": "markdown",
   "metadata": {},
   "source": [
    "### Question 11: compute predictions\n",
    "\n",
    "Calculate predictions with confidence intervals for the predicted mean for each grid point; append these to `grid_df` and store the result as `pred_df`. Ensure that the column containing the predictions is named `mean`.\n",
    "\n",
    "Note that you will need to generate indicators in order to compute the predictions; this can be done in the same way that the data were preprocessed. Note also that **you will need to arrange the indicator columns in exactly the same order that they appear in the explanatory variable matrix** in order to generate valid predictions."
   ]
  },
  {
   "cell_type": "code",
   "execution_count": null,
   "metadata": {
    "tags": []
   },
   "outputs": [],
   "source": [
    "# generate indicators based on the prediction grid\n",
    "grid_indicators = ...\n",
    "\n",
    "# add an intercept and arrange columns to match x\n",
    "x_grid = ...\n",
    "\n",
    "# compute predictions\n",
    "preds = ...\n",
    "\n",
    "# append values of categorical variables at grid points to predictions\n",
    "pred_df = ...\n",
    "\n",
    "# preview\n",
    "pred_df.head()"
   ]
  },
  {
   "cell_type": "code",
   "execution_count": null,
   "metadata": {
    "deletable": false,
    "editable": false
   },
   "outputs": [],
   "source": [
    "grader.check(\"q11\")"
   ]
  },
  {
   "attachments": {},
   "cell_type": "markdown",
   "metadata": {},
   "source": [
    "<!-- BEGIN QUESTION -->\n",
    "\n",
    "### Question 12: model visualization\n",
    "\n",
    "Plot estimated mean log expenditure (y) against ethnicity (x) by age cohort (color) and gender (facet). Construct a line plot with points at each estimated value, and include confidence bands. Use a sequential color scale for age and ensure that the age cohorts are in appropriate order (you may want to construct another `cohort_order` variable as before for this purpose)."
   ]
  },
  {
   "cell_type": "code",
   "execution_count": null,
   "metadata": {
    "tags": []
   },
   "outputs": [],
   "source": [
    "# add cohort ordering\n",
    "pred_df['cohort_order'] = ...\n",
    "\n",
    "# construct point-and-line plot\n",
    "lines = alt.Chart(pred_df).mark_line(point = True).encode(\n",
    "    x = ...\n",
    "    y = ...\n",
    "    color = ...\n",
    ")\n",
    "\n",
    "# construct confidence bands\n",
    "bands = alt.Chart(pred_df).mark_area(opacity = 0.4).encode(\n",
    "    x = ...\n",
    "    y = ...\n",
    "    y2 = ...\n",
    "    color = ...\n",
    ")\n",
    "\n",
    "# layer then facet\n",
    "fig_5 = ...\n",
    "\n",
    "# display\n",
    "fig_5"
   ]
  },
  {
   "attachments": {},
   "cell_type": "markdown",
   "metadata": {},
   "source": [
    "<!-- END QUESTION -->\n",
    "\n",
    "<!-- BEGIN QUESTION -->\n",
    "\n",
    "### Question 13: uncertainty\n",
    "\n",
    "Which estimates have greater uncertainty and why? Identify the ethnic groups for which the uncertainty band is relatively wide in the plot. Why might uncertainty be higher for these groups? Answer in 2 sentences.\n",
    "\n",
    "(*Hint*: it may help to refer to figure 3.)"
   ]
  },
  {
   "cell_type": "markdown",
   "metadata": {},
   "source": [
    "_Type your answer here, replacing this text._"
   ]
  },
  {
   "attachments": {},
   "cell_type": "markdown",
   "metadata": {},
   "source": [
    "<!-- END QUESTION -->\n",
    "\n",
    "# Communicating results\n",
    "\n",
    "Review your exploratory and regression analyses above, and then answer the following questions."
   ]
  },
  {
   "attachments": {},
   "cell_type": "markdown",
   "metadata": {},
   "source": [
    "<!-- BEGIN QUESTION -->\n",
    "\n",
    "### Question 14: summary\n",
    "\n",
    "Write a one-paragraph summary of your analysis. Focus on answering the question, 'do the data provide evidence of ethnic or gender discrimination in allocation of DDS funds?'\n",
    "\n",
    "Your summary should include the following:\n",
    "\n",
    "* a description of the data indicating observations, variables, and sampling mechanism;\n",
    "* a description of any important exploratory findings;\n",
    "* a description of the method you used to analyze the data (don't worry about capturing every detail);\n",
    "* a description of the findings of the analysis;\n",
    "* an answer to the question."
   ]
  },
  {
   "cell_type": "markdown",
   "metadata": {},
   "source": [
    "_Type your answer here, replacing this text._"
   ]
  },
  {
   "attachments": {},
   "cell_type": "markdown",
   "metadata": {},
   "source": [
    "<!-- END QUESTION -->\n",
    "\n",
    "# Submission\n",
    "\n",
    "\n",
    "1. Save the notebook. \n",
    "2. Restart the kernel and run all cells. (**CAUTION**: if your notebook is not saved, you will lose your work.)\n",
    "3. Carefully look through your notebook and verify that all computations execute correctly and all graphics are displayed clearly. You should see **no errors**; if there are any errors, make sure to correct them before you submit the notebook.\n",
    "4. Download the notebook as an `.ipynb` file. This is your backup copy.\n",
    "5. Export the notebook as PDF and upload to Gradescope."
   ]
  },
  {
   "cell_type": "markdown",
   "metadata": {
    "deletable": false,
    "editable": false
   },
   "source": [
    "---\n",
    "\n",
    "To double-check your work, the cell below will rerun all of the autograder tests."
   ]
  },
  {
   "cell_type": "code",
   "execution_count": null,
   "metadata": {
    "deletable": false,
    "editable": false
   },
   "outputs": [],
   "source": [
    "grader.check_all()"
   ]
  }
 ],
 "metadata": {
  "kernelspec": {
   "display_name": "Python 3",
   "language": "python",
   "name": "python3"
  },
  "language_info": {
   "codemirror_mode": {
    "name": "ipython",
    "version": 3
   },
   "file_extension": ".py",
   "mimetype": "text/x-python",
   "name": "python",
   "nbconvert_exporter": "python",
   "pygments_lexer": "ipython3",
   "version": "3.9.12"
  },
  "otter": {
   "OK_FORMAT": true,
   "tests": {
    "q11": {
     "name": "q11",
     "points": 1,
     "suites": [
      {
       "cases": [
        {
         "code": ">>> pred_df.shape[0] == (len(ages)*len(genders)*len(ethnicities))\nTrue",
         "hidden": false,
         "locked": false
        },
        {
         "code": ">>> (np.round(pred_df[(pred_df.Gender == 'Female') & (pred_df['Age Cohort'] == '22 to 50') & (pred_df.Ethnicity == 'Hispanic')]['mean'], 6) == 10.641653).all()\nTrue",
         "hidden": false,
         "locked": false
        }
       ],
       "scored": true,
       "setup": "",
       "teardown": "",
       "type": "doctest"
      }
     ]
    },
    "q2": {
     "name": "q2",
     "points": 1,
     "suites": [
      {
       "cases": [
        {
         "code": ">>> median_expend_by_eth.shape[0] == 8\nTrue",
         "hidden": false,
         "locked": false
        },
        {
         "code": ">>> median_expend_by_eth.loc['Asian', 'Expenditures'] == 9369\nTrue",
         "hidden": false,
         "locked": false
        },
        {
         "code": ">>> ethnicity_n.loc['Other'] == 2\nTrue",
         "hidden": false,
         "locked": false
        },
        {
         "code": ">>> ethnicity_n.max() > 400\nTrue",
         "hidden": false,
         "locked": false
        },
        {
         "code": ">>> (median_expend_by_eth.idxmax() == 'American Indian').all()\nTrue",
         "hidden": false,
         "locked": false
        }
       ],
       "scored": true,
       "setup": "",
       "teardown": "",
       "type": "doctest"
      }
     ]
    },
    "q8": {
     "name": "q8",
     "points": 1,
     "suites": [
      {
       "cases": [
        {
         "code": ">>> indicators.shape[1] == (len(reg_data.Gender.cat.categories) - 1 + len(reg_data.Ethnicity.cat.categories) - 1 + len(reg_data['Age Cohort'].cat.categories) - 1)\nTrue",
         "hidden": false,
         "locked": false
        },
        {
         "code": ">>> np.sort(np.unique(indicators.values)).tolist() == [0, 1]\nTrue",
         "hidden": false,
         "locked": false
        },
        {
         "code": ">>> x.shape[1] == indicators.shape[1] + 1\nTrue",
         "hidden": false,
         "locked": false
        },
        {
         "code": ">>> y.shape[0] == x.shape[0]\nTrue",
         "hidden": false,
         "locked": false
        },
        {
         "code": ">>> y[1] == np.log(reg_data.Expenditures[1])\nTrue",
         "hidden": false,
         "locked": false
        }
       ],
       "scored": true,
       "setup": "",
       "teardown": "",
       "type": "doctest"
      }
     ]
    },
    "q9": {
     "name": "q9",
     "points": 1,
     "suites": [
      {
       "cases": [
        {
         "code": ">>> coef_tbl.shape[0] == (x.shape[1] + 1)\nTrue",
         "hidden": false,
         "locked": false
        },
        {
         "code": ">>> coef_tbl.estimate.max() < 7.5\nTrue",
         "hidden": false,
         "locked": false
        },
        {
         "code": ">>> coef_tbl.estimate.min() > -1\nTrue",
         "hidden": false,
         "locked": false
        },
        {
         "code": ">>> (coef_tbl.estimate < 0).sum() == 4\nTrue",
         "hidden": false,
         "locked": false
        },
        {
         "code": ">>> np.round(coef_tbl.loc['const', 'estimate'], 4) == 7.0924\nTrue",
         "hidden": false,
         "locked": false
        }
       ],
       "scored": true,
       "setup": "",
       "teardown": "",
       "type": "doctest"
      }
     ]
    }
   }
  }
 },
 "nbformat": 4,
 "nbformat_minor": 4
}
