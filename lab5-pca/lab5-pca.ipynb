{
 "cells": [
  {
   "cell_type": "code",
   "execution_count": null,
   "metadata": {
    "deletable": false,
    "editable": false
   },
   "outputs": [],
   "source": [
    "# Initialize Otter\n",
    "import otter\n",
    "grader = otter.Notebook(\"lab5-pca.ipynb\")"
   ]
  },
  {
   "cell_type": "code",
   "execution_count": null,
   "metadata": {},
   "outputs": [],
   "source": [
    "import numpy as np\n",
    "import pandas as pd\n",
    "import altair as alt\n",
    "from scipy import linalg\n",
    "from statsmodels.multivariate.pca import PCA\n",
    "# disable row limit for plotting\n",
    "alt.data_transformers.disable_max_rows()\n",
    "# uncomment to ensure graphics display with pdf export\n",
    "# alt.renderers.enable('mimetype')"
   ]
  },
  {
   "attachments": {},
   "cell_type": "markdown",
   "metadata": {},
   "source": [
    "# Lab 5: Principal components\n",
    "\n",
    "Principal components analysis (PCA) is a widely-used multivariate analysis technique. Depending on the application, PCA is variously described as: \n",
    "\n",
    "* a dimension reduction method\n",
    "* a an approximation method \n",
    "* a latent factor model\n",
    "* a filtering or compression method \n",
    "\n",
    "The core technique of PCA is *finding linear data transformations that preserve variance*. \n",
    "\n",
    "What does it mean to say that 'principal components are linear data transformations'? Suppose you have a dataset with $n$ observations and $p$ variables. We can represent the values as a data matrix $\\mathbf{X}$ with $n$ rows and $p$ columns:\n",
    "\n",
    "$$\n",
    "\\mathbf{X} \n",
    "= \\underbrace{\\left[\\begin{array}{cccc}\n",
    "    \\mathbf{x}_1 &\\mathbf{x}_2 &\\cdots &\\mathbf{x}_p\n",
    "    \\end{array}\\right]}_{\\text{column vectors}}\n",
    "= \\left[\\begin{array}{cccc}\n",
    "    x_{11} &x_{12} &\\cdots &x_{1p} \\\\\n",
    "    x_{21} &x_{22} &\\cdots &x_{2p} \\\\\n",
    "    \\vdots &\\vdots &\\ddots &\\vdots \\\\\n",
    "    x_{n1} &x_{n2} &\\cdots &x_{np}\n",
    "\\end{array}\\right]\n",
    "$$\n",
    "\n",
    "To say that the principal components are linear data transformations means that each principal component is of the form:\n",
    "\n",
    "$$\n",
    "\\text{PC} = \\mathbf{Xv} = v_1 \\mathbf{x}_1 + v_2 \\mathbf{x}_2 + \\cdots + v_p \\mathbf{x}_p\n",
    "$$\n",
    "\n",
    "for some vector $\\mathbf{v}$. In PCA, the following terminology is used:\n",
    "\n",
    "* linear combination coefficients $v_j$ are known as *loadings* \n",
    "* values of the linear combinations are known as *scores*\n",
    "* the vector of loadings $\\mathbf{v}$ is known as a *principal axis*\n",
    "\n",
    "As discussed in lecture, the values of the loadings are found by decomposing the correlation structure.\n",
    "\n",
    "**Objectives**\n",
    "\n",
    "In this lab, you'll focus on computing and interpreting principal components:\n",
    "\n",
    "* finding the loadings (linear combination coefficients) for each PC;\n",
    "* quantifying the variation captured by each PC;\n",
    "* visualization-based techniques for selecting a number of PC's to A(nalyze);\n",
    "* plotting and interpreting loadings. \n",
    "\n",
    "You'll work with a selection of county summaries from the 2010 U.S. census. The first few rows of the dataset are shown below:"
   ]
  },
  {
   "cell_type": "code",
   "execution_count": null,
   "metadata": {},
   "outputs": [],
   "source": [
    "# import tidy county-level 2010 census data\n",
    "census = pd.read_csv('data/census2010.csv', encoding = 'latin1')\n",
    "census.head()"
   ]
  },
  {
   "attachments": {},
   "cell_type": "markdown",
   "metadata": {},
   "source": [
    "The observational units are U.S. counties, and each row is an observation on one county. The values are, for the most part, percentages of the county population. You can find variable descriptions in the metadata file `census2010metadata.csv` in the data directory. "
   ]
  },
  {
   "attachments": {},
   "cell_type": "markdown",
   "metadata": {},
   "source": [
    "# Correlations\n",
    "\n",
    "PCA identifies variable combinations that capture covariation by decomposing the correlation matrix. So, to start with, let's examine the correlation matrix for the 2010 county-level census data to get a sense of which variables tend to vary together.\n",
    "\n",
    "The correlation matrix is a matrix of all pairwise correlations between variables. If $x_ij$ denotes the value for the $i$th observation of variable $j$, then the entry at row $j$ and column $k$ of the correlation matrix $\\mathbf{R}$ is:\n",
    "\n",
    "$$r_{jk} = \\frac{\\sum_i (x_{ij} - \\bar{x}_j)(x_{ik} - \\bar{x}_k)}{S_j S_k}$$\n",
    "\n",
    "In the census data, the `State` and `County` columns indicate the geographic region for each observation; essentially, they are a row index. So we'll drop them before computing the matrix $\\mathbf{R}$:"
   ]
  },
  {
   "cell_type": "code",
   "execution_count": null,
   "metadata": {},
   "outputs": [],
   "source": [
    "# store quantitative variables separately\n",
    "x_mx = census.drop(columns = ['State', 'County'])"
   ]
  },
  {
   "attachments": {},
   "cell_type": "markdown",
   "metadata": {},
   "source": [
    "From here, the matrix is simple to compute in pandas using `.corr()`:"
   ]
  },
  {
   "cell_type": "code",
   "execution_count": null,
   "metadata": {},
   "outputs": [],
   "source": [
    "# correlation matrix\n",
    "corr_mx = x_mx.corr()"
   ]
  },
  {
   "attachments": {},
   "cell_type": "markdown",
   "metadata": {},
   "source": [
    "The matrix can be inspected directly to determine which variables vary together. For example, we could look at the correlations between employment rate and every other variable in the dataset by extracting the `Employed` column from the correlation matrix and sorting the correlations:"
   ]
  },
  {
   "cell_type": "code",
   "execution_count": null,
   "metadata": {},
   "outputs": [],
   "source": [
    "# correlation between employment rate and other variables\n",
    "corr_mx.loc[:, 'Employed'].sort_values()"
   ]
  },
  {
   "attachments": {},
   "cell_type": "markdown",
   "metadata": {},
   "source": [
    "Recall that correlation is a number in the interval [-1, 1] whose magnitude indicates the strength of the linear relationship between variables:\n",
    "\n",
    "* correlations near -1 are *strongly negative*, and mean that the variables *tend to vary in opposition* \n",
    "* correlations near 1 are *strongly positive*, and mean that the variables *tend to vary together*\n",
    "\n",
    "From examining the output above, it can be seen that the percentage of the county population that is employed is:\n",
    "\n",
    "* strongly *negatively* correlated with child poverty, poverty, and unemployment, meaning it *tends to vary in opposition* with these variables\n",
    "* strongly *positively* correlated with income per capita, meaning it *tends to vary together* with this variable\n",
    "\n",
    "If instead we wanted to look up the correlation between just two variables, we could retrieve the relevant entry directly using `.loc[...]` with the variable names:"
   ]
  },
  {
   "cell_type": "code",
   "execution_count": null,
   "metadata": {},
   "outputs": [],
   "source": [
    "# correlation between employment and income per capita\n",
    "corr_mx.loc['Employed', 'IncomePerCap']"
   ]
  },
  {
   "attachments": {},
   "cell_type": "markdown",
   "metadata": {},
   "source": [
    "So across U.S. counties employment is, perhaps unsurprisingly, strongly and positively correlated with income per capita, meaning that higher employment rates tend to coincide with higher incomes per capita."
   ]
  },
  {
   "attachments": {},
   "cell_type": "markdown",
   "metadata": {},
   "source": [
    "### Question 1\n",
    "\n",
    "Find the correlation between the poverty rate and demographic minority rate and store the value as `pov_dem_rate`. Interpret the value in context."
   ]
  },
  {
   "cell_type": "markdown",
   "metadata": {},
   "source": [
    "_Type your answer here, replacing this text._"
   ]
  },
  {
   "cell_type": "code",
   "execution_count": null,
   "metadata": {
    "tags": []
   },
   "outputs": [],
   "source": [
    "# correlation between poverty and percent minority\n",
    "pov_dem_rate = ...\n",
    "\n",
    "# print\n",
    "pov_dem_rate"
   ]
  },
  {
   "cell_type": "code",
   "execution_count": null,
   "metadata": {
    "deletable": false,
    "editable": false
   },
   "outputs": [],
   "source": [
    "grader.check(\"q1\")"
   ]
  },
  {
   "attachments": {},
   "cell_type": "markdown",
   "metadata": {},
   "source": [
    "While direct inspection is useful, it can be cumbersome to check correlations for a large number of variables this way. A heatmap -- a colored image of the matrix -- provides a (sometimes) convenient way to see what's going on without having to examine the numerical values directly. The cell below shows one way of constructing this plot. Notice the diverging color scale; this should always be used."
   ]
  },
  {
   "cell_type": "code",
   "execution_count": null,
   "metadata": {},
   "outputs": [],
   "source": [
    "# melt corr_mx\n",
    "corr_mx_long = corr_mx.reset_index().rename(\n",
    "    columns = {'index': 'row'}\n",
    ").melt(\n",
    "    id_vars = 'row',\n",
    "    var_name = 'col',\n",
    "    value_name = 'Correlation'\n",
    ")\n",
    "\n",
    "# construct plot\n",
    "alt.Chart(corr_mx_long).mark_rect().encode(\n",
    "    x = alt.X('col', title = '', sort = {'field': 'Correlation', 'order': 'ascending'}), \n",
    "    y = alt.Y('row', title = '', sort = {'field': 'Correlation', 'order': 'ascending'}),\n",
    "    color = alt.Color('Correlation', \n",
    "                      scale = alt.Scale(scheme = 'blueorange', # diverging gradient\n",
    "                                        domain = (-1, 1), # ensure white = 0\n",
    "                                        type = 'sqrt'), # adjust gradient scale\n",
    "                     legend = alt.Legend(tickCount = 5)) # add ticks to colorbar at 0.5 for reference\n",
    ").properties(width = 300, height = 300)"
   ]
  },
  {
   "attachments": {},
   "cell_type": "markdown",
   "metadata": {},
   "source": [
    "<!-- BEGIN QUESTION -->\n",
    "\n",
    "### Question 2\n",
    "\n",
    "Which variable is self employment rate most *positively* correlated with? Refer to the heatmap."
   ]
  },
  {
   "cell_type": "markdown",
   "metadata": {},
   "source": [
    "_Type your answer here, replacing this text._"
   ]
  },
  {
   "attachments": {},
   "cell_type": "markdown",
   "metadata": {},
   "source": [
    "<!-- END QUESTION -->\n",
    "\n",
    "# Computing principal components\n",
    "\n",
    "Each principal component is of the form:\n",
    "\n",
    "$$\\text{PC}_{i} = \\sum_j v_j x_{ij} \\quad(\\text{PC score for observation } i)$$\n",
    "\n",
    "The loading $v_j$ for each component indicate which variables are most influential (heavily weighted) on that principal axis, and thus offer an indirect picture of which variables are driving variation and covariation in the original data."
   ]
  },
  {
   "attachments": {},
   "cell_type": "markdown",
   "metadata": {},
   "source": [
    "\n",
    "## Loadings and scores\n",
    "\n",
    "In `statsmodels`, the module `multivariate.pca` contains an easy-to-use implementation."
   ]
  },
  {
   "cell_type": "code",
   "execution_count": null,
   "metadata": {},
   "outputs": [],
   "source": [
    "# compute principal components\n",
    "pca = PCA(data = x_mx, standardize = True) "
   ]
  },
  {
   "attachments": {},
   "cell_type": "markdown",
   "metadata": {},
   "source": [
    "Most quantities you might want to use in PCA can be retrieved as attributes of `pca`. In particular:\n",
    "\n",
    "* `.loadings` contains the loadings\n",
    "* `.scores` contains the scores\n",
    "* `.eigenvals` contains the variances along each principal axis (see lecture notes)\n",
    "\n",
    "Examine the loadings below. Each column gives the loadings for one principal component; components are ordered from largest to smallest variance."
   ]
  },
  {
   "cell_type": "code",
   "execution_count": null,
   "metadata": {},
   "outputs": [],
   "source": [
    "# inspect loadings\n",
    "pca.loadings"
   ]
  },
  {
   "attachments": {},
   "cell_type": "markdown",
   "metadata": {},
   "source": [
    "Similarly, inspect the scores below and check your understanding; each row is an observation and the columns give the scores on each principal axis."
   ]
  },
  {
   "cell_type": "code",
   "execution_count": null,
   "metadata": {},
   "outputs": [],
   "source": [
    "# inspect scores\n",
    "pca.scores"
   ]
  },
  {
   "attachments": {},
   "cell_type": "markdown",
   "metadata": {},
   "source": [
    "Importantly, `statsmodels` rescales the scores so that they have unit inner product; in other words, so that the variances are all $\\frac{1}{n - 1}$."
   ]
  },
  {
   "cell_type": "code",
   "execution_count": null,
   "metadata": {},
   "outputs": [],
   "source": [
    "# variance of scores\n",
    "pca.scores.var()"
   ]
  },
  {
   "cell_type": "code",
   "execution_count": null,
   "metadata": {},
   "outputs": [],
   "source": [
    "# for comparison\n",
    "1/(x_mx.shape[0] - 1)"
   ]
  },
  {
   "attachments": {},
   "cell_type": "markdown",
   "metadata": {},
   "source": [
    "To change this behavior, set `normalize = False` when computing the principal components."
   ]
  },
  {
   "attachments": {},
   "cell_type": "markdown",
   "metadata": {},
   "source": [
    "### Question 3\n",
    "\n",
    "Check your understanding. Which variable contributes most to the sixth principal component? Store the variable name exactly as it appears among the original column names as `pc6_most_influential_variable`, and store the corresponding loading as `pc6_most_influential_variable_loading`. Print the variable name."
   ]
  },
  {
   "cell_type": "code",
   "execution_count": null,
   "metadata": {
    "tags": []
   },
   "outputs": [],
   "source": [
    "# find most influential variable\n",
    "pc6_most_influential_variable = ...\n",
    "\n",
    "# find loading\n",
    "pc6_most_influential_variable_loading = ...\n",
    "\n",
    "# print\n",
    "..."
   ]
  },
  {
   "cell_type": "code",
   "execution_count": null,
   "metadata": {
    "deletable": false,
    "editable": false
   },
   "outputs": [],
   "source": [
    "grader.check(\"q3\")"
   ]
  },
  {
   "attachments": {},
   "cell_type": "markdown",
   "metadata": {},
   "source": [
    "## Variance ratios\n",
    "\n",
    "The *variance ratios* indicate the proportions of total variance in the data captured by each principal axis. You may recall from lecture that the variance ratios are computed from the eigenvalues of the correlation (or covariance, if data are not standardized) matrix.\n",
    "\n",
    "When using `statsmodels`, these need to be computed manually."
   ]
  },
  {
   "cell_type": "code",
   "execution_count": null,
   "metadata": {},
   "outputs": [],
   "source": [
    "# compute variance ratios\n",
    "var_ratios = pca.eigenvals/pca.eigenvals.sum()\n",
    "\n",
    "# print\n",
    "var_ratios"
   ]
  },
  {
   "attachments": {},
   "cell_type": "markdown",
   "metadata": {},
   "source": [
    "Note again that the principal components have been computed in order of *decreasing* variance."
   ]
  },
  {
   "attachments": {},
   "cell_type": "markdown",
   "metadata": {},
   "source": [
    "<!-- BEGIN QUESTION -->\n",
    "\n",
    "### Question 4\n",
    "\n",
    "Check your understanding. What proportion of variance is captured *jointly* by the first three components taken together? Provide a calculation to justify your answer."
   ]
  },
  {
   "cell_type": "markdown",
   "metadata": {},
   "source": [
    "_Type your answer here, replacing this text._"
   ]
  },
  {
   "cell_type": "code",
   "execution_count": null,
   "metadata": {
    "tags": []
   },
   "outputs": [],
   "source": [
    "..."
   ]
  },
  {
   "attachments": {},
   "cell_type": "markdown",
   "metadata": {},
   "source": [
    "<!-- END QUESTION -->\n",
    "\n",
    "## Selecting a subset of PCs\n",
    "\n",
    "PCA generally consists of choosing a small subset of components. The basic strategy for selecting this subset is to determine how many are needed to capture some analyst-chosen minimum portion of total variance in the original data. \n",
    "\n",
    "Most often this assessment is made graphically by inspecting the variance ratios and their cumulative sum, *i.e.*, the amount of total variation captured jointly by subsets of successive components. We'll store these quantities in a data frame."
   ]
  },
  {
   "cell_type": "code",
   "execution_count": null,
   "metadata": {},
   "outputs": [],
   "source": [
    "# store proportion of variance explained as a dataframe\n",
    "pca_var_explained = pd.DataFrame({\n",
    "    'Component': np.arange(1, 23),\n",
    "    'Proportion of variance explained': var_ratios})\n",
    "\n",
    "# add cumulative sum\n",
    "pca_var_explained['Cumulative variance explained'] = var_ratios.cumsum()\n",
    "\n",
    "# print\n",
    "pca_var_explained.head()"
   ]
  },
  {
   "attachments": {},
   "cell_type": "markdown",
   "metadata": {},
   "source": [
    "Now we'll make a dual-axis plot showing, on one side, the proportion of variance explained (y) as a function of component (x), and on the other side, the cumulative variance explained (y) also as a function of component (x). Make sure that you've completed Q1(a) before running the next cell."
   ]
  },
  {
   "cell_type": "code",
   "execution_count": null,
   "metadata": {},
   "outputs": [],
   "source": [
    "# encode component axis only as base layer\n",
    "base = alt.Chart(pca_var_explained).encode(\n",
    "    x = 'Component')\n",
    "\n",
    "# make a base layer for the proportion of variance explained\n",
    "prop_var_base = base.encode(\n",
    "    y = alt.Y('Proportion of variance explained',\n",
    "              axis = alt.Axis(titleColor = '#57A44C'))\n",
    ")\n",
    "\n",
    "# make a base layer for the cumulative variance explained\n",
    "cum_var_base = base.encode(\n",
    "    y = alt.Y('Cumulative variance explained', axis = alt.Axis(titleColor = '#5276A7'))\n",
    ")\n",
    "\n",
    "# add points and lines to each base layer\n",
    "prop_var = prop_var_base.mark_line(stroke = '#57A44C') + prop_var_base.mark_point(color = '#57A44C')\n",
    "cum_var = cum_var_base.mark_line() + cum_var_base.mark_point()\n",
    "\n",
    "# layer the layers\n",
    "var_explained_plot = alt.layer(prop_var, cum_var).resolve_scale(y = 'independent')\n",
    "\n",
    "# display\n",
    "var_explained_plot"
   ]
  },
  {
   "attachments": {},
   "cell_type": "markdown",
   "metadata": {},
   "source": [
    "The purpose of making this plot is to quickly determine the fewest number of principal components that capture a considerable portion of variation and covariation. 'Considerable' here is a bit subjective."
   ]
  },
  {
   "attachments": {},
   "cell_type": "markdown",
   "metadata": {},
   "source": [
    "### Question 5\n",
    "\n",
    "How many principal components explain more than 6% of total variation individually? Store this number as `num_pc`, and store the proportion of variation that they capture jointly as `var_explained`."
   ]
  },
  {
   "cell_type": "code",
   "execution_count": null,
   "metadata": {
    "tags": []
   },
   "outputs": [],
   "source": [
    "# number of selected components\n",
    "num_pc = ...\n",
    "\n",
    "# variance explained\n",
    "var_explained = ...\n",
    "\n",
    "#print\n",
    "print('number selected: ', num_pc)\n",
    "print('proportion of variance captured: ', var_explained)"
   ]
  },
  {
   "cell_type": "code",
   "execution_count": null,
   "metadata": {
    "deletable": false,
    "editable": false
   },
   "outputs": [],
   "source": [
    "grader.check(\"q5\")"
   ]
  },
  {
   "attachments": {},
   "cell_type": "markdown",
   "metadata": {},
   "source": [
    "## Interpreting loadings\n",
    "\n",
    "Now that you've chosen the number of components to work with, the next step is to examine loadings to understand just *which* variables the components combine with significant weight.\n",
    "\n",
    "We'll store the scores for the components you selected as a dataframe."
   ]
  },
  {
   "cell_type": "code",
   "execution_count": null,
   "metadata": {},
   "outputs": [],
   "source": [
    "# subset loadings\n",
    "loading_df = pca.loadings.iloc[:, 0:num_pc]\n",
    "\n",
    "# rename columns\n",
    "loading_df = loading_df.rename(columns = dict(zip(loading_df.columns, ['PC' + str(i) for i in range(1, num_pc + 1)])))\n",
    "\n",
    "# print\n",
    "loading_df.head()"
   ]
  },
  {
   "attachments": {},
   "cell_type": "markdown",
   "metadata": {},
   "source": [
    "Again, the loadings are the *weights* with which the variables are combined to form the principal components. For example, the `PC1` column tells us that this component is equal to:\n",
    "\n",
    "$$(-0.020055\\times\\text{women}) + (0.289614\\times\\text{white}) + (0.050698\\times\\text{citizen}) + \\dots$$\n",
    "\n",
    "Since the components together capture over half the total variation, the heavily weighted variables in the selected components are the ones that drive variation in the original data. \n",
    "\n",
    "By visualizing the loadings, we can see which variables are most influential for each component, and thereby also which variables seem to drive total variation in the data."
   ]
  },
  {
   "cell_type": "code",
   "execution_count": null,
   "metadata": {
    "slideshow": {
     "slide_type": "skip"
    },
    "tags": []
   },
   "outputs": [],
   "source": [
    "# melt from wide to long\n",
    "loading_plot_df = loading_df.reset_index().melt(\n",
    "    id_vars = 'index',\n",
    "    var_name = 'Principal Component',\n",
    "    value_name = 'Loading'\n",
    ").rename(columns = {'index': 'Variable'})\n",
    "\n",
    "# add a column of zeros to encode for x = 0 line to plot\n",
    "loading_plot_df['zero'] = np.repeat(0, len(loading_plot_df))\n",
    "\n",
    "# create base layer\n",
    "base = alt.Chart(loading_plot_df)\n",
    "\n",
    "# create lines + points for loadings\n",
    "loadings = base.mark_line(point = True).encode(\n",
    "    y = alt.X('Variable', title = ''),\n",
    "    x = 'Loading',\n",
    "    color = 'Principal Component'\n",
    ")\n",
    "\n",
    "# create line at zero\n",
    "rule = base.mark_rule().encode(x = alt.X('zero', title = 'Loading'), size = alt.value(0.05))\n",
    "\n",
    "# layer\n",
    "loading_plot = (loadings + rule).properties(width = 120)\n",
    "\n",
    "# show\n",
    "loading_plot.facet(column = alt.Column('Principal Component', title = ''))"
   ]
  },
  {
   "attachments": {},
   "cell_type": "markdown",
   "metadata": {},
   "source": [
    "Look first at PC1: the variables with the largest loadings (points farthest in either direction from the zero line) are Child Poverty (positive), Employed (negative), Income per capita (negative), Poverty (positive), and Unemployment (positive). We know from exploring the correlation matrix that employment rate, unemployment rate, and income per capita are all related, and similarly child poverty rate and poverty rate are related. Therefore, the positively-loaded variables are all measuring more or less the same thing, and likewise for the negatively-loaded variables. \n",
    "\n",
    "Essentially, then, PC1 is predominantly (but not entirely) a representation of income and poverty. In particular, counties have a higher value for PC1 if they have lower-than-average income per capita and higher-than-average poverty rates, and a smaller value for PC1 if they have higher-than-average income per capita and lower-than-average poverty rates."
   ]
  },
  {
   "attachments": {},
   "cell_type": "markdown",
   "metadata": {},
   "source": [
    "### A system for loading interpretation\n",
    "\n",
    "Often interpreting principal components can be difficult, and sometimes there's no clear interpretation available! That said, it helps to have a system instead of staring at the plot and scratching our heads. Here is a semi-systematic approach to interpreting loadings:\n",
    "\n",
    "1. Divert your attention away from the zero line.\n",
    "2. Find the largest positive loading, and list all variables with similar loadings.\n",
    "3. Find the largest negative loading, and list all variables with similar loadings.\n",
    "4. The principal component represents the difference between the average of the first set and the average of the second set.\n",
    "5. Try to come up with a description of less than 4 words.\n",
    "\n",
    "This system is based on the following ideas:\n",
    "* a high loading value (negative or positive) indicates that a variable strongly influences the principal component;\n",
    "* a negative loading value indicates that\n",
    "    + increases in the value of a variable *decrease* the value of the principal component \n",
    "    + and decreases in the value of a variable *increase* the value of the principal component;\n",
    "* a positive loading value indicates that \n",
    "    + increases in the value of a variable *increase* the value of the principal component\n",
    "    + and decreases in the value of a variable *decrease* the value of the principal component;\n",
    "* similar loadings between two or more variables indicate that the principal component reflects their *average*;\n",
    "* divergent loadings between two sets of variables indicates that the principal component reflects their *difference*."
   ]
  },
  {
   "attachments": {},
   "cell_type": "markdown",
   "metadata": {},
   "source": [
    "<!-- BEGIN QUESTION -->\n",
    "\n",
    "### Question 6\n",
    "\n",
    "Work with your neighbor to interpret PC2. Come up with a name for the component and explain which variables are most influential."
   ]
  },
  {
   "cell_type": "markdown",
   "metadata": {},
   "source": [
    "_Type your answer here, replacing this text._"
   ]
  },
  {
   "attachments": {},
   "cell_type": "markdown",
   "metadata": {},
   "source": [
    "<!-- END QUESTION -->\n",
    "\n",
    "## Standardization\n",
    "\n",
    "Data are typically standardized because otherwise the variables on the largest scales tend to dominate the principal components, and most of the time PC1 will capture the majority of the variation. However, that is artificial. In the census data, income per capita has the largest magnitudes, and thus, the highest variance. "
   ]
  },
  {
   "cell_type": "code",
   "execution_count": null,
   "metadata": {},
   "outputs": [],
   "source": [
    "# three largest variances\n",
    "x_mx.var().sort_values(ascending = False).head(3)"
   ]
  },
  {
   "attachments": {},
   "cell_type": "markdown",
   "metadata": {},
   "source": [
    "When PCs are computed without normalization, the total variation is mostly just the variance of income per capita because it is orders of magnitude larger than the variance of any other variable. But that's just because of the *scale* of the variable -- incomes per capita are large numbers -- not a reflection that it varies more or less than the other variables.\n",
    "\n",
    "Run the cell below to see what happens to the variance ratios if the data are not normalized."
   ]
  },
  {
   "cell_type": "code",
   "execution_count": null,
   "metadata": {},
   "outputs": [],
   "source": [
    "# recompute pcs without normalization\n",
    "pca_unscaled = PCA(data = x_mx, standardize = False)\n",
    "\n",
    "# show variance ratios for first three pcs\n",
    "pca_unscaled.eigenvals[0:3]/pca_unscaled.eigenvals.sum()"
   ]
  },
  {
   "attachments": {},
   "cell_type": "markdown",
   "metadata": {},
   "source": [
    "Further, let's look at the loadings when data are not standardized:"
   ]
  },
  {
   "cell_type": "code",
   "execution_count": null,
   "metadata": {},
   "outputs": [],
   "source": [
    "# subset loadings\n",
    "unscaled_loading_df = pca_unscaled.loadings.iloc[:, 0:2]\n",
    "\n",
    "# rename columns\n",
    "unscaled_loading_df = unscaled_loading_df.rename(\n",
    "    columns = dict(zip(unscaled_loading_df.columns, ['PC' + str(i) for i in range(1, 3)]))\n",
    ")\n",
    "\n",
    "# melt from wide to long\n",
    "unscaled_loading_plot_df = unscaled_loading_df.reset_index().melt(\n",
    "    id_vars = 'index',\n",
    "    var_name = 'Principal Component',\n",
    "    value_name = 'Loading'\n",
    ").rename(\n",
    "    columns = {'index': 'Variable'}\n",
    ")\n",
    "\n",
    "# add a column of zeros to encode for x = 0 line to plot\n",
    "unscaled_loading_plot_df['zero'] = np.repeat(0, len(unscaled_loading_plot_df))\n",
    "\n",
    "# create base layer\n",
    "base = alt.Chart(unscaled_loading_plot_df)\n",
    "\n",
    "# create lines + points for loadings\n",
    "loadings = base.mark_line(point = True).encode(\n",
    "    y = alt.X('Variable', title = ''),\n",
    "    x = 'Loading',\n",
    "    color = 'Principal Component'\n",
    ")\n",
    "\n",
    "# create line at zero\n",
    "rule = base.mark_rule().encode(x = alt.X('zero', title = 'Loading'), size = alt.value(0.05))\n",
    "\n",
    "# layer\n",
    "loading_plot = (loadings + rule).properties(width = 120, title = 'Loadings from unscaled PCA')\n",
    "\n",
    "# show\n",
    "loading_plot.facet(column = alt.Column('Principal Component', title = ''))"
   ]
  },
  {
   "attachments": {},
   "cell_type": "markdown",
   "metadata": {},
   "source": [
    "Notice that the variables with nonzero loadings in unscaled PCA are simply the three variables with the largest variances.  "
   ]
  },
  {
   "cell_type": "code",
   "execution_count": null,
   "metadata": {},
   "outputs": [],
   "source": [
    "# three largest variances\n",
    "x_mx.var().sort_values(ascending = False).head(3)"
   ]
  },
  {
   "attachments": {},
   "cell_type": "markdown",
   "metadata": {},
   "source": [
    "# Exploratory analysis based on PCA\n",
    "\n",
    "Now that we have the principal components, we can use them for exploratory data visualizations. To this end, let's retrieve the scores from the components you selected:"
   ]
  },
  {
   "cell_type": "code",
   "execution_count": null,
   "metadata": {},
   "outputs": [],
   "source": [
    "# subset scores\n",
    "score_df = pca.scores.iloc[:, 0:num_pc]\n",
    "\n",
    "# rename columns\n",
    "score_df = score_df.rename(\n",
    "    columns = dict(zip(score_df.columns, ['PC' + str(i) for i in range(1, num_pc + 1)]))\n",
    ")\n",
    "\n",
    "# add state and county\n",
    "score_df[['State', 'County']] = census[['State', 'County']]\n",
    "\n",
    "# print\n",
    "score_df.head()"
   ]
  },
  {
   "attachments": {},
   "cell_type": "markdown",
   "metadata": {},
   "source": [
    "The PC's can be used to construct scatterplots of the data and search for patterns. We'll illustrate that by identifying some outliers. The cell below plots PC2 (employment type) against PC4 (carpooling?):"
   ]
  },
  {
   "cell_type": "code",
   "execution_count": null,
   "metadata": {},
   "outputs": [],
   "source": [
    "# base chart\n",
    "base = alt.Chart(score_df)\n",
    "\n",
    "# data scatter\n",
    "scatter = base.mark_point(opacity = 0.2).encode(\n",
    "    x = alt.X('PC2:Q', title = 'Self-employment PC'),\n",
    "    y = alt.Y('PC4:Q', title = 'Carpooling PC')\n",
    ")\n",
    "\n",
    "# show\n",
    "scatter"
   ]
  },
  {
   "attachments": {},
   "cell_type": "markdown",
   "metadata": {},
   "source": [
    "Notice that there are a handful of outlying points in the upper right region away from the dense scatter. What are those?\n",
    "\n",
    "In order to inspect the outlying counties, we first need to figure out how to identify them. The outlying values have a large *sum* of PC2 and PC4. We can distinguish them by finding a cutoff value for the sum; a simple quantile will do."
   ]
  },
  {
   "cell_type": "code",
   "execution_count": null,
   "metadata": {},
   "outputs": [],
   "source": [
    "# find cutoff value\n",
    "pc2_pc4_sum = (score_df.PC2 + score_df.PC4)\n",
    "cutoff = pc2_pc4_sum.quantile(0.99999)\n",
    "\n",
    "# store outlying rows using cutoff\n",
    "outliers = score_df[(-score_df.PC2 + score_df.PC4) > cutoff]\n",
    "\n",
    "# plot outliers in red\n",
    "pts = alt.Chart(outliers).mark_circle(\n",
    "    color = 'red',\n",
    "    opacity = 0.3\n",
    ").encode(\n",
    "    x = 'PC2',\n",
    "    y = 'PC4'\n",
    ")\n",
    "\n",
    "# layer\n",
    "scatter + pts"
   ]
  },
  {
   "attachments": {},
   "cell_type": "markdown",
   "metadata": {},
   "source": [
    "Notice that almost all the outlying counties are remote regions of Alaska:"
   ]
  },
  {
   "cell_type": "code",
   "execution_count": null,
   "metadata": {
    "tags": []
   },
   "outputs": [],
   "source": [
    "outliers"
   ]
  },
  {
   "attachments": {},
   "cell_type": "markdown",
   "metadata": {},
   "source": [
    "What sets them apart? The cell below retrieves the normalized data and county name for the outlying rows, and then plots the Standardized values of each variable for all 9 counties as vertical ticks, along with a point indicating the mean for the outlying counties. This plot can be used to determine which variables are over- or under-average for the outlying counties relative to the nation by simply locating means that are far from zero in either direction.   "
   ]
  },
  {
   "cell_type": "code",
   "execution_count": null,
   "metadata": {},
   "outputs": [],
   "source": [
    "x_ctr = (x_mx - x_mx.mean())/x_mx.std()\n",
    "\n",
    "# retrieve normalized data for outlying rows\n",
    "outlier_data = x_ctr.loc[outliers.index.values].join(\n",
    "    census.loc[outliers.index.values, ['County']]\n",
    ")\n",
    "\n",
    "# melt to long format for plotting\n",
    "outlier_plot_df = outlier_data.melt(\n",
    "    id_vars = 'County',\n",
    "    var_name = 'Variable',\n",
    "    value_name = 'Standardized value'\n",
    ")\n",
    "\n",
    "# plot ticks for values (x) for each variable (y)\n",
    "ticks = alt.Chart(outlier_plot_df).mark_tick().encode(\n",
    "    x = 'Standardized value',\n",
    "    y = 'Variable'\n",
    ")\n",
    "\n",
    "# shade out region within 3SD of mean\n",
    "grey = alt.Chart(\n",
    "    pd.DataFrame(\n",
    "        {'Variable': x_ctr.columns, \n",
    "         'upr': np.repeat(3, 22), \n",
    "         'lwr': np.repeat(-3, 22)}\n",
    "    )\n",
    ").mark_area(opacity = 0.2, color = 'gray').encode(\n",
    "    y = 'Variable',\n",
    "    x = alt.X('upr', title = 'Standardized value'),\n",
    "    x2 = 'lwr'\n",
    ")\n",
    "\n",
    "# compute means of each variable across counties\n",
    "means = alt.Chart(outlier_plot_df).transform_aggregate(\n",
    "    group_mean = 'mean(Standardized value)',\n",
    "    groupby = ['Variable']\n",
    ").transform_calculate(\n",
    "    large = 'abs(datum.group_mean) > 3'\n",
    ").mark_circle(size = 80).encode(\n",
    "    x = 'group_mean:Q',\n",
    "    y = 'Variable',\n",
    "    color = alt.Color('large:N', legend = None)\n",
    ")\n",
    "\n",
    "# layer\n",
    "ticks + grey + means"
   ]
  },
  {
   "attachments": {},
   "cell_type": "markdown",
   "metadata": {},
   "source": [
    "<!-- BEGIN QUESTION -->\n",
    "\n",
    "### Question 7\n",
    "\n",
    "The two variables that clearly set the outlying counties apart from the nation are the percentage of the population using alternative transportation (extremely above average) and the percentage that drive to work (extremely below average). What about those counties explains this?\n",
    "\n",
    "(*Hint:* take a peek at the [Wikipedia page on transportation in Alaska](https://en.wikipedia.org/wiki/Transportation_in_Alaska).)"
   ]
  },
  {
   "cell_type": "markdown",
   "metadata": {},
   "source": [
    "_Type your answer here, replacing this text._"
   ]
  },
  {
   "attachments": {},
   "cell_type": "markdown",
   "metadata": {},
   "source": [
    "<!-- END QUESTION -->\n",
    "\n",
    "# Submission\n",
    "\n",
    "\n",
    "1. Save the notebook. \n",
    "2. Restart the kernel and run all cells. (**CAUTION**: if your notebook is not saved, you will lose your work.)\n",
    "3. Carefully look through your notebook and verify that all computations execute correctly and all graphics are displayed clearly. You should see **no errors**; if there are any errors, make sure to correct them before you submit the notebook.\n",
    "4. Download the notebook as an `.ipynb` file. This is your backup copy.\n",
    "5. Export the notebook as PDF and upload to Gradescope."
   ]
  },
  {
   "cell_type": "markdown",
   "metadata": {
    "deletable": false,
    "editable": false
   },
   "source": [
    "---\n",
    "\n",
    "To double-check your work, the cell below will rerun all of the autograder tests."
   ]
  },
  {
   "cell_type": "code",
   "execution_count": null,
   "metadata": {
    "deletable": false,
    "editable": false
   },
   "outputs": [],
   "source": [
    "grader.check_all()"
   ]
  }
 ],
 "metadata": {
  "kernelspec": {
   "display_name": "Python 3",
   "language": "python",
   "name": "python3"
  },
  "language_info": {
   "codemirror_mode": {
    "name": "ipython",
    "version": 3
   },
   "file_extension": ".py",
   "mimetype": "text/x-python",
   "name": "python",
   "nbconvert_exporter": "python",
   "pygments_lexer": "ipython3",
   "version": "3.9.12"
  },
  "otter": {
   "OK_FORMAT": true,
   "tests": {
    "q1": {
     "name": "q1",
     "points": 1,
     "suites": [
      {
       "cases": [
        {
         "code": ">>> ## TEST ##\n>>> round(pov_dem_rate, 1) == 0.6\nTrue",
         "hidden": false,
         "locked": false
        }
       ],
       "scored": true,
       "setup": "",
       "teardown": "",
       "type": "doctest"
      }
     ]
    },
    "q3": {
     "name": "q3",
     "points": 1,
     "suites": [
      {
       "cases": [
        {
         "code": ">>> # loading is negative\n>>> pc6_most_influential_variable_loading < 0\nTrue",
         "hidden": false,
         "locked": false
        },
        {
         "code": ">>> # starts with m\n>>> pc6_most_influential_variable[0] == 'M'\nTrue",
         "hidden": false,
         "locked": false
        }
       ],
       "scored": true,
       "setup": "",
       "teardown": "",
       "type": "doctest"
      }
     ]
    },
    "q5": {
     "name": "q5",
     "points": 1,
     "suites": [
      {
       "cases": [
        {
         "code": ">>> 2 < num_pc < 7\nTrue",
         "hidden": false,
         "locked": false
        },
        {
         "code": ">>> 0.5 < var_explained < 0.65\nTrue",
         "hidden": false,
         "locked": false
        }
       ],
       "scored": true,
       "setup": "",
       "teardown": "",
       "type": "doctest"
      }
     ]
    }
   }
  }
 },
 "nbformat": 4,
 "nbformat_minor": 4
}
