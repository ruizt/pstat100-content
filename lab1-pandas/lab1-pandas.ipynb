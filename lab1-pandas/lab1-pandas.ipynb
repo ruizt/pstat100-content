{
 "cells": [
  {
   "cell_type": "code",
   "execution_count": null,
   "metadata": {
    "deletable": false,
    "editable": false
   },
   "outputs": [],
   "source": [
    "# Initialize Otter\n",
    "import otter\n",
    "grader = otter.Notebook(\"lab1-pandas.ipynb\")"
   ]
  },
  {
   "attachments": {},
   "cell_type": "markdown",
   "metadata": {
    "deletable": false
   },
   "source": [
    "# Lab 1: Pandas Overview\n",
    "\n",
    "[Pandas](https://pandas.pydata.org/) is one of the most widely used Python libraries in data science. In this lab, you will learn commonly used data tidying operations/tools in Pandas. \n",
    "\n",
    "#### Objectives\n",
    "\n",
    "This lab covers the following topics:\n",
    "\n",
    "* Dataframe basics\n",
    "     - Creating dataframes\n",
    "     - Dataframe indexing and attributes\n",
    "     - Adding, removing, and renaming variables\n",
    "* Operations on dataframes\n",
    "     - Slicing (selecting rows and columns)\n",
    "     - Filtering (selecting rows that meet certain conditions)\n",
    "* Grouping and aggregation\n",
    "     - Summary statistics (mean, median, variance, etc.)\n",
    "     - Grouped summaries\n",
    "     - Chaining operations and style guidelines\n",
    "     - Pivoting\n",
    "\n",
    "**Note**: The Pandas interface is notoriously confusing, and the documentation is not consistently great. Be prepared to search through Pandas documentation and experiment, but remember it is part of the learning experience and will help shape you as a data scientist!"
   ]
  },
  {
   "cell_type": "code",
   "execution_count": 1,
   "metadata": {
    "deletable": false,
    "editable": false,
    "scrolled": true
   },
   "outputs": [],
   "source": [
    "import numpy as np\n",
    "import altair as alt\n",
    "import pandas as pd"
   ]
  },
  {
   "attachments": {},
   "cell_type": "markdown",
   "metadata": {
    "deletable": false,
    "tags": []
   },
   "source": [
    "## Creating DataFrames & Basic Manipulations\n",
    "\n",
    "A [dataframe](http://pandas.pydata.org/pandas-docs/stable/dsintro.html#dataframe) is a table in which each column has a type; there is an index over the columns (typically string labels) and an index over the rows (typically ordinal numbers). An index is represented by a _series_ object, which is a one-dimensional labeled array. Here you'll cover:\n",
    "\n",
    "* creating dataframes from scratch;\n",
    "* retrieving attributes;\n",
    "* dataframe indexing;\n",
    "* adding, removing, and renaming columns.\n",
    "\n",
    "### Creating dataframes from scratch\n",
    "\n",
    "The [documentation](https://pandas.pydata.org/pandas-docs/stable/generated/pandas.DataFrame.html) for the pandas `DataFrame` class  provide two primary syntaxes to create a data frame from scratch:\n",
    "\n",
    "* from a dictionary\n",
    "* row-wise tuples\n",
    "\n",
    "**Syntax 1 (dictionary):** You can create a data frame by specifying the columns and values using a dictionary (a concatenation of named lists) as shown below. \n",
    "\n",
    "The keys of the dictionary are the column names, and the values of the dictionary are lists containing the row entries."
   ]
  },
  {
   "cell_type": "code",
   "execution_count": 2,
   "metadata": {
    "deletable": false,
    "tags": []
   },
   "outputs": [],
   "source": [
    "# define a dataframe using dictionary syntax\n",
    "fruit_info = pd.DataFrame( \n",
    "    data = { 'fruit': ['apple', 'orange', 'banana', 'raspberry'],\n",
    "             'color': ['red', 'orange', 'yellow', 'pink']\n",
    "           })\n",
    "\n",
    "# print\n",
    "fruit_info"
   ]
  },
  {
   "cell_type": "markdown",
   "metadata": {
    "deletable": false,
    "tags": []
   },
   "source": [
    "**Syntax 2 (row tuples):** You can also define a dataframe by specifying the rows as tuples. \n",
    "\n",
    "Each row corresponds to a distinct tuple, and the column indices are specified separately."
   ]
  },
  {
   "cell_type": "code",
   "execution_count": 3,
   "metadata": {
    "deletable": false
   },
   "outputs": [],
   "source": [
    "# define the same dataframe using tuple syntax \n",
    "fruit_info2 = pd.DataFrame(\n",
    "    [(\"apple\", \"red\"), (\"orange\", \"orange\"), (\"banana\", \"yellow\"), (\"raspberry\", \"pink\")],\n",
    "    columns = [\"fruit\", \"color\"]\n",
    ")\n",
    "\n",
    "# print\n",
    "fruit_info2"
   ]
  },
  {
   "attachments": {},
   "cell_type": "markdown",
   "metadata": {
    "deletable": false,
    "tags": []
   },
   "source": [
    "### Dataframe Attributes\n",
    "\n",
    "DataFrames have several basic attributes:\n",
    "\n",
    "* `.shape` contains dimensions;\n",
    "* `.dtypes` contains data types (float, integer, object, etc.) \n",
    "* `.size` first (row) dimension;\n",
    "* `.values` contains an array comprising each entry in the dataframe.\n",
    "* `.columns` contains the column index;\n",
    "* `.index` contains the row index.\n",
    "\n",
    "You can obtain these attributes by appending the attribute name to the dataframe name. For instance, the dimensions of a dataframe `df` can be retrieved by `df.shape`."
   ]
  },
  {
   "cell_type": "code",
   "execution_count": 4,
   "metadata": {
    "deletable": false
   },
   "outputs": [],
   "source": [
    "# dimensions\n",
    "fruit_info.shape"
   ]
  },
  {
   "attachments": {},
   "cell_type": "markdown",
   "metadata": {
    "deletable": false,
    "tags": []
   },
   "source": [
    "To retrieve a two-dimensional numpy array with the values of the dataframe, use `df.values`. It is sometimes useful to extract this data structure in order to perform vectorized operations, linear algebra, and the like."
   ]
  },
  {
   "cell_type": "code",
   "execution_count": 5,
   "metadata": {
    "deletable": false
   },
   "outputs": [],
   "source": [
    "# as array\n",
    "fruit_info.values"
   ]
  },
  {
   "attachments": {},
   "cell_type": "markdown",
   "metadata": {
    "deletable": false,
    "tags": []
   },
   "source": [
    "### Dataframe Indexing\n",
    "\n",
    "The entries in a dataframe are indexed. Indices for rows and columns are stored as the `.index.` and `.columns` attributes, respectively."
   ]
  },
  {
   "cell_type": "code",
   "execution_count": 6,
   "metadata": {
    "deletable": false,
    "tags": []
   },
   "outputs": [],
   "source": [
    "fruit_info.columns"
   ]
  },
  {
   "cell_type": "code",
   "execution_count": 7,
   "metadata": {
    "deletable": false,
    "tags": []
   },
   "outputs": [],
   "source": [
    "fruit_info.index"
   ]
  },
  {
   "attachments": {},
   "cell_type": "markdown",
   "metadata": {
    "deletable": false,
    "tags": [
     "fixed",
     "cell"
    ]
   },
   "source": [
    "By default, the row indexing is simply numbering by consecutive integers."
   ]
  },
  {
   "cell_type": "code",
   "execution_count": 8,
   "metadata": {},
   "outputs": [],
   "source": [
    "fruit_info.index.values"
   ]
  },
  {
   "attachments": {},
   "cell_type": "markdown",
   "metadata": {},
   "source": [
    "However, rows can alternatively be indexed by labels:"
   ]
  },
  {
   "cell_type": "code",
   "execution_count": 9,
   "metadata": {
    "tags": [
     "fixed",
     "cell"
    ]
   },
   "outputs": [],
   "source": [
    "# define with a row index\n",
    "pd.DataFrame(\n",
    "    [(\"apple\", \"red\"), (\"orange\", \"orange\"), (\"banana\", \"yellow\"), (\"raspberry\", \"pink\")],\n",
    "    columns = [\"fruit\", \"color\"],\n",
    "    index = [\"fruit 1\", \"fruit 2\", \"fruit 3\", 'fruit 4']\n",
    ")"
   ]
  },
  {
   "attachments": {},
   "cell_type": "markdown",
   "metadata": {
    "deletable": false,
    "tags": []
   },
   "source": [
    "Unlike data frames in R, the row index label figures prominently in certain operations. The elements of the dataframe can be retrived using `.loc[ROW-INDEX, COL-INDEX]` which specifies the location of data values *by name* (not by position)."
   ]
  },
  {
   "cell_type": "code",
   "execution_count": 10,
   "metadata": {
    "deletable": false,
    "tags": []
   },
   "outputs": [],
   "source": [
    "# retrieve row 0, column 'fruit'\n",
    "fruit_info.loc[0, 'fruit']"
   ]
  },
  {
   "attachments": {},
   "cell_type": "markdown",
   "metadata": {},
   "source": [
    "Most of the time rows are indexed numerically, and somewhat confusingly, the syntax for `.loc` does not require putting the row index `0` in quotes, even though it refers to the row label and not the row number. This is important to remember, because often operations will scramble the order of rows. To see the difference, consider the following:"
   ]
  },
  {
   "cell_type": "code",
   "execution_count": 11,
   "metadata": {},
   "outputs": [],
   "source": [
    "# non-consecutive row index\n",
    "pd.DataFrame(\n",
    "    [(\"apple\", \"red\"), (\"orange\", \"orange\"), (\"banana\", \"yellow\"), (\"raspberry\", \"pink\")],\n",
    "    columns = [\"fruit\", \"color\"],\n",
    "    index = np.array([8, 6, 4, 2])\n",
    ")"
   ]
  },
  {
   "attachments": {},
   "cell_type": "markdown",
   "metadata": {},
   "source": [
    "Now adding `.loc[2, 'color']` will retrieve `pink`, the last row of the dataframe."
   ]
  },
  {
   "cell_type": "code",
   "execution_count": 12,
   "metadata": {},
   "outputs": [],
   "source": [
    "# subset\n",
    "pd.DataFrame(\n",
    "    [(\"apple\", \"red\"), (\"orange\", \"orange\"), (\"banana\", \"yellow\"), (\"raspberry\", \"pink\")],\n",
    "    columns = [\"fruit\", \"color\"],\n",
    "    index = np.array([8, 6, 4, 2])\n",
    ").loc[2, 'color']"
   ]
  },
  {
   "attachments": {},
   "cell_type": "markdown",
   "metadata": {},
   "source": [
    "To retrieve values *by position*, use `.iloc`. For many, this is more intuitive, as it is most similar to matrix or array indexing in mathematical notation."
   ]
  },
  {
   "cell_type": "code",
   "execution_count": 13,
   "metadata": {
    "deletable": false,
    "tags": []
   },
   "outputs": [],
   "source": [
    "# retrieve 0, 0 entry\n",
    "fruit_info.iloc[0, 0]"
   ]
  },
  {
   "attachments": {},
   "cell_type": "markdown",
   "metadata": {
    "deletable": false,
    "tags": []
   },
   "source": [
    "### Adding, removing, and renaming columns\n",
    "\n",
    "There are two ways to add new columns:\n",
    "\n",
    "* direct specification;\n",
    "* using `.loc[]`.\n",
    "\n",
    "**Direct specification:** For a dataFrame `df`, you can add a column with `df['new column name'] = ...` and assign a list or array of values to the column. \n",
    "\n",
    "**Using `.loc[]`**: For a dataframe `df`, you can add a column with `df.loc[:, 'new column name'] = ...` and assign a list or array of values to the column.\n",
    "\n",
    "Both accomplish the same task -- adding a new column index and populating values for each row -- but `.loc[]` is a little faster."
   ]
  },
  {
   "attachments": {},
   "cell_type": "markdown",
   "metadata": {
    "deletable": false,
    "editable": false,
    "tags": []
   },
   "source": [
    "### Question 1\n",
    "\n",
    "Using direct specification, add to the `fruit_info` table a new column called `rank1` containing integers 1, 2, 3, and 4, which express your personal preference about the taste ordering for each fruit (1 is tastiest; 4 is least tasty). Make sure that the numbers utilized are unique - no ties are allowed. \n",
    "\n",
    "<!--\n",
    "BEGIN QUESTION\n",
    "name: q1\n",
    "points: 1\n",
    "manual: false\n",
    "-->"
   ]
  },
  {
   "cell_type": "code",
   "execution_count": 14,
   "metadata": {
    "deletable": false
   },
   "outputs": [],
   "source": [
    "...\n",
    "\n",
    "# print\n",
    "fruit_info"
   ]
  },
  {
   "cell_type": "code",
   "execution_count": null,
   "metadata": {
    "deletable": false,
    "editable": false
   },
   "outputs": [],
   "source": [
    "grader.check(\"q1\")"
   ]
  },
  {
   "attachments": {},
   "cell_type": "markdown",
   "metadata": {},
   "source": [
    "Now, create a new dataframe `fruit_info_mod1` with the same information as `fruit_info_original`, but has the additional column `rank2`. Let's start off with making `fruit_info_mod1` as a copy of `fruit_info`:"
   ]
  },
  {
   "cell_type": "code",
   "execution_count": 20,
   "metadata": {},
   "outputs": [],
   "source": [
    "fruit_info_mod1 = fruit_info.copy()"
   ]
  },
  {
   "attachments": {},
   "cell_type": "markdown",
   "metadata": {
    "deletable": false,
    "editable": false,
    "tags": []
   },
   "source": [
    "### Question 2\n",
    "\n",
    "Using `.loc[]`, add a column called `rank2` to the `fruit_info_mod1` table that contains the same values in the same order as the `rank1` column.\n",
    "\n",
    "*Hint*: `.loc` will parse `:` as shorthand for 'all indices'.\n",
    "\n",
    "<!--\n",
    "BEGIN QUESTION\n",
    "name: q2\n",
    "points: 1\n",
    "manual: false\n",
    "-->"
   ]
  },
  {
   "cell_type": "code",
   "execution_count": 21,
   "metadata": {
    "deletable": false
   },
   "outputs": [],
   "source": [
    "...\n",
    "\n",
    "# print\n",
    "fruit_info_mod1"
   ]
  },
  {
   "cell_type": "code",
   "execution_count": null,
   "metadata": {
    "deletable": false,
    "editable": false
   },
   "outputs": [],
   "source": [
    "grader.check(\"q2\")"
   ]
  },
  {
   "cell_type": "markdown",
   "metadata": {
    "deletable": false,
    "tags": []
   },
   "source": [
    "When using the `.loc[]` approach, the `:` specifies that values are assigned to all rows of the data frame, so the array assigned to the new variable must be the same length as the data frame. What if we only assign values to certain rows? Try running the cell below. "
   ]
  },
  {
   "cell_type": "code",
   "execution_count": 24,
   "metadata": {
    "deletable": false,
    "tags": []
   },
   "outputs": [],
   "source": [
    "# define new variable just for rows 1 and 2\n",
    "fruit_info_mod1.loc[1:2, 'rank3'] = [1, 2]\n",
    "\n",
    "# check result\n",
    "fruit_info_mod1"
   ]
  },
  {
   "cell_type": "markdown",
   "metadata": {},
   "source": [
    "The remaining rows are assigned missing values. Notice what this does to the data type:"
   ]
  },
  {
   "cell_type": "code",
   "execution_count": 25,
   "metadata": {
    "deletable": false,
    "tags": []
   },
   "outputs": [],
   "source": [
    "# check data types\n",
    "fruit_info_mod1.dtypes"
   ]
  },
  {
   "cell_type": "markdown",
   "metadata": {
    "deletable": false,
    "tags": []
   },
   "source": [
    "We can detect these missing values using `.isna()`:"
   ]
  },
  {
   "cell_type": "code",
   "execution_count": 26,
   "metadata": {
    "deletable": false,
    "tags": []
   },
   "outputs": [],
   "source": [
    "# returns a logical data frame indicating whether each entry is missing or not\n",
    "fruit_info_mod1.isna()"
   ]
  },
  {
   "cell_type": "markdown",
   "metadata": {
    "deletable": false,
    "tags": []
   },
   "source": [
    "It would be more helpful to simply see by column whether there are missing values. Appending a `.any()` to the above command will do the trick:"
   ]
  },
  {
   "cell_type": "code",
   "execution_count": 27,
   "metadata": {
    "deletable": false,
    "tags": []
   },
   "outputs": [],
   "source": [
    "# detects whether any column has missing entries\n",
    "fruit_info_mod1.isna().any()"
   ]
  },
  {
   "cell_type": "markdown",
   "metadata": {
    "deletable": false,
    "tags": []
   },
   "source": [
    "Now that we've had a bit of fun let's remove those rank variables. Columns can be removed using `.drop()` with a list of column names to drop as its argument. For example: "
   ]
  },
  {
   "cell_type": "code",
   "execution_count": 28,
   "metadata": {
    "deletable": false,
    "tags": []
   },
   "outputs": [],
   "source": [
    "# first syntax for .drop()\n",
    "fruit_info_mod1.drop(columns = 'color')"
   ]
  },
  {
   "cell_type": "markdown",
   "metadata": {
    "deletable": false,
    "tags": []
   },
   "source": [
    "There is an alternate syntax to that shown above, which involves specifying the `axis` (row vs. column) and index name to drop:"
   ]
  },
  {
   "cell_type": "code",
   "execution_count": 29,
   "metadata": {
    "deletable": false,
    "tags": []
   },
   "outputs": [],
   "source": [
    "# second syntax for .drop()\n",
    "fruit_info_mod1.drop('color', axis = 1)"
   ]
  },
  {
   "attachments": {},
   "cell_type": "markdown",
   "metadata": {
    "deletable": false,
    "editable": false,
    "tags": []
   },
   "source": [
    "### Question 3\n",
    "\n",
    "Use the `.drop()` method to drop all `rank` columns you created in `fruit_info_mod1`. Note that `drop` **does not change the table**, but instead **returns a new table** with fewer columns or rows. To store the result, assign a new name (or write over the old dataframe). Here, assign the result to `fruit_info_original`.\n",
    "\n",
    "*Hint*: Look through the [documentation](https://pandas.pydata.org/pandas-docs/stable/reference/api/pandas.DataFrame.drop.html) to see how you can drop multiple columns of a Pandas dataframe at once using a list of column names.\n",
    "\n",
    "<!--\n",
    "BEGIN QUESTION\n",
    "name: q3\n",
    "points: 1\n",
    "manual: false\n",
    "-->"
   ]
  },
  {
   "cell_type": "code",
   "execution_count": 30,
   "metadata": {
    "deletable": false,
    "tags": []
   },
   "outputs": [],
   "source": [
    "fruit_info_original = ...\n",
    "\n",
    "# print\n",
    "fruit_info_original"
   ]
  },
  {
   "cell_type": "code",
   "execution_count": null,
   "metadata": {
    "deletable": false,
    "editable": false
   },
   "outputs": [],
   "source": [
    "grader.check(\"q3\")"
   ]
  },
  {
   "attachments": {},
   "cell_type": "markdown",
   "metadata": {},
   "source": [
    "*Nifty trick*: Use `df.columns[df.columns.str.startswith('STRING')]` to retrieve all indices starting with `STRING` and `ix.values.tolist()` to convert an index to an array of index names to obtain a list of column names to drop. Combining these gives `df.columns[df.columns.str.startswith('STRING')].values.tolist()`, and will return a list of all column names starting with `STRING`. This can be used in conjunction with the hint to remove all columns starting with `rank`."
   ]
  },
  {
   "cell_type": "code",
   "execution_count": 34,
   "metadata": {},
   "outputs": [],
   "source": [
    "# try the nifty trick here\n"
   ]
  },
  {
   "attachments": {},
   "cell_type": "markdown",
   "metadata": {},
   "source": [
    "Now create a new dataframe `fruit_info_mod2`with the same information as `fruit_info_original`, but has the column names capitalized. Begin by creating a copy `fruit_info_mod2` of `fruit_info_original`:"
   ]
  },
  {
   "cell_type": "code",
   "execution_count": 35,
   "metadata": {},
   "outputs": [],
   "source": [
    "fruit_info_mod2 = fruit_info_original.copy()"
   ]
  },
  {
   "attachments": {},
   "cell_type": "markdown",
   "metadata": {
    "deletable": false,
    "editable": false,
    "tags": []
   },
   "source": [
    "### Question 4\n",
    "\n",
    "Review the [documentation](https://pandas.pydata.org/pandas-docs/stable/reference/api/pandas.DataFrame.rename.html) for `.rename()`. Based on the examples, rename the columns of `fruit_info_mod2` so they begin with capital letters. \n",
    "\n",
    "For many operations, you can change the dataframe 'in place' without reassigning the result of the operation to a new name by setting the `inplace` parameter to `True`. Use that strategy here.\n",
    "\n",
    "<!--\n",
    "BEGIN QUESTION\n",
    "name: q4\n",
    "points: 1\n",
    "manual: false\n",
    "-->"
   ]
  },
  {
   "cell_type": "code",
   "execution_count": 36,
   "metadata": {
    "deletable": false,
    "scrolled": true
   },
   "outputs": [],
   "source": [
    "...\n",
    "\n",
    "# print\n",
    "fruit_info_mod2"
   ]
  },
  {
   "cell_type": "code",
   "execution_count": null,
   "metadata": {
    "deletable": false,
    "editable": false
   },
   "outputs": [],
   "source": [
    "grader.check(\"q4\")"
   ]
  },
  {
   "attachments": {},
   "cell_type": "markdown",
   "metadata": {
    "deletable": false,
    "tags": []
   },
   "source": [
    "## Operations on Data Frames\n",
    "\n",
    "With some basics in place, here you'll see how to perform subsetting operations on data frames that are useful for tidying up datasets.\n",
    "\n",
    "* **Slicing**: selecting columns or rows in chunks or by position.\n",
    "    - Often imported data contain columns that are either superfluous or not of interest for a particular project.\n",
    "    - You may also want to examine particular portions of a data frame.\n",
    "* **Filtering**: selecting rows that meet certain criteria\n",
    "    - Often you'll want to remove duplicate rows, filter missing observations, or select a structured subset of a data frame.\n",
    "    - Also helpful for inspection.\n",
    "\n",
    "To illustrate these operations, you'll use a dataset comprising counts of the given names of babies born in California each year from 1990 - 2018. The cell below imports the baby names data as a data frame from a .csv file. `.head()` prints the first few rows of the dataset. "
   ]
  },
  {
   "cell_type": "code",
   "execution_count": 39,
   "metadata": {
    "deletable": false,
    "tags": []
   },
   "outputs": [],
   "source": [
    "# import baby names data\n",
    "baby_names = pd.read_csv('data/baby_names.csv')\n",
    "\n",
    "# preview first few rows\n",
    "baby_names.head()"
   ]
  },
  {
   "cell_type": "markdown",
   "metadata": {
    "deletable": false,
    "tags": []
   },
   "source": [
    "Your focus here isn't on analyzing this data, so we won't ask you to spend too much effort getting acquainted with it. However, a brief inspection is always a good idea. Let's check:\n",
    "\n",
    "* dimensions (number of rows and columns);\n",
    "* how many distinct states, sexes, and years.\n",
    "\n",
    "Note that the above dataframe displayed is a preview of the full dataframe."
   ]
  },
  {
   "attachments": {},
   "cell_type": "markdown",
   "metadata": {
    "deletable": false,
    "editable": false,
    "tags": []
   },
   "source": [
    "### Question 5\n",
    "\n",
    "You've already seen how to examine dimensions using dataframe attributes. Check the dimensions of `baby_names` and store them in `dimensions_baby_names`.\n",
    "\n",
    "<!--\n",
    "BEGIN QUESTION\n",
    "name: q5\n",
    "points: 1\n",
    "manual: false\n",
    "-->"
   ]
  },
  {
   "cell_type": "code",
   "execution_count": 40,
   "metadata": {
    "deletable": false,
    "tags": []
   },
   "outputs": [],
   "source": [
    "dimensions_baby_names = ..."
   ]
  },
  {
   "cell_type": "code",
   "execution_count": null,
   "metadata": {
    "deletable": false,
    "editable": false
   },
   "outputs": [],
   "source": [
    "grader.check(\"q5\")"
   ]
  },
  {
   "attachments": {},
   "cell_type": "markdown",
   "metadata": {
    "deletable": false,
    "tags": []
   },
   "source": [
    "You haven't yet seen how to retrieve the distinct values of an array or series, without duplicates. There are a few different ways to go about this, but one is to count the number of occurrences of each distinct entry in a column. This can be done by retrieving the column as a series using syntax of the form `df.colname`, and then pass the result to `.value_counts()`:"
   ]
  },
  {
   "cell_type": "code",
   "execution_count": 43,
   "metadata": {
    "deletable": false,
    "tags": []
   },
   "outputs": [],
   "source": [
    "# count distinct values\n",
    "baby_names.Sex.value_counts()"
   ]
  },
  {
   "attachments": {},
   "cell_type": "markdown",
   "metadata": {
    "deletable": false,
    "editable": false,
    "tags": []
   },
   "source": [
    "### Question 6\n",
    "\n",
    "Count the number of occurences of each distinct year. Create a series `occur_per_year` that displays the number of occurrences, ordered by year (so that the years are displayed in order). If you add `sort = False` as an argument to `value_counts`, the distinct values will be displayed in the order they appear in the dataset. \n",
    "\n",
    "How many years are represented in the dataset? Store your answer as `num_years`.\n",
    "\n",
    "<!--\n",
    "BEGIN QUESTION\n",
    "name: q6\n",
    "points: 1\n",
    "manual: false\n",
    "-->"
   ]
  },
  {
   "cell_type": "code",
   "execution_count": 44,
   "metadata": {
    "deletable": false,
    "tags": []
   },
   "outputs": [],
   "source": [
    "occur_per_year = ...\n",
    "\n",
    "num_years = ...\n",
    "\n",
    "print(occur_per_year)\n",
    "print(num_years)"
   ]
  },
  {
   "cell_type": "code",
   "execution_count": null,
   "metadata": {
    "deletable": false,
    "editable": false
   },
   "outputs": [],
   "source": [
    "grader.check(\"q6\")"
   ]
  },
  {
   "attachments": {},
   "cell_type": "markdown",
   "metadata": {
    "deletable": false,
    "tags": []
   },
   "source": [
    "### Slicing: selecting rows and columns\n",
    "\n",
    "There are two fast and simple ways to slice dataframes:\n",
    "\n",
    "* using `.loc` to specify rows and columns by index;\n",
    "* using `.iloc` to specify rows and columns by position.\n",
    "\n",
    "You have seen simple examples of both of these above. Here we'll show how to use these two commands to retrieve multiple rows and columns."
   ]
  },
  {
   "cell_type": "markdown",
   "metadata": {
    "deletable": false,
    "tags": []
   },
   "source": [
    "#### Slicing with `.loc`: specifying index names\n",
    "\n",
    "This method retrieves entries by specifying row and column indexes using syntax of the form `df.loc[rows, cols]`. The rows and columns can be single indices, a list of indices, or a set of adjacent indices using a colon `:`. Examples of these usages are shown below."
   ]
  },
  {
   "cell_type": "code",
   "execution_count": 50,
   "metadata": {
    "deletable": false,
    "tags": []
   },
   "outputs": [],
   "source": [
    "# single indices -- small slice\n",
    "baby_names.loc[2, 'Name']"
   ]
  },
  {
   "cell_type": "code",
   "execution_count": 51,
   "metadata": {
    "deletable": false,
    "tags": []
   },
   "outputs": [],
   "source": [
    "# a list of indices -- larger slice\n",
    "baby_names.loc[[2, 3], ['Name', 'Count']]"
   ]
  },
  {
   "cell_type": "code",
   "execution_count": 52,
   "metadata": {
    "deletable": false,
    "tags": []
   },
   "outputs": [],
   "source": [
    "# consecutive indices -- a chunk\n",
    "baby_names.loc[2:10, 'Year':'Count']"
   ]
  },
  {
   "cell_type": "markdown",
   "metadata": {
    "deletable": false,
    "tags": []
   },
   "source": [
    "### Slicing with `.iloc`: specifying entry positions\n",
    "\n",
    "An alternative to specifying the indices in order to slice a dataframe is to specify the entry positions using `.iloc` ('**i**nteger **loc**ation'). You have seen an example of this too. As with `.loc`, `.iloc` can be used to select multiple rows/columns using either lists of positions or a consecutive set with `from:to` syntax."
   ]
  },
  {
   "cell_type": "code",
   "execution_count": 53,
   "metadata": {
    "deletable": false,
    "tags": []
   },
   "outputs": [],
   "source": [
    "# single position\n",
    "baby_names.iloc[2, 3]"
   ]
  },
  {
   "cell_type": "code",
   "execution_count": 54,
   "metadata": {
    "deletable": false,
    "tags": []
   },
   "outputs": [],
   "source": [
    "# a list of positions\n",
    "baby_names.iloc[[2, 3], [3, 4]]"
   ]
  },
  {
   "cell_type": "code",
   "execution_count": 55,
   "metadata": {
    "deletable": false,
    "tags": []
   },
   "outputs": [],
   "source": [
    "# consecutive positions\n",
    "baby_names.iloc[2:11, 2:5]"
   ]
  },
  {
   "attachments": {},
   "cell_type": "markdown",
   "metadata": {
    "deletable": false,
    "tags": []
   },
   "source": [
    "While these commands may look very similar to their `.loc` analogs, there are some subtle but important differences. The row selection looks nearly identical, but recall that `.loc` uses the index and `.iloc` uses the position; they look so similar because typically index and position coincide.\n",
    "\n",
    "However, sorting the `baby_names` dataframe helps to reveal how the *position* of a row is not necessarily equal to the *index* of a row. For example, the first row is not necessarily the row associated with index 1. This distinction is important in understanding the difference between `.loc[]` and `.iloc[]`."
   ]
  },
  {
   "cell_type": "code",
   "execution_count": 56,
   "metadata": {
    "deletable": false,
    "tags": []
   },
   "outputs": [],
   "source": [
    "# sort and display\n",
    "sorted_baby_names = baby_names.sort_values(by=['Name'])\n",
    "sorted_baby_names.head()"
   ]
  },
  {
   "cell_type": "markdown",
   "metadata": {
    "deletable": false,
    "tags": []
   },
   "source": [
    "Here is an example of how we would get the 2nd, 3rd, and 4th rows with only the `Name` column of the `baby_names` dataframe using both `iloc[]` and `loc[]`. Observe the difference, especially after sorting `baby_names` by name."
   ]
  },
  {
   "cell_type": "code",
   "execution_count": 57,
   "metadata": {
    "deletable": false,
    "tags": []
   },
   "outputs": [],
   "source": [
    "# example iloc usage\n",
    "sorted_baby_names.iloc[1:4, 3]"
   ]
  },
  {
   "cell_type": "markdown",
   "metadata": {
    "deletable": false,
    "tags": []
   },
   "source": [
    "Notice that using `loc[]` with 1:4 gives different results, since it selects using the *index*. The *index* gets moved around when you perform an operation like `sort` on the dataframe."
   ]
  },
  {
   "cell_type": "code",
   "execution_count": 58,
   "metadata": {
    "deletable": false,
    "tags": []
   },
   "outputs": [],
   "source": [
    "# same syntax, different result\n",
    "sorted_baby_names.loc[1:4, \"Name\"]"
   ]
  },
  {
   "cell_type": "markdown",
   "metadata": {
    "deletable": false,
    "tags": []
   },
   "source": [
    "Above, the `.loc` method retrieves all indexes between index 1 and index 4 *in the order they appear in the sorted dataset*. If instead we want to retrieve the same rows returned by the `.iloc` command, we need to specify the row indices explicitly as a list:"
   ]
  },
  {
   "cell_type": "code",
   "execution_count": 59,
   "metadata": {
    "deletable": false,
    "tags": []
   },
   "outputs": [],
   "source": [
    "# retrieve the same rows as iloc using loc\n",
    "sorted_baby_names.loc[[178791, 163914, 171112], 'Name']"
   ]
  },
  {
   "attachments": {},
   "cell_type": "markdown",
   "metadata": {
    "deletable": false,
    "tags": []
   },
   "source": [
    "Sometimes it's useful for slicing (and other operations) to set one of the columns to be a row index, effectively treating one column as a collection of row labels. This can be accomplished using `set_index`."
   ]
  },
  {
   "cell_type": "code",
   "execution_count": 60,
   "metadata": {
    "deletable": false,
    "tags": []
   },
   "outputs": [],
   "source": [
    "# change the (row) index from 0,1,2,... to the name column\n",
    "baby_names_nameindexed = baby_names.set_index(\"Name\") \n",
    "baby_names_nameindexed.head()"
   ]
  },
  {
   "cell_type": "markdown",
   "metadata": {
    "deletable": false,
    "tags": []
   },
   "source": [
    "We can now slice by name directly:"
   ]
  },
  {
   "cell_type": "code",
   "execution_count": 61,
   "metadata": {
    "deletable": false,
    "tags": []
   },
   "outputs": [],
   "source": [
    "# slice rows for ashley and jennifer\n",
    "baby_names_nameindexed.loc[['Ashley', 'Jennifer'], :]"
   ]
  },
  {
   "attachments": {},
   "cell_type": "markdown",
   "metadata": {
    "deletable": false,
    "editable": false,
    "tags": []
   },
   "source": [
    "### Question 7\n",
    "\n",
    "Look up the name of a friend! Store the name as `friend_name`. Use the name-indexed data frame to slice rows for the name of your choice and the `Count`, `Sex`, and `Year` columns **in that order**, and store the data frame as `friend_slice`.\n",
    "\n",
    "<!--\n",
    "BEGIN QUESTION\n",
    "name: q7\n",
    "points: 1\n",
    "manual: false\n",
    "-->"
   ]
  },
  {
   "cell_type": "code",
   "execution_count": 62,
   "metadata": {
    "deletable": false
   },
   "outputs": [],
   "source": [
    "# if your friend's name is not in the database, use another name\n",
    "\n",
    "friend_name = ...\n",
    "friend_slice = ...\n",
    "\n",
    "#print\n",
    "friend_slice"
   ]
  },
  {
   "cell_type": "code",
   "execution_count": null,
   "metadata": {
    "deletable": false,
    "editable": false
   },
   "outputs": [],
   "source": [
    "grader.check(\"q7\")"
   ]
  },
  {
   "cell_type": "markdown",
   "metadata": {
    "deletable": false,
    "tags": []
   },
   "source": [
    "## Filtering\n",
    "\n",
    "Filtering is sifting out rows according to a criterion, and can be accomplished using an array or series of `True`s and `False`s defined by a comparison. To take a simple example, say you wanted to filter out all names with fewer than 1000 occurrences. First you could define a logical series:"
   ]
  },
  {
   "cell_type": "code",
   "execution_count": 69,
   "metadata": {
    "deletable": false,
    "tags": []
   },
   "outputs": [],
   "source": [
    "# true if filtering criterion is met, false otherwise\n",
    "arr = baby_names.Count > 1000"
   ]
  },
  {
   "cell_type": "markdown",
   "metadata": {
    "deletable": false,
    "tags": []
   },
   "source": [
    "Then you can filter using that array:"
   ]
  },
  {
   "cell_type": "code",
   "execution_count": 70,
   "metadata": {
    "deletable": false,
    "tags": []
   },
   "outputs": [],
   "source": [
    "# filter\n",
    "baby_names_filtered = baby_names[arr]\n",
    "baby_names_filtered.head()"
   ]
  },
  {
   "cell_type": "markdown",
   "metadata": {
    "deletable": false,
    "tags": []
   },
   "source": [
    "Notice that the filtered array is much smaller than the overall array -- only about 2000 rows correspond to a name occurring more than 1000 times in a year for a gender."
   ]
  },
  {
   "cell_type": "code",
   "execution_count": 71,
   "metadata": {
    "deletable": false,
    "tags": []
   },
   "outputs": [],
   "source": [
    "# compare dimensions\n",
    "print(baby_names_filtered.shape)\n",
    "print(baby_names.shape)"
   ]
  },
  {
   "cell_type": "markdown",
   "metadata": {
    "deletable": false,
    "tags": []
   },
   "source": [
    "You have already encountered this concept in lab 0 when subsetting an array. For your reference, some commonly used comparison operators are given below.\n",
    "\n",
    "\n",
    "Symbol | Usage      | Meaning \n",
    "------ | ---------- | -------------------\n",
    "`==`   | `a == b`   | Does a equal b?\n",
    "`<=`   | `a <= b`   | Is a less than or equal to b?\n",
    "`>=`   | `a >= b`   | Is a greater than or equal to b?\n",
    "`<`    | `a < b`    | Is a less than b?\n",
    "`>`    | `a > b`    | Is a greater than b?\n",
    "`~`    | `~p`       | Returns negation of p\n",
    " <code>&#124;</code>    | `p`  <code>&#124;</code> `q` | p OR q\n",
    "`&`    | `p & q`    | p AND q\n",
    "`^`    | `p ^ q` | p XOR q (exclusive or)\n",
    "\n",
    "What if instead you wanted to filter using multiple conditions? Here's an example of retrieving rows with counts exceeding 1000 for only the year 2001:"
   ]
  },
  {
   "cell_type": "code",
   "execution_count": 72,
   "metadata": {
    "deletable": false,
    "tags": []
   },
   "outputs": [],
   "source": [
    "# filter using two conditions\n",
    "baby_names[(baby_names.Year == 2000) & (baby_names.Count > 1000)]"
   ]
  },
  {
   "attachments": {},
   "cell_type": "markdown",
   "metadata": {
    "deletable": false,
    "editable": false,
    "tags": []
   },
   "source": [
    "### Question 8\n",
    "\n",
    "Select the girl names in 2010 that were given more than 3000 times, and store them as `common_girl_names_2010`. \n",
    "\n",
    "*Note:* Any time you use `p & q` to filter the dataframe, make sure to use `df[df[(p) & (q)]]` or `df.loc[df[(p) & (q)]])`. That is, make sure to wrap conditions with parentheses to ensure the intended order of operations.\n",
    "\n",
    "<!--\n",
    "BEGIN QUESTION\n",
    "name: q8\n",
    "points: 1\n",
    "manual: false\n",
    "-->"
   ]
  },
  {
   "cell_type": "code",
   "execution_count": 73,
   "metadata": {
    "deletable": false
   },
   "outputs": [],
   "source": [
    "common_girl_names_2010 = ...\n",
    "\n",
    "common_girl_names_2010"
   ]
  },
  {
   "cell_type": "code",
   "execution_count": null,
   "metadata": {
    "deletable": false,
    "editable": false
   },
   "outputs": [],
   "source": [
    "grader.check(\"q8\")"
   ]
  },
  {
   "attachments": {},
   "cell_type": "markdown",
   "metadata": {
    "deletable": false,
    "tags": []
   },
   "source": [
    "## Grouping and aggregation\n",
    "\n",
    "Grouping and aggregation are useful in generating data summaries, which are often important starting points in exploring a dataset.\n",
    "\n",
    "\n",
    "### Aggregation\n",
    "\n",
    "**Aggregation** literally means 'putting together' (etymologically the word means 'joining the herd') -- in statistics and data science, this refers to data summaries like an average, a minimum, or a measure of spread such as the sample variance or mean absolute deviation (data herding!). From a technical point of view, operations that take multiple values as inputs and return a single output are considered summaries -- in other words, statistics. Some of the most common aggregations are:\n",
    "\n",
    "* sum\n",
    "* product\n",
    "* count\n",
    "* number of distinct values\n",
    "* mean\n",
    "* median\n",
    "* variance\n",
    "* standard deviation\n",
    "* minimum/maximum\n",
    "* quantiles\n",
    "\n",
    "Pandas has built-in dataframe operations that compute most of these summaries across either axis (column-wise or row-wise):\n",
    "\n",
    "* `.sum()`\n",
    "* `.prod()`\n",
    "* `.mean()`\n",
    "* `.median()`\n",
    "* `.var()`\n",
    "* `.std()`\n",
    "* `.nunique()`\n",
    "* `.min()` and `.max()`\n",
    "* `.quantile()`\n",
    "\n",
    "To illustrate these operations, let's filter out all names in 1995."
   ]
  },
  {
   "cell_type": "code",
   "execution_count": 78,
   "metadata": {
    "deletable": false,
    "tags": []
   },
   "outputs": [],
   "source": [
    "# filter 1995 names\n",
    "names_95 = baby_names[baby_names.Year == 1995]"
   ]
  },
  {
   "cell_type": "markdown",
   "metadata": {
    "deletable": false,
    "tags": []
   },
   "source": [
    "How many individuals were counted in total in 1995? We can address that by computing a sum of the counts:"
   ]
  },
  {
   "cell_type": "code",
   "execution_count": 79,
   "metadata": {
    "deletable": false,
    "tags": []
   },
   "outputs": [],
   "source": [
    "# n for 1995\n",
    "names_95.Count.sum()"
   ]
  },
  {
   "cell_type": "markdown",
   "metadata": {
    "deletable": false,
    "tags": []
   },
   "source": [
    "What is the typical frequency of all names in 1995? We can address that by computing the average count: "
   ]
  },
  {
   "cell_type": "code",
   "execution_count": 80,
   "metadata": {
    "deletable": false,
    "tags": []
   },
   "outputs": [],
   "source": [
    "# average count for a name in 1995\n",
    "names_95.Count.mean()"
   ]
  },
  {
   "attachments": {},
   "cell_type": "markdown",
   "metadata": {
    "deletable": false,
    "editable": false,
    "tags": []
   },
   "source": [
    "### Question 9\n",
    "\n",
    "Find how often the most common name 1995 was given and store this as `names_95_max_count`. Use this value to filter `names_95` and find which name was most common that year. Store the filtered dataframe as `names_95_most_common_name`.\n",
    "\n",
    "<!--\n",
    "BEGIN QUESTION\n",
    "name: q9\n",
    "points: 1\n",
    "manual: false\n",
    "-->"
   ]
  },
  {
   "cell_type": "code",
   "execution_count": 81,
   "metadata": {
    "deletable": false,
    "tags": []
   },
   "outputs": [],
   "source": [
    "names_95_max_count = ...\n",
    "names_95_most_common_name = ...\n",
    "\n",
    "\n",
    "print(\"Number of people with the most frequent name in 1995 is :\", names_95_max_count, \"people\")\n",
    "print(\"Most frequent name in 1995 is:\", names_95_most_common_name.values[0])"
   ]
  },
  {
   "cell_type": "code",
   "execution_count": null,
   "metadata": {
    "deletable": false,
    "editable": false
   },
   "outputs": [],
   "source": [
    "grader.check(\"q9\")"
   ]
  },
  {
   "attachments": {},
   "cell_type": "markdown",
   "metadata": {
    "deletable": false,
    "tags": []
   },
   "source": [
    "**Caution!** If applied to the entire dataframe, the operation `df.max()` (or any other aggregation) will return the maximum *of each column*. Notice that the cell below does not return the row you found just now, but could easily be misinterpreted as such. The cell **does** tell you that the maximum value of sex (alphabetically last) is M and the maximum name (alphabetically last) is Zyanya and the maximum count is 5003; it **does not** tell you that 5003 boys were named Zyanya in 1995."
   ]
  },
  {
   "cell_type": "code",
   "execution_count": 86,
   "metadata": {
    "deletable": false,
    "tags": []
   },
   "outputs": [],
   "source": [
    "# maximum of each variable\n",
    "names_95.max()"
   ]
  },
  {
   "attachments": {},
   "cell_type": "markdown",
   "metadata": {
    "deletable": false,
    "tags": []
   },
   "source": [
    "### Grouping\n",
    "\n",
    "What if you want to know the most frequent male and female names? If so, you'll need to repeat the above operations group-wise by sex.\n",
    "\n",
    "In general, any variable in a dataframe can be used to define a grouping structure on the rows (or, less commonly, columns). After grouping, any dataframe operations will be executed within each group, but not across groups. This can be used to generate grouped summaries, such as the maximum count for boys and girls; as a point of terminology, we'd describe this summary as 'maximum count by sex'.\n",
    "\n",
    "The `.groupby()` function defines such a structure; here is the [documentation](https://pandas.pydata.org/docs/reference/api/pandas.DataFrame.groupby.html). The cell below groups the `names_95` dataframe by sex. Notice that when the grouped dataframe is previewed with `.head()`, the first few rows are returned *for each group*."
   ]
  },
  {
   "cell_type": "code",
   "execution_count": 87,
   "metadata": {
    "deletable": false,
    "tags": []
   },
   "outputs": [],
   "source": [
    "# grouped dataframe\n",
    "names_95_bysex = names_95.groupby('Sex')\n",
    "\n",
    "# print\n",
    "names_95_bysex.head(2)"
   ]
  },
  {
   "attachments": {},
   "cell_type": "markdown",
   "metadata": {
    "deletable": false,
    "tags": []
   },
   "source": [
    "Any aggregation operations applied to the grouped dataframe will be applied separately to the rows where `Sex == M` and the rows where `Sex == F`. For example, computing `.sum()` on the grouped dataframe will show the total number of individuals in the data for 1995 *by sex*:"
   ]
  },
  {
   "cell_type": "code",
   "execution_count": 88,
   "metadata": {
    "deletable": false,
    "tags": []
   },
   "outputs": [],
   "source": [
    "# number of individuals by sex\n",
    "names_95_bysex.Count.sum()"
   ]
  },
  {
   "cell_type": "markdown",
   "metadata": {
    "deletable": false,
    "tags": []
   },
   "source": [
    "The most frequent boy and girl names can be found using `.idxmax()` groupwise to obtain the index of the first occurence of the maximum count for each sex, and then slicing with `.loc`:"
   ]
  },
  {
   "cell_type": "code",
   "execution_count": 89,
   "metadata": {
    "deletable": false,
    "tags": []
   },
   "outputs": [],
   "source": [
    "# first most common names by sex\n",
    "names_95.loc[names_95_bysex.Count.idxmax(), :]"
   ]
  },
  {
   "attachments": {},
   "cell_type": "markdown",
   "metadata": {
    "deletable": false,
    "tags": []
   },
   "source": [
    "Since `.idxmax()` gives the index of the *first* occurrence, these are the alphabetically first most common names; there could be ties. You know from your work so far that there are no ties for the male names; another filtering step can be used to check for ties among the female names."
   ]
  },
  {
   "cell_type": "code",
   "execution_count": 90,
   "metadata": {
    "deletable": false,
    "tags": []
   },
   "outputs": [],
   "source": [
    "# ties?\n",
    "names_95[names_95_bysex.Count.max().values[0] == names_95['Count']]"
   ]
  },
  {
   "cell_type": "markdown",
   "metadata": {
    "deletable": false,
    "tags": []
   },
   "source": [
    "So, no ties."
   ]
  },
  {
   "attachments": {},
   "cell_type": "markdown",
   "metadata": {
    "deletable": false,
    "editable": false,
    "tags": []
   },
   "source": [
    "### Question 10\n",
    "\n",
    "Are there more girl names or boy names in 1995? Use the grouped dataframe `names_95_bysex` with the `.count()` aggregation to find the total number of names for each sex. Store the female and male counts as `girl_name_count` and `boy_name_count`, respectfully.\n",
    "\n",
    "\n",
    "<!--\n",
    "BEGIN QUESTION\n",
    "name: q10\n",
    "points: 1\n",
    "manual: false\n",
    "-->"
   ]
  },
  {
   "cell_type": "code",
   "execution_count": 91,
   "metadata": {
    "deletable": false,
    "tags": []
   },
   "outputs": [],
   "source": [
    "girl_name_count = ...\n",
    "boy_name_count = ...\n",
    "\n",
    "#print\n",
    "print(girl_name_count)\n",
    "print(boy_name_count)"
   ]
  },
  {
   "cell_type": "code",
   "execution_count": null,
   "metadata": {
    "deletable": false,
    "editable": false
   },
   "outputs": [],
   "source": [
    "grader.check(\"q10\")"
   ]
  },
  {
   "attachments": {},
   "cell_type": "markdown",
   "metadata": {
    "deletable": false,
    "tags": []
   },
   "source": [
    "### Chaining operations\n",
    "\n",
    "You have already seen examples of this, but pandas and numpy operations can be chained together in sequence. For example, `names_95.Count.max()` is a chain with two steps: first select the `Count` column (`.count`); then compute the maximum (`.max()`). \n",
    "\n",
    "Grouped summaries are often convenient to compute in a chained fashion, rather than by assigning the grouped dataframe a new name and performing operations on the resulting object. For example, finding the total number of boys and girls recorded in the 1995 data can be done with the following chain:"
   ]
  },
  {
   "cell_type": "code",
   "execution_count": 95,
   "metadata": {
    "deletable": false,
    "tags": []
   },
   "outputs": [],
   "source": [
    "# repeating previous calculation, more streamlined\n",
    "names_95.groupby('Sex').Count.sum()"
   ]
  },
  {
   "cell_type": "markdown",
   "metadata": {
    "deletable": false,
    "tags": []
   },
   "source": [
    "We can take this even one step further and also perform the filtering in sequence as part of the chain:"
   ]
  },
  {
   "cell_type": "code",
   "execution_count": 96,
   "metadata": {
    "deletable": false,
    "tags": []
   },
   "outputs": [],
   "source": [
    "# longer chain\n",
    "baby_names[baby_names.Year == 1995].groupby('Sex').Count.sum()"
   ]
  },
  {
   "cell_type": "markdown",
   "metadata": {
    "deletable": false,
    "tags": []
   },
   "source": [
    "Chains can get somewhat long, but they have the advantage of making codes more efficient, and often more readable. We did above in one step what took several lines before. Further, this chain can almost be read aloud:\n",
    "\n",
    "\"Take baby names, filter on year, *then* group by sex, *then* select name counts, *then* compute the sum.\"\n",
    "\n",
    "Let's now consider computing the average counts of boy and girl names for each year 1990-1995. This can be accomplished by the following chain (notice it is possible to group by multiple variables)."
   ]
  },
  {
   "cell_type": "code",
   "execution_count": 97,
   "metadata": {
    "deletable": false,
    "tags": []
   },
   "outputs": [],
   "source": [
    "# average counts by sex and year\n",
    "baby_names[baby_names.Year <= 1995].groupby(['Year', 'Sex']).mean(numeric_only = True)"
   ]
  },
  {
   "cell_type": "markdown",
   "metadata": {
    "deletable": false,
    "tags": []
   },
   "source": [
    "This display is not ideal. We can 'pivot' the table into a wide format by adding a few extra steps in the chain: change the indices to columns; then define a new shape by specifying which column should be the new row index, which should be the new column index, and which values should populate the table."
   ]
  },
  {
   "cell_type": "code",
   "execution_count": 98,
   "metadata": {
    "deletable": false,
    "tags": []
   },
   "outputs": [],
   "source": [
    "# average counts by sex and year\n",
    "baby_names[baby_names.Year <= 1995].groupby(\n",
    "    ['Year', 'Sex']\n",
    "    ).mean(\n",
    "    numeric_only = True\n",
    "    ).reset_index().pivot(\n",
    "    index = 'Sex', columns = 'Year', values = 'Count'\n",
    "    )"
   ]
  },
  {
   "attachments": {},
   "cell_type": "markdown",
   "metadata": {
    "deletable": false,
    "tags": []
   },
   "source": [
    "**Style comment: break long chains over multiple lines with indentation.** The above chain is too long to be readable in one line. To balance the readability of codes with the efficiency of chaining, it is good practice to break long chains over several lines, with appropriate indentations."
   ]
  },
  {
   "cell_type": "markdown",
   "metadata": {
    "deletable": false,
    "tags": []
   },
   "source": [
    "Here are some rules of thumb on style.\n",
    "\n",
    "* Separate comparisons by spaces (`a<b` as `a < b`)\n",
    "* Split chains longer than 30-40 characters over multiple lines\n",
    "* Split lines between delimiters `(`, `)`\n",
    "* Increase indentation for lines between delimiters\n",
    "* For chained operations, try to get each step in the chain shown on a separate line\n",
    "* For functions with multiple arguments, split lines so that each argument is on its own line"
   ]
  },
  {
   "attachments": {},
   "cell_type": "markdown",
   "metadata": {
    "deletable": false,
    "editable": false,
    "tags": []
   },
   "source": [
    "### Question 11\n",
    "\n",
    "Write a chain with appropriate style to display the (first) most common boy and girl names in each of the years 2005-2015. Do this in two steps:\n",
    "\n",
    "1. First filter `baby_names` by year, then group by year and sex, and then find the indices of first occurence of the largest counts. Store these indices as `ind`.\n",
    "2. Then use `.loc[]` with your stored indices to slice `baby_names` so as to retrieve the rows corresponding to each most frequent name each year and for each sex; then pivot this table so that the columns are years, the rows are sexes, and the entries are names. Store this as `pivot_names`.\n",
    "\n",
    "\n",
    "<!--\n",
    "BEGIN QUESTION\n",
    "name: q11\n",
    "points: 1\n",
    "manual: false\n",
    "-->"
   ]
  },
  {
   "cell_type": "code",
   "execution_count": 99,
   "metadata": {
    "deletable": false,
    "tags": []
   },
   "outputs": [],
   "source": [
    "...\n",
    "print(ind)\n",
    "pivot_names"
   ]
  },
  {
   "cell_type": "code",
   "execution_count": null,
   "metadata": {
    "deletable": false,
    "editable": false
   },
   "outputs": [],
   "source": [
    "grader.check(\"q11\")"
   ]
  },
  {
   "cell_type": "markdown",
   "metadata": {},
   "source": [
    "# Submission\n",
    "\n",
    "\n",
    "1. Save the notebook. \n",
    "2. Restart the kernel and run all cells. (**CAUTION**: if your notebook is not saved, you will lose your work.)\n",
    "3. Carefully look through your notebook and verify that all computations execute correctly. You should see **no errors**; if there are any errors, make sure to correct them before you submit the notebook.\n",
    "4. Download the notebook as an `.ipynb` file. This is your backup copy.\n",
    "5. Export the notebook as PDF and upload to Gradescope."
   ]
  },
  {
   "cell_type": "markdown",
   "metadata": {
    "deletable": false,
    "editable": false
   },
   "source": [
    "---\n",
    "\n",
    "To double-check your work, the cell below will rerun all of the autograder tests."
   ]
  },
  {
   "cell_type": "code",
   "execution_count": null,
   "metadata": {
    "deletable": false,
    "editable": false
   },
   "outputs": [],
   "source": [
    "grader.check_all()"
   ]
  }
 ],
 "metadata": {
  "celltoolbar": "Edit Metadata",
  "kernelspec": {
   "display_name": "Python 3",
   "language": "python",
   "name": "python3"
  },
  "language_info": {
   "codemirror_mode": {
    "name": "ipython",
    "version": 3
   },
   "file_extension": ".py",
   "mimetype": "text/x-python",
   "name": "python",
   "nbconvert_exporter": "python",
   "pygments_lexer": "ipython3",
   "version": "3.9.12"
  },
  "toc": {
   "base_numbering": 1,
   "nav_menu": {},
   "number_sections": true,
   "sideBar": true,
   "skip_h1_title": false,
   "title_cell": "Table of Contents",
   "title_sidebar": "Contents",
   "toc_cell": false,
   "toc_position": {},
   "toc_section_display": true,
   "toc_window_display": false
  }
 },
 "nbformat": 4,
 "nbformat_minor": 4
}
