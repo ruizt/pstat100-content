{
 "cells": [
  {
   "cell_type": "code",
   "execution_count": null,
   "metadata": {
    "deletable": false,
    "editable": false
   },
   "outputs": [],
   "source": [
    "# Initialize Otter\n",
    "import otter\n",
    "grader = otter.Notebook(\"hw2-seda.ipynb\")"
   ]
  },
  {
   "cell_type": "code",
   "execution_count": null,
   "metadata": {},
   "outputs": [],
   "source": [
    "import numpy as np\n",
    "import pandas as pd\n",
    "import altair as alt\n",
    "# disable row limit for plotting\n",
    "alt.data_transformers.disable_max_rows()\n",
    "# uncomment to ensure graphics display with pdf export\n",
    "# alt.renderers.enable('mimetype')"
   ]
  },
  {
   "attachments": {},
   "cell_type": "markdown",
   "metadata": {},
   "source": [
    "# Background \n",
    "\n",
    "Gender achievement gaps in education have been well-documented over the years -- studies consistently find boys outperforming girls on math tests and girls outperforming boys on reading and language tests. A particularly controversial [article](https://www.jstor.org/stable/1684489) was published in Science in 1980 arguing that this pattern was due to an 'innate' difference in ability (focusing on mathematics rather than on reading and language). Such views persisted in part because studying systematic patterns in achievement nationwide was a challenge due to differential testing standards across school districts and the general lack of availability of large-scale data.\n",
    "\n",
    "It is only recently that data-driven research has begun to reveal socioeconomic drivers of achievement gaps. The [Standford Educational Data Archive](https://edopportunity.org/) (SEDA), a publicly available database on academic achievement and educational opportunity in U.S. schools, has supported this effort. The database is part of a broader initiave aiming to improve educational opportunity by enabling researchers and policymakers to identify systemic drivers of disparity.\n",
    "\n",
    "> SEDA includes a range of detailed data on educational conditions, contexts, and outcomes in school districts and counties across the United States. It includes measures of academic achievement and achievement gaps for school districts and counties, as well as district-level measures of racial and socioeconomic composition, racial and socioeconomic segregation patterns, and other features of the schooling system.\n",
    "\n",
    "The database standardizes average test scores for schools 10,000 U.S. school districts relative to national standards to allow comparability between school districts and across grade levels and years. The test score data come from the U.S. Department of Education. In addition, multiple data sources (American Community Survey and Common Core of Data) are integrated to provide district-level socioeconomic and demographic information.\n",
    "\n",
    "A [study of the SEDA data published in 2018](https://cepa.stanford.edu/content/gender-achievement-gaps-us-school-districts) identified the following persistent patterns across grade levels 3 - 8 and school ears from 2008 through 2015:\n",
    "* a consistent reading and language achievement gap favoring girls;\n",
    "* *no* national math achievement gap on average; and\n",
    "* local math achievement gaps that depend on the socioeconomic conditions of school districts.\n",
    "You can read about the main findings of the study in this [brief NY Times article](https://www.nytimes.com/interactive/2018/06/13/upshot/boys-girls-math-reading-tests.html).\n",
    "\n",
    "Below, we'll work with selected portions of the database. The full datasets can be downloaded [here](https://edopportunity.org/get-the-data/seda-archive-downloads/).\n",
    "\n",
    "## Assignment objectives\n",
    "\n",
    "In this assignment, you'll explore achievement gaps in California school districts in 2018, reproducing the findings described [in the article above](https://www.nytimes.com/interactive/2018/06/13/upshot/boys-girls-math-reading-tests.html) on a more local scale and with the most recent SEDA data. You'll practice the following:\n",
    "\n",
    "* review of data documentation\n",
    "* assessment of sampling design and scope of inference\n",
    "* data tidying operations\n",
    "    + slicing and filtering\n",
    "    + merging multiple data frames\n",
    "    + pivoting tables\n",
    "    + renaming and reordering variables\n",
    "* constructing exploratory graphics and visualizing trends\n",
    "* data aggregations\n",
    "* narrative summary of exploratory analysis"
   ]
  },
  {
   "attachments": {},
   "cell_type": "markdown",
   "metadata": {},
   "source": [
    "# Import and assessment of datasets\n",
    "\n",
    "You'll work with test data and socioeconomic covariates aggregated to the school district level. These data are stored in two separate tables. Here you'll examine them and review data documentation.\n",
    "\n",
    "## Test score data\n",
    "\n",
    "The first few rows of the test data are shown below. The columns are:\n",
    "\n",
    "Column name | Meaning\n",
    "---|---\n",
    "`sedalea` | District ID\n",
    "`grade` | Grade level\n",
    "`stateabb` | State abbreviation\n",
    "`sedaleaname` | District name\n",
    "`subject` | Test subject\n",
    "`cs_mn_...` | Estimated mean test score\n",
    "`cs_mnse_...` | Standard error for estimated mean test score\n",
    "`totgyb_...` | Number of individual tests used to estimate the mean score"
   ]
  },
  {
   "cell_type": "code",
   "execution_count": null,
   "metadata": {},
   "outputs": [],
   "source": [
    "# import seda data\n",
    "ca_main = pd.read_csv('data/ca-main.csv')\n",
    "ca_cov = pd.read_csv('data/ca-cov.csv')\n",
    "\n",
    "# preview test score data\n",
    "ca_main.head(3)"
   ]
  },
  {
   "cell_type": "markdown",
   "metadata": {},
   "source": [
    "The test score means for each district are named `cs_mn_...` with an abbreviation indicating subgroup (such as mean score for all `cs_mean_all`, for boys `cs_mean_mal`, for white students `cs_mn_wht`, and so on). Notice that these are generally small-ish: decimal numbers between -0.5 and 0.5.\n",
    "\n",
    "These means are *estimated* from a number of individual student tests and *standardized* relative to national averages. They represent the number of standard deviations by which a district mean differs from the national average. So, for instance, the value `cs_mn_all = 0.1` indicates that the district average is estimated to be 0.1 standard deviations greater than the national average on the corresponding test and at the corresponding grade level."
   ]
  },
  {
   "attachments": {},
   "cell_type": "markdown",
   "metadata": {},
   "source": [
    "<!-- BEGIN QUESTION -->\n",
    "\n",
    "### Question 1: Interpreting test score values\n",
    "\n",
    "Interpret the average math test score for all 4th grade students in Acton-Agua Dulce Unified School District (the first row of the dataset shown above).\n"
   ]
  },
  {
   "cell_type": "markdown",
   "metadata": {},
   "source": [
    "_Type your answer here, replacing this text._"
   ]
  },
  {
   "attachments": {},
   "cell_type": "markdown",
   "metadata": {},
   "source": [
    "<!-- END QUESTION -->\n",
    "\n",
    "## Covariate data\n",
    "\n",
    "The first few rows of the covariate data are shown below. The column information is as follows:\n",
    "\n",
    "Column name | Meaning\n",
    "---|---\n",
    "`sedalea` | District ID\n",
    "`grade` | Grade level\n",
    "`sedaleanm` | District name\n",
    "`urban` | Indicator: is the district in an urban locale?\n",
    "`suburb` | Indicator: is the district in a suburban locale?\n",
    "`town` | Indicator: is the district in a town locale?\n",
    "`rural` | Indicator: is the district in a rural locale?\n",
    "`locale` | Description of district locale\n",
    "Remaining variables | Demographic and socioeconomic measures"
   ]
  },
  {
   "cell_type": "code",
   "execution_count": null,
   "metadata": {},
   "outputs": [],
   "source": [
    "ca_cov.head(3)"
   ]
  },
  {
   "cell_type": "markdown",
   "metadata": {},
   "source": [
    "You will only be working with a handful of the demographic and socioeconomic measures, so you can put off getting acquainted with those until selecting a subset of variables."
   ]
  },
  {
   "attachments": {},
   "cell_type": "markdown",
   "metadata": {},
   "source": [
    "<!-- BEGIN QUESTION -->\n",
    "\n",
    "### Question 2: Data semantics\n",
    "\n",
    "In the non-public data, observational units are students -- test scores are measured for each student. However, in the SEDA data you've imported, scores are *aggregated* to the district level by grade. Let's regard estimated test score means for each grade as distinct variables, so that an observation consists in a set of estimated means for different grade levels and groups. In this view, what are the observational units in the test score dataset? Are they the same or different for the covariate dataset?\n"
   ]
  },
  {
   "cell_type": "markdown",
   "metadata": {},
   "source": [
    "_Type your answer here, replacing this text._"
   ]
  },
  {
   "attachments": {},
   "cell_type": "markdown",
   "metadata": {},
   "source": [
    "<!-- END QUESTION -->\n",
    "\n",
    "### Question 3: Sample sizes\n",
    "\n",
    "How many observational units are in each dataset? Count the number of units in the test dataset and the number of units in the covariate dataset separately. Store the values as `ca_cov_units` and `ca_main_units`, respectively. \n",
    "\n",
    "(*Hint*: use `.nunique()`.)\n"
   ]
  },
  {
   "cell_type": "code",
   "execution_count": null,
   "metadata": {
    "tags": []
   },
   "outputs": [],
   "source": [
    "ca_cov_units = ...\n",
    "ca_main_units = ...\n",
    "\n",
    "print('units in covariate data: ', ca_cov_units)\n",
    "print('units in test score data: ', ca_main_units)"
   ]
  },
  {
   "cell_type": "code",
   "execution_count": null,
   "metadata": {
    "deletable": false,
    "editable": false
   },
   "outputs": [],
   "source": [
    "grader.check(\"q3\")"
   ]
  },
  {
   "attachments": {},
   "cell_type": "markdown",
   "metadata": {},
   "source": [
    "<!-- BEGIN QUESTION -->\n",
    "\n",
    "### Question 4: Sample characteristics and scope of inference\n",
    "\n",
    "Answer the questions below about the sampling design in a short paragraph. You do not need to dig through any data documentation in order to resolve these questions.\n",
    "\n",
    "* (i) What is the relevant population for the datasets you've imported?\n",
    "* (ii) About what proportion (to within 0.1) of the population is captured in the sample? (*Hint*: have a look at [this website](https://www.cde.ca.gov/ds/sd/cb/ceffingertipfacts.asp).)\n",
    "* (iii) Considering that the sampling frame is not identified clearly, what kind of dataset do you suspect this is (*e.g.*, administrative, data from a 'typical sample', census, etc.)?  \n",
    "* (iv) In light of your description of the sample characteristics, what is the scope of inference for this dataset?"
   ]
  },
  {
   "cell_type": "markdown",
   "metadata": {},
   "source": [
    "_Type your answer here, replacing this text._"
   ]
  },
  {
   "attachments": {},
   "cell_type": "markdown",
   "metadata": {},
   "source": [
    "<!-- END QUESTION -->\n",
    "\n",
    "# Data tidying\n",
    "\n",
    "Since you've already had some guided practice doing this in previous assignments, you'll be left to fill in a little bit more of the details on your own in this assignment. You'll work with the following variables from each dataset:\n",
    "\n",
    "* **Test score data**\n",
    "    + District ID\n",
    "    + District name\n",
    "    + Grade\n",
    "    + Test subject\n",
    "    + Estimated male-female gap\n",
    "* **Covariate data**\n",
    "    + District ID\n",
    "    + Locale\n",
    "    + Grade\n",
    "    + Socioeconomic status (all demographic groups)\n",
    "    + Log median income (all demographic groups)\n",
    "    + Poverty rate (all demographic groups)\n",
    "    + Unemployment rate (all demographic groups)\n",
    "    + SNAP benefit receipt rate (all demographic groups)"
   ]
  },
  {
   "attachments": {},
   "cell_type": "markdown",
   "metadata": {},
   "source": [
    "### Question 5: Variable names of interest\n",
    "\n",
    "Download the codebooks by opening the 'data' directory from your Jupyter Lab file navigator and downloading the codebook files. Identify the variables listed above, and store the column names in lists named `main_vars` and `cov_vars`. \n"
   ]
  },
  {
   "cell_type": "code",
   "execution_count": null,
   "metadata": {
    "tags": []
   },
   "outputs": [],
   "source": [
    "# store variable names of interest\n",
    "main_vars = ...\n",
    "cov_vars = ..."
   ]
  },
  {
   "cell_type": "code",
   "execution_count": null,
   "metadata": {
    "deletable": false,
    "editable": false
   },
   "outputs": [],
   "source": [
    "grader.check(\"q5\")"
   ]
  },
  {
   "attachments": {},
   "cell_type": "markdown",
   "metadata": {},
   "source": [
    "### Question 6: Slice columns\n",
    "\n",
    "Use your result from above to slice the columns of interest from the covariate and test score data. Store the resulting data frames as `main_sub` and `cov_sub` (for 'subset')."
   ]
  },
  {
   "cell_type": "code",
   "execution_count": null,
   "metadata": {
    "tags": []
   },
   "outputs": [],
   "source": [
    "# slice columns to select variables of interest\n",
    "main_sub = ...\n",
    "cov_sub = ..."
   ]
  },
  {
   "cell_type": "code",
   "execution_count": null,
   "metadata": {
    "deletable": false,
    "editable": false
   },
   "outputs": [],
   "source": [
    "grader.check(\"q6\")"
   ]
  },
  {
   "cell_type": "markdown",
   "metadata": {},
   "source": [
    "In the next step you'll merge the covariate data with the test score data. In order to do this, you can use the `pd.merge(A, B, how = ..., on = SHARED_COLS)` function, which will match the rows of `A` and `B` based on the shared columns `SHARED_COLS`. If `how = 'left'`, then only rows in `A` will be retained in the output (so `B` will be merged *to* `A`); conversely, if `how = 'right'`, then only rows in `B` will be retained in the output (so `A` will be merged *to* `B`).\n",
    "\n",
    "A simple example of the use of `pd.merge` is illustrated below:"
   ]
  },
  {
   "cell_type": "code",
   "execution_count": null,
   "metadata": {},
   "outputs": [],
   "source": [
    "# toy data frames\n",
    "A = pd.DataFrame(\n",
    "    {'shared_col': ['a', 'b', 'c'], \n",
    "    'x1': [1, 2, 3], \n",
    "    'x2': [4, 5, 6]}\n",
    ")\n",
    "\n",
    "B = pd.DataFrame(\n",
    "    {'shared_col': ['a', 'b'], \n",
    "    'y1': [7, 8]}\n",
    ")"
   ]
  },
  {
   "cell_type": "code",
   "execution_count": null,
   "metadata": {},
   "outputs": [],
   "source": [
    "A"
   ]
  },
  {
   "cell_type": "code",
   "execution_count": null,
   "metadata": {},
   "outputs": [],
   "source": [
    "B"
   ]
  },
  {
   "cell_type": "markdown",
   "metadata": {},
   "source": [
    "Below, if `A` and `B` are merged retaining the rows in `A`, notice that a missing value is input because `B` has no row where the shared column (on which the merging is done) has value `c`. In other words, the third row of `A` has no match in `B`."
   ]
  },
  {
   "cell_type": "code",
   "execution_count": null,
   "metadata": {},
   "outputs": [],
   "source": [
    "# left join\n",
    "pd.merge(A, B, how = 'left', on = 'shared_col')"
   ]
  },
  {
   "cell_type": "markdown",
   "metadata": {},
   "source": [
    "If the direction of merging is reversed, and the row structure of `B` is dominant, then the third row of `A` is dropped altogether because it has no match in `B`."
   ]
  },
  {
   "cell_type": "code",
   "execution_count": null,
   "metadata": {},
   "outputs": [],
   "source": [
    "# right join\n",
    "pd.merge(A, B, how = 'right', on = 'shared_col')"
   ]
  },
  {
   "attachments": {},
   "cell_type": "markdown",
   "metadata": {},
   "source": [
    "### Question 7: Merge\n",
    "\n",
    "Merge the covariate and test score data on both the ***district ID*** and ***grade level*** columns, and retain only the columns from the test score data (meaning, merge the covariate data *to* the test score data). Store the resulting data frame as `rawdata` and print the first four rows. "
   ]
  },
  {
   "cell_type": "code",
   "execution_count": null,
   "metadata": {
    "tags": []
   },
   "outputs": [],
   "source": [
    "# merge covariates with gap data\n",
    "rawdata = ...\n",
    "\n",
    "# print first four rows\n",
    "..."
   ]
  },
  {
   "cell_type": "code",
   "execution_count": null,
   "metadata": {
    "deletable": false,
    "editable": false
   },
   "outputs": [],
   "source": [
    "grader.check(\"q7\")"
   ]
  },
  {
   "attachments": {},
   "cell_type": "markdown",
   "metadata": {},
   "source": [
    "### Question 8: Rename and reorder columns\n",
    "\n",
    "Now rename and rearrange the columns of `rawdata` so that they appear in the following order and with the following names:\n",
    "\n",
    "* District ID, District, Locale, log(Median income), Poverty rate, Unemployment rate, SNAP rate, Socioeconomic index, Grade, Subject, Gender gap \n",
    "\n",
    "Store the resulting data frame as `rawdata_mod1` and print the first four rows.\n",
    "\n",
    "(*Hint*: first define a dictionary to map the old names to the new ones; then create a list of the new names specified in the desired order; then use `.rename()` and `.loc[]`. You can follow the renaming steps in HW1 as an example if needed.)\n"
   ]
  },
  {
   "cell_type": "code",
   "execution_count": null,
   "metadata": {
    "tags": []
   },
   "outputs": [],
   "source": [
    "# define dictionary mapping for renaming columns\n",
    "...\n",
    "\n",
    "# specify order of columns\n",
    "...\n",
    "\n",
    "# rename and reorder\n",
    "...\n",
    "\n",
    "# print first four rows\n",
    "..."
   ]
  },
  {
   "cell_type": "code",
   "execution_count": null,
   "metadata": {
    "deletable": false,
    "editable": false
   },
   "outputs": [],
   "source": [
    "grader.check(\"q8\")"
   ]
  },
  {
   "attachments": {},
   "cell_type": "markdown",
   "metadata": {},
   "source": [
    "### Question 9: Pivot\n",
    "\n",
    "Notice that the Gender gap column contains the values of two variables: the gap in estimated mean test scores for math tests, and the gap in estimated mean test scores for reading and language tests. To put the data in tidy format, use `.pivot` and `.rename()` to pivot the table so that the gender gap column is spread into two columns named `Math gap` and `Reading gap`. Store the result as `seda_data` and print the first four rows.\n",
    "\n",
    "*Hint*: to avoid unweildy column indexing, make sure you specify a `values = ...` argument when using `.pivot()`. Doing so will result in the column index being named `Subject`; remove this name in your solution.\n",
    "\n",
    "*Aside*: an alternative solution is to manipulate the indices and use `.unstack()`, but this method will produce a dataframe with hierarchical column indexing (you'll see) in which `Subject` is retained as a lower-level index; this will need to be collapsed in order to rename the columns as instructed using `MultiIndex.droplevel()` or similar."
   ]
  },
  {
   "cell_type": "code",
   "execution_count": null,
   "metadata": {
    "tags": []
   },
   "outputs": [],
   "source": [
    "# pivot to unstack gender gap (fixing tidy issue: multiple variables in one column)\n",
    "...\n",
    "\n",
    "# print first four rows\n",
    "..."
   ]
  },
  {
   "cell_type": "code",
   "execution_count": null,
   "metadata": {
    "deletable": false,
    "editable": false
   },
   "outputs": [],
   "source": [
    "grader.check(\"q9\")"
   ]
  },
  {
   "cell_type": "markdown",
   "metadata": {},
   "source": [
    "Your final dataset should match the dataframe below. You can use this to check your answer and revise any portions above that lead to different results."
   ]
  },
  {
   "cell_type": "code",
   "execution_count": null,
   "metadata": {},
   "outputs": [],
   "source": [
    "# intended result\n",
    "data_reference = pd.read_csv('data/tidy-seda-check.csv')\n",
    "data_reference"
   ]
  },
  {
   "attachments": {},
   "cell_type": "markdown",
   "metadata": {},
   "source": [
    "### Question 10: Sanity check\n",
    "\n",
    "Ensure that your tidying did not inadvertently drop any observations: count the number of units in `seda_data`. Does this match the number of units represented in the original test score data `ca_main`? Store these values as `data_units` and `ca_main_units`, respectively.\n",
    "\n",
    "(*Hint*: use `.nunique()`.)\n"
   ]
  },
  {
   "cell_type": "code",
   "execution_count": null,
   "metadata": {
    "tags": []
   },
   "outputs": [],
   "source": [
    "# number of districts in tidied data compared with raw\n",
    "data_units = ...\n",
    "ca_main_units = ..."
   ]
  },
  {
   "cell_type": "code",
   "execution_count": null,
   "metadata": {
    "deletable": false,
    "editable": false
   },
   "outputs": [],
   "source": [
    "grader.check(\"q10\")"
   ]
  },
  {
   "attachments": {},
   "cell_type": "markdown",
   "metadata": {},
   "source": [
    "### Question 11: Missing values\n",
    "\n",
    "Gap estimates were not calculated for certain grades in certain districts due to small sample sizes (not enough individual tests recorded). Answer the following:\n",
    "\n",
    "* (i) What proportion of rows are missing for each of the reading and math gap variables? Store these values as `math_missing` and `reading_missing`, respectively. \n",
    "\n",
    "* (ii) What proportion of *districts* (not rows!) have missing gap estimates for one or both test subjects for at least one grade level?Store the value as `district_missing`.\n"
   ]
  },
  {
   "cell_type": "code",
   "execution_count": null,
   "metadata": {
    "tags": []
   },
   "outputs": [],
   "source": [
    "# proportion of missing values\n",
    "math_missing, reading_missing = ...\n",
    "# proportion of districts with missing values\n",
    "\n",
    "..."
   ]
  },
  {
   "cell_type": "code",
   "execution_count": null,
   "metadata": {
    "deletable": false,
    "editable": false
   },
   "outputs": [],
   "source": [
    "grader.check(\"q11\")"
   ]
  },
  {
   "attachments": {},
   "cell_type": "markdown",
   "metadata": {},
   "source": [
    "<!-- BEGIN QUESTION -->\n",
    "\n",
    "### Question 12: Missing mechanism\n",
    "\n",
    "Do you expect that this missingness is more likely for some districts than for others? If so, explain; why is this, and is bias a concern if missing values are dropped?"
   ]
  },
  {
   "cell_type": "markdown",
   "metadata": {},
   "source": [
    "_Type your answer here, replacing this text._"
   ]
  },
  {
   "attachments": {},
   "cell_type": "markdown",
   "metadata": {},
   "source": [
    "<!-- END QUESTION -->\n",
    "\n",
    "# Exploratory graphics\n",
    "\n",
    "For the purpose of visualizing the relationship between estimated gender gaps and socioeconomic variables, you'll find it more helpful to store a non-tidy version of the data. The cell below rearranges the dataset so that one column contains an estimated gap, one column contains the value of a socioeconomic variable, and the remaining columns record the gap type and variable identity. \n",
    "\n",
    "Ensure that your results above match the reference dataset before running this cell."
   ]
  },
  {
   "cell_type": "code",
   "execution_count": null,
   "metadata": {},
   "outputs": [],
   "source": [
    "# format data for plotting\n",
    "plot_df = seda_data.melt(\n",
    "    id_vars = name_order[0:9],\n",
    "    value_vars = ['Math gap', 'Reading gap'],\n",
    "    var_name = 'Gap type',\n",
    "    value_name = 'Gap'\n",
    ").melt(\n",
    "    id_vars = ['District ID', 'District', 'Locale', 'Gap type', 'Gap', 'Grade'],\n",
    "    value_vars = name_order[3:8],\n",
    "    var_name = 'Socioeconomic variable',\n",
    "    value_name = 'Measure'\n",
    ")\n",
    "\n",
    "# preview\n",
    "plot_df.head()"
   ]
  },
  {
   "attachments": {},
   "cell_type": "markdown",
   "metadata": {},
   "source": [
    "## Gender gaps and socioeconomic factors\n",
    "\n",
    "The cell below generates a panel of scatterplots showing the relationship between estimated gender gap and socioeconomic factors for all grade levels by test subject. The plot suggests that the reading gap favors girls consistently across the socioeconomic spectrum -- in a typical district girls seem to outperform boys by 0.25 standard deviations of the national average. By contrast, the math gap appears to depend on socioeconomic factors -- boys only seem to outperform girls under *better* socioeconomic conditions.  "
   ]
  },
  {
   "cell_type": "code",
   "execution_count": null,
   "metadata": {},
   "outputs": [],
   "source": [
    "# plot gap against socioeconomic variables by subject for all grades\n",
    "fig1 = alt.Chart(plot_df).mark_circle(opacity = 0.1).encode(\n",
    "    y = 'Gap',\n",
    "    x = alt.X('Measure', scale = alt.Scale(zero = False), title = ''),\n",
    "    color = 'Gap type'\n",
    ").properties(\n",
    "    width = 100,\n",
    "    height = 100\n",
    ").facet(\n",
    "    column = alt.Column('Socioeconomic variable')\n",
    ").resolve_scale(x = 'independent')\n",
    "\n",
    "fig1"
   ]
  },
  {
   "attachments": {},
   "cell_type": "markdown",
   "metadata": {},
   "source": [
    "<!-- BEGIN QUESTION -->\n",
    "\n",
    "### Question 13: Relationships by grade level\n",
    "\n",
    "Does the pattern shown in the plot above persist within each grade level? Modify the plot above to show these relationships by grade level: generate a panel of scatterplots of gap against socioeconomic measures by subject, where each column of the panel corresponds to one socioeconomic variable and each row corresponds to one grade level; the result should by a 5x5 panel. Resize the width and height of each facet so that the panel is of reasonable size. Keep a fixed axis scale for the variable of interest, but allow the axis scales for socioeconomic variables to vary independently. Store the plot as `fig2`; display the figure and provide an answer to the question of interest in the text cell.\n",
    "\n",
    "(*Hint*: you may find it useful to have a look at the [altair documentation on compound charts](https://altair-viz.github.io/user_guide/compound_charts.html), and lab 3, for examples to follow.)"
   ]
  },
  {
   "cell_type": "markdown",
   "metadata": {},
   "source": [
    "_Type your answer here, replacing this text._"
   ]
  },
  {
   "cell_type": "code",
   "execution_count": null,
   "metadata": {
    "tags": []
   },
   "outputs": [],
   "source": [
    "# plotting codes here\n",
    "...\n",
    "\n",
    "# display\n",
    "..."
   ]
  },
  {
   "attachments": {},
   "cell_type": "markdown",
   "metadata": {},
   "source": [
    "<!-- END QUESTION -->\n",
    "\n",
    "<!-- BEGIN QUESTION -->\n",
    "\n",
    "\n",
    "### Question 14: Association with grade level\n",
    "\n",
    "Do gaps shift across grade levels? It's not so easy to tell from the last figure. Construct a 2x5 panel of scatterplots showing estimated achievement gap against each of the 5 socioeconomic variables, with one row per test subject. Display grade level using a color gradient. Store the plot as `fig3`; display the figure and answer the question of interest in a short sentence or two in the text cell provided."
   ]
  },
  {
   "cell_type": "markdown",
   "metadata": {},
   "source": [
    "_Type your answer here, replacing this text._"
   ]
  },
  {
   "cell_type": "code",
   "execution_count": null,
   "metadata": {
    "tags": []
   },
   "outputs": [],
   "source": [
    "# plotting codes here\n",
    "...\n",
    "\n",
    "# display\n",
    "..."
   ]
  },
  {
   "attachments": {},
   "cell_type": "markdown",
   "metadata": {},
   "source": [
    "<!-- END QUESTION -->\n",
    "\n",
    "While the magnitude of the achievement gaps seems to depend very slightly on grade level (figure 3), the form of relationship between achievement gap and socioeconomic factors does not differ from grade to grade (figure 2). \n",
    "\n",
    "Given that the relationships between achievement gaps and socioeconomic factors don't change drastically across grade levels, it is reasonable to look at the average relationship between estimated achievement gap and median income after aggregating across grade. "
   ]
  },
  {
   "attachments": {},
   "cell_type": "markdown",
   "metadata": {},
   "source": [
    "### Question 15: Aggregation across grade levels\n",
    "\n",
    "Compute the mean estimated achievement gap in each subject across grade levels by district using `District ID` and retain the district-level socioeconomic variables. Store the resulting data frame as `seda_data_agg`. \n",
    "\n",
    "*Note*: best practice here would be to aggregate just the test scores by district and then re-merge the result with the district-level socioeconomic variables. However, since the district-level socioeconomic variables do not differ by grade within a district, averaging them across grade levels by district together with the test scores will simply return their unique values; so the aggregation can be applied across *all* columns for a fast-and-loose way to obtain the desired result."
   ]
  },
  {
   "cell_type": "code",
   "execution_count": null,
   "metadata": {
    "tags": []
   },
   "outputs": [],
   "source": [
    "# aggregate across grades\n",
    "...\n",
    "\n",
    "# print first few rows\n",
    "..."
   ]
  },
  {
   "cell_type": "code",
   "execution_count": null,
   "metadata": {
    "deletable": false,
    "editable": false
   },
   "outputs": [],
   "source": [
    "grader.check(\"q15\")"
   ]
  },
  {
   "attachments": {},
   "cell_type": "markdown",
   "metadata": {},
   "source": [
    "### Question 16: Melt aggregated data for plotting\n",
    "\n",
    "Similar to working with the disaggregated data, it will be helpful for plotting to melt the two gap variables into a single column. Follow the example above at the beginning of this section to melt *only the test score gap columns* (not the district-level variables -- we will not create scatterplot panels as before). Name the new columns `Subject` and `Average estimated gap`; store the resulting data frame as `agg_plot_df` and print the first four rows."
   ]
  },
  {
   "cell_type": "code",
   "execution_count": null,
   "metadata": {
    "tags": []
   },
   "outputs": [],
   "source": [
    "# format for plotting\n",
    "...\n",
    "\n",
    "# print four rows\n",
    "..."
   ]
  },
  {
   "cell_type": "code",
   "execution_count": null,
   "metadata": {
    "deletable": false,
    "editable": false
   },
   "outputs": [],
   "source": [
    "grader.check(\"q16\")"
   ]
  },
  {
   "attachments": {},
   "cell_type": "markdown",
   "metadata": {},
   "source": [
    "<!-- BEGIN QUESTION -->\n",
    "\n",
    "### Question 17: District average gaps\n",
    "\n",
    "Construct a scatterplot of the average estimated gap against log(Median income) by subject for each district and add trend lines (see lab 4). Store the plot as `fig4`. Describe and interpret the plot in a few sentences.\n"
   ]
  },
  {
   "cell_type": "markdown",
   "metadata": {},
   "source": [
    "_Type your answer here, replacing this text._"
   ]
  },
  {
   "cell_type": "code",
   "execution_count": null,
   "metadata": {
    "tags": []
   },
   "outputs": [],
   "source": [
    "# scatterplot\n",
    "...\n",
    "\n",
    "# trend line\n",
    "trend = ...\n",
    "\n",
    "# combine layers\n",
    "fig4 = ...\n",
    "\n",
    "# display\n",
    "..."
   ]
  },
  {
   "cell_type": "markdown",
   "metadata": {},
   "source": [
    "<!-- END QUESTION -->\n",
    "\n",
    "Now let's try to capture this pattern in *tabular* form. The cell below adds an `Income bracket` variable by cutting the median income into 8 contiguous intervals using `pd.cut()`, and tabulates the average socioeconomic measures and estimated gaps across districts by income bracket. Notice that with respect to the gaps, this displays the pattern that is shown visually in the figures above. "
   ]
  },
  {
   "cell_type": "code",
   "execution_count": null,
   "metadata": {},
   "outputs": [],
   "source": [
    "seda_data_agg['Income bracket'] = pd.cut(np.e**seda_data_agg['log(Median income)'], 8)\n",
    "seda_data_agg.groupby('Income bracket').mean().drop(columns = ['District ID', 'log(Median income)'])"
   ]
  },
  {
   "attachments": {},
   "cell_type": "markdown",
   "metadata": {},
   "source": [
    "### Question 18: Proportion of districts with a math gap\n",
    "\n",
    "What proportion of districts in each income bracket have an average estimated math achievement gap favoring boys? Answer this question by performing the following steps:\n",
    "\n",
    "* Append an indicator variable `Math gap favoring boys` to `seda_data_agg` that records whether the average estimated math gap favors boys by more than 0.1 standard deviations relative to the national average.\n",
    "* Compute the proportion of districts in each income bracket for which the indicator is true: group by bracket and take the mean. Store this as `income_bracket_boys_favored`\n"
   ]
  },
  {
   "cell_type": "code",
   "execution_count": null,
   "metadata": {
    "tags": []
   },
   "outputs": [],
   "source": [
    "# define indicator\n",
    "seda_data_agg['Math gap favoring boys'] = ...\n",
    "\n",
    "# proportion of districts with gap favoring boys, by income bracket\n",
    "...\n",
    "\n",
    "# print result\n",
    "..."
   ]
  },
  {
   "cell_type": "code",
   "execution_count": null,
   "metadata": {
    "deletable": false,
    "editable": false
   },
   "outputs": [],
   "source": [
    "grader.check(\"q18\")"
   ]
  },
  {
   "attachments": {},
   "cell_type": "markdown",
   "metadata": {},
   "source": [
    "### Question 19: Statewide averages\n",
    "\n",
    "To wrap up the exploration, calculate a few statewide averages to get a sense of how some of the patterns above compare with the state as a whole.\n",
    "\n",
    "* (i) Compute the statewide average estimated achievement gaps. Store the result as `state_avg`.\n",
    "* (ii) Compute the proportion of districts in the state with a math gap favoring boys. Store this result as `math_boys_proportion`\n",
    "* (iii)  Compute the proportion of districts in the state with a math gap favoring girls. You will need to define a new indicator within `seda_data_agg` to perform this calculation.\n"
   ]
  },
  {
   "cell_type": "code",
   "execution_count": null,
   "metadata": {
    "tags": []
   },
   "outputs": [],
   "source": [
    "# statewide average\n",
    "state_avg = ...\n",
    "\n",
    "# proportion of districts in the state with a math gap favoring boys\n",
    "math_boys_proportion = ...\n",
    "\n",
    "# proportion of districts in the state with a math gap favoring girls\n",
    "seda_data_agg['Math gap favoring girls'] = ...\n",
    "math_girls_proportion = ..."
   ]
  },
  {
   "cell_type": "code",
   "execution_count": null,
   "metadata": {
    "deletable": false,
    "editable": false
   },
   "outputs": [],
   "source": [
    "grader.check(\"q19\")"
   ]
  },
  {
   "attachments": {},
   "cell_type": "markdown",
   "metadata": {},
   "source": [
    "# Communicating results\n",
    "\n",
    "Take a moment to review and reflect on your findings and consider what you have learned from the analysis."
   ]
  },
  {
   "attachments": {},
   "cell_type": "markdown",
   "metadata": {},
   "source": [
    "<!-- BEGIN QUESTION -->\n",
    "\n",
    "### Question 20: Summary\n",
    "\n",
    "Write a brief summary of your exploratory analysis. What have you discovered about educational achievement gaps in California school districts? Aim to answer in 3-5 sentences or less.\n"
   ]
  },
  {
   "cell_type": "markdown",
   "metadata": {},
   "source": [
    "_Type your answer here, replacing this text._"
   ]
  },
  {
   "cell_type": "markdown",
   "metadata": {},
   "source": [
    "<!-- END QUESTION -->\n",
    "\n",
    "# Submission\n",
    "\n",
    "\n",
    "1. Save the notebook. \n",
    "2. Restart the kernel and run all cells. (**CAUTION**: if your notebook is not saved, you will lose your work.)\n",
    "3. Carefully look through your notebook and verify that all computations execute correctly. You should see **no errors**; if there are any errors, make sure to correct them before you submit the notebook.\n",
    "4. Download the notebook as an `.ipynb` file. This is your backup copy.\n",
    "5. Export the notebook as PDF and upload to Gradescope."
   ]
  },
  {
   "cell_type": "code",
   "execution_count": null,
   "metadata": {
    "deletable": false,
    "editable": false
   },
   "outputs": [],
   "source": [
    "grader.check_all()"
   ]
  }
 ],
 "metadata": {
  "kernelspec": {
   "display_name": "Python 3",
   "language": "python",
   "name": "python3"
  },
  "language_info": {
   "codemirror_mode": {
    "name": "ipython",
    "version": 3
   },
   "file_extension": ".py",
   "mimetype": "text/x-python",
   "name": "python",
   "nbconvert_exporter": "python",
   "pygments_lexer": "ipython3",
   "version": "3.9.12"
  },
  "otter": {
   "OK_FORMAT": true,
   "tests": {
    "q10": {
     "name": "q10",
     "points": 1,
     "suites": [
      {
       "cases": [
        {
         "code": ">>> # they should be equal\n>>> data_units == ca_main_units\nTrue",
         "hidden": false,
         "locked": false
        }
       ],
       "scored": true,
       "setup": "",
       "teardown": "",
       "type": "doctest"
      }
     ]
    },
    "q11": {
     "name": "q11",
     "points": 1,
     "suites": [
      {
       "cases": [
        {
         "code": ">>> # the proportion of missing district math scores is within this interval\n>>> 0 < math_missing < 0.5\nTrue",
         "hidden": false,
         "locked": false
        },
        {
         "code": ">>> # the proportion of missing district reading scores is within this interval\n>>> 0 < reading_missing < 0.5\nTrue",
         "hidden": false,
         "locked": false
        },
        {
         "code": ">>> # the proportion of districts with at least one missing score is within this interval\n>>> 0.5 < district_missing < 0.6\nTrue",
         "hidden": false,
         "locked": false
        }
       ],
       "scored": true,
       "setup": "",
       "teardown": "",
       "type": "doctest"
      }
     ]
    },
    "q15": {
     "name": "q15",
     "points": 1,
     "suites": [
      {
       "cases": [
        {
         "code": ">>> # district-level variables shouldn't change\n>>> (seda_data_agg.set_index('District ID').loc[600001, 'log(Median income)'] == seda_data.set_index('District ID').loc[600001, 'log(Median income)'].unique()).all()\nTrue",
         "hidden": false,
         "locked": false
        },
        {
         "code": ">>> # should obtain one row per district\n>>> seda_data['District ID'].nunique() == seda_data_agg.shape[0]\nTrue",
         "hidden": false,
         "locked": false
        },
        {
         "code": ">>> # check one entry\n>>> (seda_data.set_index('District ID').loc[619800, 'Math gap':'Reading gap'].mean().values.round(6) == seda_data_agg.set_index('District ID').loc[[619800], 'Math gap':'Reading gap'].values.round(6)).all()\nTrue",
         "hidden": false,
         "locked": false
        }
       ],
       "scored": true,
       "setup": "",
       "teardown": "",
       "type": "doctest"
      }
     ]
    },
    "q16": {
     "name": "q16",
     "points": 1,
     "suites": [
      {
       "cases": [
        {
         "code": ">>> # number of rows should double\n>>> agg_plot_df.shape[0] == 2*seda_data_agg.shape[0]\nTrue",
         "hidden": false,
         "locked": false
        },
        {
         "code": ">>> # check columns\n>>> (np.sort(agg_plot_df.columns) == np.sort(['District ID', 'log(Median income)', 'Poverty rate', \n...                         'Unemployment rate', 'SNAP rate', 'Socioeconomic index', 'Subject',\n...                         'Average estimated gap'])).all()\nTrue",
         "hidden": false,
         "locked": false
        }
       ],
       "scored": true,
       "setup": "",
       "teardown": "",
       "type": "doctest"
      }
     ]
    },
    "q18": {
     "name": "q18",
     "points": 1,
     "suites": [
      {
       "cases": [
        {
         "code": ">>> # the number of columns for data_agg has increased\n>>> seda_data_agg.shape[1] > 9\nTrue",
         "hidden": false,
         "locked": false
        },
        {
         "code": ">>> # the new column added is a boolean that indicates whether the math gap favors boys for that district and income bracket\n>>> seda_data_agg[\"Math gap favoring boys\"].dtype == \"bool\"\nTrue",
         "hidden": false,
         "locked": false
        },
        {
         "code": ">>> # the number of rows (income bracket levels) is 8 and the number of columns is 2\n>>> income_bracket_boys_favored.shape == (8,2)\nTrue",
         "hidden": false,
         "locked": false
        }
       ],
       "scored": true,
       "setup": "",
       "teardown": "",
       "type": "doctest"
      }
     ]
    },
    "q19": {
     "name": "q19",
     "points": 1,
     "suites": [
      {
       "cases": [
        {
         "code": ">>> # will be subset by Reading Gap and Math Gap\n>>> state_avg.shape == (2,)\nTrue",
         "hidden": false,
         "locked": false
        },
        {
         "code": ">>> # average shows that girls do better\n>>> -0.5 < state_avg[\"Reading gap\"] < 0\nTrue",
         "hidden": false,
         "locked": false
        },
        {
         "code": ">>> # average shows that girls do better\n>>> -0.1 < state_avg[\"Math gap\"] < 0\nTrue",
         "hidden": false,
         "locked": false
        },
        {
         "code": ">>> # the proportion of districts that favors boys is within this interval\n>>> 0 < math_boys_proportion < 0.1\nTrue",
         "hidden": false,
         "locked": false
        },
        {
         "code": ">>> # the proportion of districts that favors girls is within this interval\n>>> 0.1 < math_girls_proportion < 0.2\nTrue",
         "hidden": false,
         "locked": false
        }
       ],
       "scored": true,
       "setup": "",
       "teardown": "",
       "type": "doctest"
      }
     ]
    },
    "q3": {
     "name": "q3",
     "points": 1,
     "suites": [
      {
       "cases": [
        {
         "code": ">>> # number of districts provided are between 900 and 1000\n>>> 900 < ca_cov_units < 1000\nTrue",
         "hidden": false,
         "locked": false
        },
        {
         "code": ">>> # number of districts provided are between 800 and 900\n>>> 800 < ca_main_units < 900\nTrue",
         "hidden": false,
         "locked": false
        }
       ],
       "scored": true,
       "setup": "",
       "teardown": "",
       "type": "doctest"
      }
     ]
    },
    "q5": {
     "name": "q5",
     "points": 1,
     "suites": [
      {
       "cases": [
        {
         "code": ">>> # checking that the district ID is in both lists\n>>> (\"sedalea\" in main_vars) and (\"sedalea\" in cov_vars) \nTrue",
         "hidden": false,
         "locked": false
        },
        {
         "code": ">>> # number of variables found for the test score data is 5\n>>> len(main_vars) == 5\nTrue",
         "hidden": false,
         "locked": false
        },
        {
         "code": ">>> # number of variables found for the covariate score data is 5\n>>> len(cov_vars) == 8\nTrue",
         "hidden": false,
         "locked": false
        }
       ],
       "scored": true,
       "setup": "",
       "teardown": "",
       "type": "doctest"
      }
     ]
    },
    "q6": {
     "name": "q6",
     "points": 1,
     "suites": [
      {
       "cases": [
        {
         "code": ">>> # checking that we are using the variable lists created before to subset ca_main\n>>> (main_sub.columns == main_vars).all() \nTrue",
         "hidden": false,
         "locked": false
        },
        {
         "code": ">>> # the number of columns should be the number of variables found for test score data\n>>> main_sub.shape == (7513,5)\nTrue",
         "hidden": false,
         "locked": false
        },
        {
         "code": ">>> # checking that we are using the variable lists created before to subset ca_cov\n>>> (cov_sub.columns == cov_vars).all() \nTrue",
         "hidden": false,
         "locked": false
        },
        {
         "code": ">>> # the number of columns should be the number of variables found for covariate score data\n>>> cov_sub.shape == (4340,8)\nTrue",
         "hidden": false,
         "locked": false
        }
       ],
       "scored": true,
       "setup": "",
       "teardown": "",
       "type": "doctest"
      }
     ]
    },
    "q7": {
     "name": "q7",
     "points": 1,
     "suites": [
      {
       "cases": [
        {
         "code": ">>> # number of rows of the rawdata dataframe after merging the two dataframes is equivalent to the number of rows of the main dataframe\n>>> rawdata.shape[0] == main_sub.shape[0]\nTrue",
         "hidden": false,
         "locked": false
        },
        {
         "code": ">>> # columns of rawdata is the union of the columns of both of the merged dataframes\n>>> rawdata.shape[0] == main_sub.shape[0] \nTrue",
         "hidden": false,
         "locked": false
        }
       ],
       "scored": true,
       "setup": "",
       "teardown": "",
       "type": "doctest"
      }
     ]
    },
    "q8": {
     "name": "q8",
     "points": 1,
     "suites": [
      {
       "cases": [
        {
         "code": ">>> (rawdata_mod1.columns == ['District ID', 'District', 'Locale', 'log(Median income)', 'Poverty rate', 'Unemployment rate', 'SNAP rate', 'Socioeconomic index', 'Grade', 'Subject', 'Gender gap']).all()\nTrue",
         "hidden": false,
         "locked": false
        },
        {
         "code": ">>> # number of rows is the same as rawdata; only difference should be the labeling and order of columns\n>>> rawdata_mod1.shape[0] == 7513\nTrue",
         "hidden": false,
         "locked": false
        },
        {
         "code": ">>> # number of columns of rawdata_mod1 should be the same as rawdata\n>>> rawdata_mod1.shape[1] == 11\nTrue",
         "hidden": false,
         "locked": false
        }
       ],
       "scored": true,
       "setup": "",
       "teardown": "",
       "type": "doctest"
      }
     ]
    },
    "q9": {
     "name": "q9",
     "points": 1,
     "suites": [
      {
       "cases": [
        {
         "code": ">>> # number of columns isn't changing\n>>> seda_data.shape[1] == 11\nTrue",
         "hidden": false,
         "locked": false
        },
        {
         "code": ">>> # seda_data has replaced these columns, so they don't exist\n>>> (\"Subject\" not in seda_data.columns) and (\"Gender Gap\" not in seda_data.columns)\nTrue",
         "hidden": false,
         "locked": false
        },
        {
         "code": ">>> # Reading gap and Math gap should be columns in the dataframe\n>>> (\"Reading gap\" in seda_data.columns) and (\"Math gap\" in seda_data.columns)\nTrue",
         "hidden": false,
         "locked": false
        },
        {
         "code": ">>> # row index should be unnamed\n>>> seda_data.columns.name == None\nTrue",
         "hidden": false,
         "locked": false
        }
       ],
       "scored": true,
       "setup": "",
       "teardown": "",
       "type": "doctest"
      }
     ]
    }
   }
  }
 },
 "nbformat": 4,
 "nbformat_minor": 4
}
