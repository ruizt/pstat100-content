{
 "cells": [
  {
   "cell_type": "markdown",
   "metadata": {},
   "source": [
    "# UCSB DS100 FINAL PROJECT\n",
    "\n",
    "## Due Date:  June 11, midnight"
   ]
  },
  {
   "cell_type": "markdown",
   "metadata": {},
   "source": [
    "<span style=\"color:red\">Carefully read and follow <b>all guidelines</b> provided below.</span>"
   ]
  },
  {
   "cell_type": "markdown",
   "metadata": {},
   "source": [
    "## About the Project\n",
    "The final project is an opportunity to put all that you have learned in this course. Think of this project as a step towards building your portfolio that showcases your work, skills, and interests. \n",
    "\n",
    "The following two resources provide helpful guidelines for how to approach the project and structure your write-up:\n",
    "* *A Data Science Project Style Guide from Dataquest*: https://www.dataquest.io/blog/data-science-project-style-guide/\n",
    "* *Building a data science portfolio: Storytelling with data*: https://www.dataquest.io/blog/data-science-portfolio-project/\n",
    "\n",
    "Your task is to conduct a start-to-finish analysis of a real dataset. This will require many of the skills we have learned over the quarter: from manipulating data, exploratory analysis and dimension reduction, translating scientific questions into models and algorithms, basic regression and classification, and carefully crafted visualizations.  You should present your results in a clear and concise manner. \n",
    "\n",
    "You should submit the following files: \n",
    "1. your completed writeup as a PDF (note the page limit listed below)\n",
    "1. a complete jupyter notebook with all of your analyses\n",
    "1. all data files necessary to run your notebook (note the file type and size limit listed below)\n",
    "\n",
    "You can work individually or in a pair."
   ]
  },
  {
   "cell_type": "markdown",
   "metadata": {},
   "source": [
    "<span style=\"color:red\">\n",
    "    <h1> PROJECT TITLE GOES HERE </h1>\n",
    "</span>"
   ]
  },
  {
   "cell_type": "markdown",
   "metadata": {},
   "source": [
    "<span style=\"color:blue\">\n",
    "<h2> Names: Partner 1 and Partner 2 </h2>\n",
    "</span>"
   ]
  },
  {
   "cell_type": "markdown",
   "metadata": {},
   "source": [
    "## Dataset, Questions of Interest, and Exploratory Analysis\n",
    "\n",
    "We have provided a handful of vetted datasets that might make for interesting projects: you can find the links and descriptions in the [datasets.md](./datasets.md) file, provided in this directory (you can use [this link](https://github.com/ucsb-ds/ds100-s20-content/blob/master/final-project/datasets.md) if you have trouble opening it). \n",
    "Use this list as a starting point. If you can find additional data related to your project, you should feel free to use it, **making sure to cite and link to the source of the data**. \n",
    "\n",
    "Look over these datasets and decide which one is most interesting to you (and your project partner). Identify some relevant preliminary questions to pursue with this dataset.\n",
    "\n",
    "You can use your own dataset, making sure that there are no obvious ethical issues with this dataset or with your usage of it. \n",
    "\n",
    "**IMPORTANT**: When selecting the dataset, make sure that **the total file size does not exceed 500Mb**. The dataset's file type should be an xsl/xslx, csv, or json format; do not use sql or Pickle files.\n",
    "\n",
    "Before starting data analysis, answer the following questions:\n",
    "\n",
    "* Are there missing values in the dataset? How do you know?\n",
    "* Are there any missing values that were filled in? \n",
    "* Which parts of the data were entered by a human? Are there any other potential sources of error?\n",
    "* What are the ethical considerations regarding this dataset?\n",
    "\n",
    "Take a look at the Quartz \"bad data guide\" for a more complete list of checks: https://github.com/Quartz/bad-data-guide"
   ]
  },
  {
   "cell_type": "markdown",
   "metadata": {},
   "source": [
    "## The Final Project Report Structure\n",
    "\n",
    "Each group submits **one** report -- if you are working in a pair, **make sure to add your partner to your group on Gradescope**.\n",
    "\n",
    "The maximum page limit (_excluding_ the title page and appendices) for the project report is **8 pages**. The report should be prepared using 11pt or 12pt font size with 1-inch margins, on US letter paper. **Do not simply convert your analysis notebook into a PDF**: format your report as you would a scientific paper/report. We recommend (but don't require) using [Overleaf](https://www.overleaf.com/) makes it easy to create well-formatted documents, which make cross-referencing faster than doing with, for example, with Google Docs.\n",
    "\n",
    "The final project report must be structured as follows:\n",
    "\n",
    "**1. Title Page:**\n",
    "\n",
    "Must include the title of your project, and the names of the group members. \n",
    "\n",
    "**2. Abstract (100 words or more):**\n",
    "\n",
    "One paragraph that briefly summarizes the problem you addressed, questions of interest, the data, the techniques used, findings and key results, and conclusions. \n",
    "\n",
    "**3. Introduction (200 words or more):**\n",
    "\n",
    "In this section you should describe \n",
    "1. the primary goal(s) or question(s) that your project addresses,\n",
    "1. the motivation for your project, i.e., why your readers should be interested,\n",
    "1. the relevant background of your topic, including a brief literature review (a paragraph with 1-3 references) describing any prior related work. \n",
    "1. the dataset you are using to answer your question. You should address why this data is appropriate for answering your question. \n",
    "\n",
    "\n",
    "**4. Questions of Interest:**\n",
    "\n",
    "State clearly and concisely your questions of interest.\n",
    "\n",
    "**5. Data and Methods:**\n",
    "* **Data.** Cite and state the source of your data. (Is there a license that tells others how to use and attribute the authors?) \n",
    "* *Briefly* describe the relevant variables that you will use in your project. \n",
    "    * Did you do any preprocessing or transformations on the original variables? \n",
    "    * Are there missing data, and if so, what values are missing?  \n",
    "* Discuss which \"**principles of measurement**\" might be particularly relevant to your questions (distortion, relevance, precision, cost).  \n",
    "\n",
    "* Think about the **ethical considerations** behind the dataset.\n",
    "    + Who collected this dataset and why?\n",
    "    + Can the analysis of this dataset cause any harm to those represented in the dataset? To others?\n",
    "    + Who or what is represented in the data? Is someone or something over-represented? Who or what is not represented in the data?\n",
    "    + Are there other potential ethical issues?\n",
    "\n",
    "\n",
    "* **Methods.** For each question of interest, state how you will attempt to answer that question. There is no need to describe the mathematical or statistical details of the methods.\n",
    "* **Exploratory Analysis.** Exploratory plots of the data and numerical summaries are essential in beginning any analysis. At this stage, scatterplots, added variable plots, box-plots, etc. can give you a sense of relationships that exist between relevant variables. \n",
    "    * Will transformations be needed/useful for any of these variables? \n",
    "    * Can you use dimension reduction (PCA or an alternative) to identify interesting patterns? \n",
    "    * Are outliers and/or measurement error a concern? \n",
    "    * You should comment on your findings, particularly if there are interesting or counterintuitive observations to be made.\n",
    "* What **inferential or predictive methods / models** are you using (linear regression, classification methods, etc).  Consider using the `statsmodels` and `scikit-learn` libraries.\n",
    "* You are free to use methods not discussed in this class if you are comfortable doing so but **you should clearly state the purpose of the method, what it does and how it fits into the ideas we've discussed in class** (e.g., exploratory, dimension reduction, regression, classification, visualization, etc).\n"
   ]
  },
  {
   "cell_type": "markdown",
   "metadata": {},
   "source": [
    "**6. Analysis, Results and Interpretation**\n",
    "\n",
    "In separate subsections, you should answer each of your questions of interest. Your narrative should include:\n",
    "\n",
    "* Important Details of the Analysis. Perform the analysis -- depending on the questions you want to answer, this might include various items from the following list: \n",
    "     \n",
    "    * Assumptions:\n",
    "         * Were your assumptions plausible? Why?\n",
    "         * Are there outliers? Missing values?\n",
    "\n",
    "    * Interpretation:\n",
    "         * What do your results mean for the questions you were trying to answer?\n",
    "             * What  were  two  or  three  of  the  most  interesting  features  you  came  across? Describe  the  process  of  finding  those  features.\n",
    "             * Describe  one  feature  you  thought  would  be useful, but turned out to be ineffective.\n",
    "\n",
    "* Relevant plots **in Altair** with proper title, variable names, axis labels, legends, etc. must be included within the body of the text. \n",
    "    + All visualizations should make a clear point and/or tell a story.\n",
    "    + Plots should not be too small or too large. \n",
    "    + Make sure to number all figures and tables (e.g., Figure 1, Table 1)  and include informative captions. \n",
    "    + **All** figures/tables should be references within the text.\n",
    "\n",
    "* After conducting the analysis, you should give concrete (i.e. data-specific), accurate and complete interpretations of your results. These interpretations should involve a mix of  terminology, variable names, and appropriate scientific units.\n",
    "\n",
    "* Discuss any ethical issues surrounding your data or analysis (1-2 paragraphs).  \n",
    "    * What effects (positive/negative) could your results have? \n",
    "    * Who is it likely to affect? \n",
    "    * How is it likely to affect them? \n",
    "    \n",
    "    \n",
    "**7. Conclusions and Future Work (about 200 words)**\n",
    "\n",
    "In this section you should summarize your findings based on your final model in clearly understandable, non-statistical terms. What is the main message produced by your analysis? There may also be additional questions that arise, problems you encounter, or possible extensions of your analysis that could be addressed here. \n",
    "\n",
    "Include any final comments and thoughts about your project. For example, do you trust your results? How general are your results, to what situations do they apply? Add any other comments that are relevant."
   ]
  },
  {
   "cell_type": "markdown",
   "metadata": {},
   "source": [
    "## Overall Grading Criteria\n",
    "\n",
    "Your grade on the project will be based on the following criteria:\n",
    "\n",
    "**1. Compatibility of Scientific Question and Analysis**\n",
    "\n",
    "Is the scientific question being addressed actually of interest, and were suitable tools employed?\n",
    "\n",
    "**2. Coherent Thought Process and Presentation of Results**\n",
    "\n",
    "* Does the analysis indicate a sound understanding of methods discussed in class? This is often best judged by the preliminary comments on the questions of interest as well as the conclusions made after the analysis. \n",
    "* Is the analysis presented in a clear, consistent, coherent style with the appropriately labeled requested components and visualizations?\n",
    "* Does the conclusion clearly follow from the presented analysis?\n",
    "\n",
    "**3. Scope of the analysis and methods used**\n",
    "\n",
    "Did the analysis demonstrate a wide understanding of methodology and ideas presented throughout the course? \n",
    "\n",
    "**4. Reproducible results**\n",
    "\n",
    "Is it possible to reproduce the analysis and the visuals by executing the provided code? We will run your notebook to confirm that your visuals and results are reproducible."
   ]
  },
  {
   "cell_type": "markdown",
   "metadata": {},
   "source": [
    "# Final Project Rubric\n",
    "\n",
    "- **Title page (1 pt)**\n",
    "  + A separate page with the names of the authors and an informative project title.\n",
    "\n",
    "\n",
    "- **Abstract (5 pts)**\n",
    "  + One paragraph that briefly summarizes the problem you addressed, questions of interest, the data, the techniques used, findings and key results, and conclusions. \n",
    "\n",
    "\n",
    "- **Introduction (20 pts)**\n",
    " + **(10 pts)** Clearly introduce the primary goal(s) or question(s) that your project addresses, and the motivation for your project.\n",
    " + **(5 pts)** Include a brief literature review (a paragraph with 1-3 references) describing any prior related work. What is the relevant background readers need to understand your project? \n",
    " + **(5 pts)** Briefly describe the dataset you are using to answer your question. You should address why this data is appropriate for answering your question. \n",
    "\n",
    "\n",
    "- **Data (25 pts)**\n",
    "  + **(10 pts)** Where did the data come from? Are you using additional data to augment the original that we provided? What are the relevant \"principles of measurement\"?\n",
    "  + **(5 pts)** Ethical Considerations. What concerns do you have about the data?\n",
    "  + **(10 pts)** Describe the relevant variables in the dataset. \n",
    "      * Did you do any preprocessing or transformations on the original variables? \n",
    "      * Are there missing data, and if so, what values are missing?  \n",
    "\n",
    "\n",
    "- **Methods (15 pts)**\n",
    "  + What methods did you use for your analysis? Why do you think they help you answer your question(s)? \n",
    "  \n",
    "  \n",
    "- **Results (30 pts)**\n",
    "  + **(15 pts)** Visualizations, tables and figures\n",
    "      * are clear (not be too small or too large), readable, well-labeled, and appropriate; \n",
    "      * make a clear point and/or tell a story; \n",
    "      * are numbered (e.g., Figure 1, Table 1) and have an informative short caption;\n",
    "      * are **clearly referred to and described** in the paper. \n",
    "      * Charts are created using Altair.\n",
    "  + **(15 pts)** Appropriate interpretation of the results (e.g., correct interpretation of PCA, regression, etc).  Results are put into context.  What are the set of conclusions that could be drawn from your results?\n",
    "  \n",
    "  \n",
    "- **Discussion (10 pts)**\n",
    "  + Did you achieve your goal? If not, why? What were some challenges and lessons you learned from them? \n",
    "  + What were your primary conclusions and how do your results support these conclusions? \n",
    "  + What extensions or future work would you recommend? \n",
    "  \n",
    "  \n",
    "- **Miscellaneous (15 pts)**\n",
    "  + **(5 pts)** General coherence, clarity, sufficient referencing and overall effort. \n",
    "  + **(5 pts)** Include references for **any and all resources** used for your project: data sources, software tools used, books, journal papers, online resources, etc.  _Failure to cite your references can be grounds for an academic integrity violation case._ Make sure that you read and follow the policies regarding Academic Integrity: https://studentconduct.sa.ucsb.edu/academic-integrity. The Office of Student Conduct lists actions considered to be plagiarism, cheating, or other forms of academic theft, and students’ responsibilities. You are required to read the policies and to abide by them.\n",
    "  + **(5 pts)** Python notebook runs without errors.  _More points can be deducted if the notebook is missing, if there is a lack of evidence of sufficient work, or if the results presented in the report cannot be reproduced using the notebook._"
   ]
  },
  {
   "cell_type": "markdown",
   "metadata": {},
   "source": [
    "## Submission\n",
    "\n",
    "You are required to submit the following files to Gradescope:\n",
    "\n",
    "1. Submit your completed writeup as a PDF.  You should address all of the components described above, adhering to the page limit, and include any figures and tables that are necessary. (Make sure to number figures and tables and include informative captions and are referenced within the text.)\n",
    "\n",
    "2.  Submit a complete jupyter notebook with all of your analyses.  (You can use this jupyter notebook as a template: remove the instructions, replacing them with your analysis).  **We should be able to reproduce _all_ your results and visualizations by running your notebook.**\n",
    "\n",
    "3. Include all data files necessary to run your notebook (ensuring that the files are in the correct file type and are below the requested file size limit).\n",
    "\n",
    "Before you submit the notebook, make sure that you save it and then select from the top menu `Kernel -> Restart & Clear Output` followed by `Cell -> Run All`. Verify that all computations execute correctly. **There should be no errors when we run your notebook.**"
   ]
  },
  {
   "cell_type": "markdown",
   "metadata": {},
   "source": [
    "<span style=\"color:red\">Carefully read and follow <b>all guidelines</b> provided above.</span>"
   ]
  },
  {
   "cell_type": "code",
   "execution_count": null,
   "metadata": {},
   "outputs": [],
   "source": []
  }
 ],
 "metadata": {
  "kernelspec": {
   "display_name": "Python 3",
   "language": "python",
   "name": "python3"
  },
  "language_info": {
   "codemirror_mode": {
    "name": "ipython",
    "version": 3
   },
   "file_extension": ".py",
   "mimetype": "text/x-python",
   "name": "python",
   "nbconvert_exporter": "python",
   "pygments_lexer": "ipython3",
   "version": "3.8.5"
  }
 },
 "nbformat": 4,
 "nbformat_minor": 4
}
