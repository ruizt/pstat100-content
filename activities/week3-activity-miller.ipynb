{
 "cells": [
  {
   "attachments": {},
   "cell_type": "markdown",
   "metadata": {},
   "source": [
    "## In class activity\n",
    "\n",
    "This notebook details the voter survey simulation presented in lecture as part of the Miller case study. Recall that the point of the simulation is to show that, under some assumptions about the sampling design and missing data mechanism, a strongly biased result is expected even when the actual rate of erroneous/fraudulent mail ballot requests is very low.\n",
    "\n",
    "For this activity you'll get to tinker with the simulation settings to better understand the example and the factors that might impact bias in the results."
   ]
  },
  {
   "cell_type": "code",
   "execution_count": 1,
   "metadata": {},
   "outputs": [],
   "source": [
    "import numpy as np\n",
    "import pandas as pd"
   ]
  },
  {
   "attachments": {},
   "cell_type": "markdown",
   "metadata": {},
   "source": [
    "The cell below simulates a hypothetical population of 150,000 voters who were issued mail ballots according to state records.\n",
    "\n",
    "The quantity `true_prop` is the population parameter we will ultimately estimate; this parameter is the proportion of the voters who were issued mail ballots according to state records but who did not request mail ballots. For these voters, either the mail ballots were issued erroneously *or* they were fraudulently requested. In context, a large estimate for this quantity is suggestive of some irregularities pertaining to the mail-in vote.\n",
    "\n",
    "Below this parameter of interest is set at $0.5\\%$.\n",
    "\n",
    "Based on `true_prop`, an indicator is assigned to each voter that is a 1 if the voter requested the mail ballot and a 0 otherwise; for simplicity, all zeroes are added to the top $N\\times$`true_prop` rows and the remaining rows are assigned ones."
   ]
  },
  {
   "cell_type": "code",
   "execution_count": 2,
   "metadata": {},
   "outputs": [],
   "source": [
    "# for reproducibility\n",
    "np.random.seed(41021)\n",
    "\n",
    "# proportion of fraud/error\n",
    "true_prop = 0.005\n",
    "\n",
    "# generate population of voters\n",
    "N = 150000\n",
    "population = pd.DataFrame(data = {'requested': np.ones(N)})\n",
    "\n",
    "# add a label indicating whether the voter requested a mail ballot\n",
    "num_nrequest = round(N*true_prop) - 1\n",
    "population.iloc[0:num_nrequest, 0] = 0"
   ]
  },
  {
   "attachments": {},
   "cell_type": "markdown",
   "metadata": {},
   "source": [
    "## Simulating sampling mechanisms\n",
    "\n",
    "The cell below assigns sampling weights that represent the probability a voter in the population answers the phone and agrees to an interview. \n",
    "\n",
    "The weights can be thought of as expected conditional response rates -- the probabilities that (a) a voter is interviewed given they did request a mail ballot and (b) a voter is interviewed given that they did *not* request a mail ballot.\n",
    "\n",
    "The assumption figuring in the weight calculation is that voters who did not request mail ballots are more likely to agree to an interview. This would naturally occur if the interviewer is not careful about the interview request and discloses immediately that they are investigating irregularities in mail ballot requests -- those who didn't experience any irregularities are much more likely to hang up or decline.\n",
    "\n",
    "Currently, it is assumed that voters who did not request ballots are 10 times more likely to talk than those who did. This factor is stored as `talk_factor`. The overall response rate is set at $5\\%$ and stored as `p_talk`. The weight calculation proceeds using the law of total probability:\n",
    "\n",
    "$$\n",
    "P(T) = P(T|R)\\left(P(R) + \\underbrace{\\frac{P(T|NR)}{P(T|R)}}_{\\text{talk factor}}P(NR)\\right)\n",
    "$$\n",
    "\n",
    "Rearrangement yields an expression for $P(T|R)$ in terms of the request rates, overall response rate, and talking factor."
   ]
  },
  {
   "cell_type": "code",
   "execution_count": 3,
   "metadata": {},
   "outputs": [
    {
     "name": "stdout",
     "output_type": "stream",
     "text": [
      "rate for requesters:  0.04784688995215312\n",
      "rate for non-requesters:  0.47846889952153115\n"
     ]
    }
   ],
   "source": [
    "# probability that a randomly chosen voter requested a mail ballot\n",
    "p_request = 1 - true_prop\n",
    "\n",
    "# probability that a randomly chosen voter did not request a mail ballot\n",
    "p_nrequest = true_prop\n",
    "\n",
    "# assume respondents who did not request are more likely to talk by this factor\n",
    "talk_factor = 10\n",
    "\n",
    "# overall response rate\n",
    "p_talk = 0.05\n",
    "\n",
    "# conditional response rates \n",
    "p_talk_request = p_talk/(p_request + talk_factor*p_nrequest) \n",
    "p_talk_nrequest = talk_factor*p_talk_request\n",
    "\n",
    "# print\n",
    "print('rate for requesters: ', p_talk_request)\n",
    "print('rate for non-requesters: ', p_talk_nrequest)"
   ]
  },
  {
   "attachments": {},
   "cell_type": "markdown",
   "metadata": {},
   "source": [
    "If you like, feel free to adjust the overall response rate and talking factor to values that interest you empirically. The question to ask to determine these values is:\n",
    "\n",
    "> *If I assume the response rate is $x$ and that those who did not request mail ballots are $y$ times more likely to talk, how much bias will that induce for the estimated proportion of erroneous/fraudulent requests?*\n",
    "\n",
    "Choose values for $x$ and $y$ for which you'd like to know the answer. Make sure the conditional rates are valid probabilities. The cell below will draw a sample for your specifications."
   ]
  },
  {
   "cell_type": "code",
   "execution_count": 4,
   "metadata": {},
   "outputs": [],
   "source": [
    "# sample size\n",
    "n = 2500\n",
    "\n",
    "# draw sample weighted by conditional probabilities\n",
    "np.random.seed(41923)\n",
    "population.loc[population.requested == 1, 'sample_weight'] = p_talk_request\n",
    "population.loc[population.requested == 0, 'sample_weight'] = p_talk_nrequest\n",
    "samp = population.sample(n = n, replace = False, weights = 'sample_weight')"
   ]
  },
  {
   "attachments": {},
   "cell_type": "markdown",
   "metadata": {},
   "source": [
    "The cell below returns the estimated proportion of erroneous/fraudulent requests and the error associated with this estimate."
   ]
  },
  {
   "cell_type": "code",
   "execution_count": 5,
   "metadata": {},
   "outputs": [
    {
     "name": "stdout",
     "output_type": "stream",
     "text": [
      "estimated fraudulent/erroneous requests:  0.04400000000000004\n",
      "true value:  0.005\n",
      "estimation error:  0.03900000000000004\n"
     ]
    }
   ],
   "source": [
    "\n",
    "print('estimated fraudulent/erroneous requests: ', 1 - samp.requested.mean())\n",
    "print('true value: ', true_prop)\n",
    "print('estimation error: ', 1 - samp.requested.mean() - true_prop)"
   ]
  },
  {
   "attachments": {},
   "cell_type": "markdown",
   "metadata": {},
   "source": [
    "Extrapolating this estimate to a raw vote count among the population yields the following:"
   ]
  },
  {
   "cell_type": "code",
   "execution_count": 6,
   "metadata": {},
   "outputs": [
    {
     "name": "stdout",
     "output_type": "stream",
     "text": [
      "estimated fraudulent/erroneous requests:  6600.0\n",
      "true value:  750.0\n",
      "estimation error:  5850.0\n"
     ]
    }
   ],
   "source": [
    "\n",
    "print('estimated fraudulent/erroneous requests: ', \n",
    "      np.round(N*(1 - samp.requested.mean())))\n",
    "print('true value: ', N*true_prop)\n",
    "print('estimation error: ', \n",
    "      np.round(N*(1 - samp.requested.mean() - true_prop)))"
   ]
  },
  {
   "attachments": {},
   "cell_type": "markdown",
   "metadata": {},
   "source": [
    "The bias -- average error across samples -- can be estimated by repeating this sampling scheme many times. The cell below computes estimates for `nsim` simulated samples."
   ]
  },
  {
   "cell_type": "code",
   "execution_count": 7,
   "metadata": {},
   "outputs": [],
   "source": [
    "# for reproducibility\n",
    "np.random.seed(41923)\n",
    "\n",
    "# number of simulated samples\n",
    "nsim = 1000\n",
    "\n",
    "# storage for the estimates from each sample\n",
    "estimates = np.zeros(nsim)\n",
    "\n",
    "# for each simulation ...\n",
    "for i in range(0, nsim):\n",
    "    # draw a sample and compute the estimated proportion\n",
    "    estimates[i] = population.sample(n = n, \n",
    "                                 replace = False, \n",
    "                                 weights = 'sample_weight'\n",
    "                                 ).requested.mean()"
   ]
  },
  {
   "attachments": {},
   "cell_type": "markdown",
   "metadata": {},
   "source": [
    "The average error for this sampling design is given below."
   ]
  },
  {
   "cell_type": "code",
   "execution_count": 8,
   "metadata": {},
   "outputs": [
    {
     "name": "stdout",
     "output_type": "stream",
     "text": [
      "average estimate:  0.04465079999999999\n",
      "standard deviation of estimates:  0.0037278169697558933\n",
      "truth:  0.005\n",
      "bias (proportion):  0.0396508\n",
      "bias (count):  5947.62\n"
     ]
    }
   ],
   "source": [
    "print('average estimate: ', np.mean((1 - estimates)))\n",
    "print('standard deviation of estimates: ', np.std(estimates))\n",
    "print('truth: ', true_prop)\n",
    "print('bias (proportion): ', np.mean((1 - estimates) - true_prop))\n",
    "print('bias (count): ', np.mean(N*((1 - estimates) - true_prop)))"
   ]
  },
  {
   "attachments": {},
   "cell_type": "markdown",
   "metadata": {},
   "source": [
    "### Activity 1: tinker with the sampling mechanism\n",
    "\n",
    "Take note of these results or make a duplicate of the cell and re-run it so that you have a copy for later reference. Now go back and adjust the settings. Repeat the simulation and compare changes.\n",
    "\n",
    "Some questions you could explore are:\n",
    "\n",
    "* how does increasing the overall response rate impact the bias?\n",
    "* does sample size matter?\n",
    "* what response rate(s) and talking factor(s) would produce estimates of 10% or more? "
   ]
  },
  {
   "attachments": {},
   "cell_type": "markdown",
   "metadata": {},
   "source": [
    "## Simulating missingness\n",
    "\n",
    "Some interviews were terminated early because the respondent hung up or declined to proceed. We can think of these instances as missing values.\n",
    "\n",
    "The cell below creates missingness probabilities under the assumption that those who did request mail ballots are more likely to terminate interviews than those who did not. The calculation is exactly the same as that used to figure sampling weights."
   ]
  },
  {
   "cell_type": "code",
   "execution_count": 9,
   "metadata": {},
   "outputs": [
    {
     "name": "stdout",
     "output_type": "stream",
     "text": [
      "missing rate for requesters:  0.502302218501465\n",
      "missing rate for nonrequesters:  0.04185851820845542\n"
     ]
    }
   ],
   "source": [
    "# assume requesters are more likely to terminate early by this factor\n",
    "missing_factor = 12\n",
    "\n",
    "# overall observed missing rate\n",
    "p_missing = 0.5\n",
    "\n",
    "# proportions of requesters/nonrequesters in sample\n",
    "p_request_samp = samp.requested.mean()\n",
    "p_nrequest_samp = 1 - p_request_samp\n",
    "\n",
    "# conditional probabilities of missing given request status\n",
    "p_missing_nrequest = p_missing/(p_nrequest + missing_factor*p_request) \n",
    "p_missing_request = missing_factor*p_missing_nrequest\n",
    "\n",
    "print('missing rate for requesters: ', p_missing_request)\n",
    "print('missing rate for nonrequesters: ', p_missing_nrequest)"
   ]
  },
  {
   "attachments": {},
   "cell_type": "markdown",
   "metadata": {},
   "source": [
    "The following cell inputs missing values at random according to the missingness mechanism specified above."
   ]
  },
  {
   "cell_type": "code",
   "execution_count": 10,
   "metadata": {},
   "outputs": [],
   "source": [
    "# append missingness probabilities\n",
    "samp.loc[samp.requested == 1, 'missing_weight'] = p_missing_request\n",
    "samp.loc[samp.requested == 0, 'missing_weight'] = p_missing_nrequest\n",
    "\n",
    "# make a copy of the sample\n",
    "samp_incomplete = samp.copy()\n",
    "\n",
    "# input missing values at random\n",
    "np.random.seed(41923)\n",
    "samp_incomplete['missing'] = np.random.binomial(n = 1, p = samp_incomplete.missing_weight.values)\n",
    "samp_incomplete.loc[samp_incomplete.missing == 1, 'requested'] = float('nan')"
   ]
  },
  {
   "attachments": {},
   "cell_type": "markdown",
   "metadata": {},
   "source": [
    "Finally, ignoring these missing responses yields the estimate below of the proportion of erroneous/fraudulent ballot requests."
   ]
  },
  {
   "cell_type": "code",
   "execution_count": 11,
   "metadata": {},
   "outputs": [
    {
     "name": "stdout",
     "output_type": "stream",
     "text": [
      "estimated fraudulent/erroneous requests:  0.08307453416149069\n",
      "true value:  0.005\n",
      "estimation error:  0.07807453416149068\n"
     ]
    }
   ],
   "source": [
    "\n",
    "print('estimated fraudulent/erroneous requests: ', \n",
    "      1 - samp_incomplete.requested.mean())\n",
    "print('true value: ', true_prop)\n",
    "print('estimation error: ', \n",
    "      1 - samp_incomplete.requested.mean() - true_prop)"
   ]
  },
  {
   "attachments": {},
   "cell_type": "markdown",
   "metadata": {},
   "source": [
    "Extrapolating this estimate to raw vote counts among the population yields the following:"
   ]
  },
  {
   "cell_type": "code",
   "execution_count": 12,
   "metadata": {},
   "outputs": [
    {
     "name": "stdout",
     "output_type": "stream",
     "text": [
      "estimated fraudulent/erroneous requests:  12461.0\n",
      "true value:  750.0\n",
      "estimation error:  11711.0\n"
     ]
    }
   ],
   "source": [
    "\n",
    "print('estimated fraudulent/erroneous requests: ', \n",
    "      np.round(N*(1 - samp_incomplete.requested.mean())))\n",
    "print('true value: ', N*true_prop)\n",
    "print('estimation error: ', \n",
    "      np.round(N*(1 - samp_incomplete.requested.mean() - true_prop)))"
   ]
  },
  {
   "attachments": {},
   "cell_type": "markdown",
   "metadata": {},
   "source": [
    "Repeating the entire experiment -- sampling from the population and then introducing missing values -- many times will allow for an assessment of the additional bias due to missingness."
   ]
  },
  {
   "cell_type": "code",
   "execution_count": 13,
   "metadata": {},
   "outputs": [],
   "source": [
    "# for reproducibility\n",
    "np.random.seed(41923)\n",
    "\n",
    "# number of simulated samples\n",
    "nsim = 1000\n",
    "\n",
    "# storage for estimates\n",
    "estimates = np.zeros([1000, 2])\n",
    "\n",
    "# for each simulation\n",
    "for i in range(0, nsim):\n",
    "    # draw sample from population\n",
    "    samp_complete = population.sample(n = 2500, \n",
    "                                 replace = False, \n",
    "                                 weights = 'sample_weight'\n",
    "                                 )\n",
    "    \n",
    "    # compute mean from complete data\n",
    "    estimates[i, 0] = samp_complete.requested.mean()\n",
    "    \n",
    "    # introduce missing values\n",
    "    samp_complete.loc[samp_complete.requested == 1, 'missing_weight'] = p_missing_request\n",
    "    samp_complete.loc[samp_complete.requested == 0, 'missing_weight'] = p_missing_nrequest\n",
    "\n",
    "    # make a copy of the sample\n",
    "    samp_incomplete = samp.copy()\n",
    "\n",
    "    # input missing values at random\n",
    "    samp_incomplete['missing'] = np.random.binomial(n = 1, p = samp_incomplete.missing_weight.values)\n",
    "    samp_incomplete.loc[samp_incomplete.missing == 1, 'requested'] = float('nan')\n",
    "    estimates[i, 1] = samp_incomplete.requested.mean()"
   ]
  },
  {
   "attachments": {},
   "cell_type": "markdown",
   "metadata": {},
   "source": [
    "Note that both an estimate with complete data (no missing values) and with incomplete data (with missing values that are dropped) are computed. This allows us to compute average errors with and without missingness, and thus, average excess error due to missingness."
   ]
  },
  {
   "cell_type": "code",
   "execution_count": 14,
   "metadata": {},
   "outputs": [
    {
     "name": "stdout",
     "output_type": "stream",
     "text": [
      "average estimate without missingness:  0.04469400000000001\n",
      "average estimate with missingness:  0.08155802934699397\n",
      "total bias:  0.07655802934699396\n",
      "bias due to sampling:  0.039694000000000014\n",
      "excess bias due to missingness:  0.036864029346993954\n"
     ]
    }
   ],
   "source": [
    "avg_estimates = 1 - np.mean(estimates, axis = 0)\n",
    "\n",
    "print('average estimate without missingness: ', avg_estimates[0])\n",
    "print('average estimate with missingness: ', avg_estimates[1])\n",
    "print('total bias: ', avg_estimates[1] - true_prop)\n",
    "print('bias due to sampling: ', avg_estimates[0] - true_prop)\n",
    "print('excess bias due to missingness: ', avg_estimates[1] - avg_estimates[0])\n",
    "\n"
   ]
  },
  {
   "attachments": {},
   "cell_type": "markdown",
   "metadata": {},
   "source": [
    "In terms of raw vote counts, these same quantities are:"
   ]
  },
  {
   "cell_type": "code",
   "execution_count": 15,
   "metadata": {},
   "outputs": [
    {
     "name": "stdout",
     "output_type": "stream",
     "text": [
      "average estimate without missingness:  6704.100000000001\n",
      "average estimate with missingness:  12233.704402049094\n",
      "total bias:  11483.704402049094\n",
      "bias due to sampling:  5954.100000000002\n",
      "excess bias due to missingness:  5529.604402049093\n"
     ]
    }
   ],
   "source": [
    "print('average estimate without missingness: ', N*avg_estimates[0])\n",
    "print('average estimate with missingness: ', N*avg_estimates[1])\n",
    "print('total bias: ', N*(avg_estimates[1] - true_prop))\n",
    "print('bias due to sampling: ', N*(avg_estimates[0] - true_prop))\n",
    "print('excess bias due to missingness: ', N*(avg_estimates[1] - avg_estimates[0]))\n",
    "\n"
   ]
  },
  {
   "attachments": {},
   "cell_type": "markdown",
   "metadata": {},
   "source": [
    "### Activity 2: tinker with missingness mechanism\n",
    "\n",
    "Go back and adjust the settings for inputting missing values. Choose a missingness factor and overall nonresponse rate that interest you. Some questions you could explore are:\n",
    "\n",
    "* what is the effect of a very high nonresponse rate with little differentiation between requesters and nonrequesters?\n",
    "* are there any missing data mechanisms that would actually *reduce* bias?\n",
    "* if the missing mechanism is similar to the sampling mechanism in how it favors nonrequesters, which has the larger effect?"
   ]
  },
  {
   "attachments": {},
   "cell_type": "markdown",
   "metadata": {},
   "source": [
    "## Extra credit assignment\n",
    "\n",
    "Design and carry out a simulation to further explore how bias due to sampling changes as a function of the factor by which respondents who did not request ballots are more likely to be interviewed. Ignore the potential impact of missing values and focus just on the sampling design.\n",
    "\n",
    "Fix an evenly-spaced grid of values for the talking factor between 1 and 25. For each value, simulate 1000 samples and calculate the estimate of the proportion of fraudulent/erroneous ballot requests for each sample. For each set of 1000 samples, store: (1) the average estimate; (2) the standard deviation of estimates. Plot the estimated bias (average estimate - true proportion) as a function of talking factor, and add uncertainty bands at $\\pm 2SD$. Repeat the entire procedure for overall response rates of $10\\%$, $20\\%$, and $30\\%$.\n",
    "\n",
    "Prepare and submit a notebook detailing the simulation study and briefly explaining the results."
   ]
  }
 ],
 "metadata": {
  "kernelspec": {
   "display_name": "base",
   "language": "python",
   "name": "python3"
  },
  "language_info": {
   "codemirror_mode": {
    "name": "ipython",
    "version": 3
   },
   "file_extension": ".py",
   "mimetype": "text/x-python",
   "name": "python",
   "nbconvert_exporter": "python",
   "pygments_lexer": "ipython3",
   "version": "3.9.12"
  },
  "orig_nbformat": 4
 },
 "nbformat": 4,
 "nbformat_minor": 2
}
